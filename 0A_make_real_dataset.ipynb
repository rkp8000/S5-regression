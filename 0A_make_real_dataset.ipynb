{
 "cells": [
  {
   "cell_type": "markdown",
   "id": "71f868bd-cd83-43ea-bd6b-25af5148a1a3",
   "metadata": {},
   "source": [
    "# Create a light dataset for testing classification and regression\n",
    "\n",
    "The input sequence is 9 floating values sampled from Gaussian white noise.\n",
    "\n",
    "The regression output is the dot product of an exponential with the input.\n",
    "\n",
    "The classification output is whether that dot product is positive or negative."
   ]
  },
  {
   "cell_type": "code",
   "execution_count": 1,
   "id": "6323a4e4-88d4-4b2f-a3c8-fd8007c05461",
   "metadata": {},
   "outputs": [],
   "source": [
    "from copy import deepcopy as copy\n",
    "import numpy as np\n",
    "import os\n",
    "import pandas as pd\n",
    "from scipy.signal import fftconvolve\n",
    "import sys"
   ]
  },
  {
   "cell_type": "code",
   "execution_count": 2,
   "id": "f2ab8edc-8724-4d71-bfa5-de64f20dfeac",
   "metadata": {},
   "outputs": [
    {
     "name": "stdout",
     "output_type": "stream",
     "text": [
      "[-0.76882451  0.3411574   0.10562655 -0.31120474  0.06795651 -0.5928674\n",
      "  0.77345355  0.50286729  0.08192337] -0.2883791423534312\n",
      "[ 0.68832503  0.88279488 -0.5330049   1.63388654  1.78347963  0.38800617\n",
      " -0.32580586  1.11570752 -1.52811886] 0.8274771375704637\n",
      "[ 1.20193241  0.9958307  -1.13117265  0.64836884  0.11839382 -0.33767145\n",
      "  0.70197304 -0.14462542  0.83435894] 0.7843192653972602\n",
      "[-1.14781134  0.39478843 -1.30026685  0.48107412  1.80825945  1.06122844\n",
      "  1.58110093 -0.11695383 -0.50463102] -0.44079153477614924\n",
      "[ 1.157079   -1.73068134 -0.07649314 -0.94747926 -0.33225091 -0.35835407\n",
      " -0.51568028 -0.32706524 -0.24559764] -0.12330675898242638\n",
      "[-1.47060612  0.23797227  0.15024652 -1.14751799  0.84681202 -0.92618798\n",
      " -0.65769954 -0.48370757 -0.4939125 ] -0.7724312298938907\n",
      "[-0.7307854  -0.91396043 -0.72938041 -0.53036072 -0.40239852 -1.46899791\n",
      "  1.35402085  0.53815518 -0.1995767 ] -0.8834135665150096\n",
      "[-0.994616   -0.04630716 -0.69149583 -0.75417332 -0.75401317 -0.23454565\n",
      "  1.07600578  0.3227735  -0.23735914] -0.7538475935626706\n",
      "[ 1.50872749 -0.60156439  0.04401826  0.87038522  0.03639003  0.60098393\n",
      " -1.71846658 -1.29075834  0.6413738 ] 0.6478658539220175\n",
      "[ 0.25377664 -0.05905598 -0.96232481  0.36395     0.30800697 -1.02113369\n",
      "  1.70022076  0.31607679 -0.37846442] -0.004863790242896925\n"
     ]
    }
   ],
   "source": [
    "if not os.path.exists('data_s5/real/clf/scrambled'):\n",
    "    os.makedirs('data_s5/real/clf/scrambled')\n",
    "if not os.path.exists('data_s5/real/rgr/scrambled'):\n",
    "    os.makedirs('data_s5/real/rgr/scrambled')\n",
    "    \n",
    "LOOK_BACK = 9\n",
    "\n",
    "NSEQ = 1000\n",
    "TAU = 2\n",
    "h = (1/TAU)*np.exp(-np.arange(9)/TAU)\n",
    "\n",
    "seqs = []\n",
    "targs = []\n",
    "\n",
    "for cseq in range(NSEQ):\n",
    "    seq = np.random.randn(LOOK_BACK)\n",
    "    seqs.append(seq)\n",
    "    \n",
    "    targ = h@seq\n",
    "    targs.append(targ)\n",
    "\n",
    "for idx_print in np.random.permutation(NSEQ)[:10]:\n",
    "    print(seqs[idx_print], targs[idx_print])\n",
    "    \n",
    "seqs = np.array(seqs)\n",
    "targs = np.array(targs)"
   ]
  },
  {
   "cell_type": "code",
   "execution_count": 3,
   "id": "31a63349-97e5-4cc0-8094-b39d29d9e6d0",
   "metadata": {},
   "outputs": [],
   "source": [
    "PFXS = ['clf', 'rgr']"
   ]
  },
  {
   "cell_type": "code",
   "execution_count": 4,
   "id": "05c567b3-2d97-41a8-96ba-daf3a9c99008",
   "metadata": {},
   "outputs": [
    {
     "name": "stdout",
     "output_type": "stream",
     "text": [
      "pfx: clf\n",
      "pfx: rgr\n"
     ]
    }
   ],
   "source": [
    "columns = ['target', 'input_seq']\n",
    "\n",
    "paths_all = []\n",
    "\n",
    "for pfx in PFXS:\n",
    "    sys.stdout.write(f'pfx: {pfx}')\n",
    "    \n",
    "    input_seqs = copy(seqs)\n",
    "    targets = copy(targs)\n",
    "    \n",
    "    if pfx == 'clf':\n",
    "        targets = (targets > 0).astype(int)\n",
    "        \n",
    "    data_dicts = []\n",
    "    \n",
    "    for input_seq, target in zip(input_seqs, targets):\n",
    "        data_dict = {'target': target, 'input_seq': ','.join([f'{val}' for val in input_seq])}\n",
    "        data_dicts.append(data_dict)\n",
    "\n",
    "    print('')\n",
    "    df = pd.DataFrame(columns=columns, data=data_dicts)\n",
    "    path = f'data_s5/real/{pfx}/full.tsv'\n",
    "    df.to_csv(path, sep='\\t', index=False, header=False)\n",
    "\n",
    "    paths_all.append(path)\n",
    "    \n",
    "    # scrambled version\n",
    "    data_dicts_scrambled = []\n",
    "    \n",
    "    for input_seq, target in zip(input_seqs, targets[np.random.permutation(len(targets))]):\n",
    "        data_dict_scrambled = {'target': target, 'input_seq': ','.join([f'{val}' for val in input_seq])}\n",
    "        data_dicts_scrambled.append(data_dict_scrambled)\n",
    "        \n",
    "    df_scrambled = pd.DataFrame(columns=columns, data=data_dicts_scrambled)\n",
    "    path_scrambled = f'data_s5/real/{pfx}/scrambled/full.tsv'\n",
    "    df_scrambled.to_csv(path_scrambled, sep='\\t', index=False, header=False)\n",
    "\n",
    "    paths_all.append(path_scrambled)"
   ]
  },
  {
   "cell_type": "code",
   "execution_count": 5,
   "id": "9c39935c-f498-43a3-823d-515186893a05",
   "metadata": {},
   "outputs": [
    {
     "name": "stdout",
     "output_type": "stream",
     "text": [
      "Loading data_s5/real/clf/full.tsv...\n",
      "Loading data_s5/real/clf/scrambled/full.tsv...\n",
      "Loading data_s5/real/rgr/full.tsv...\n",
      "Loading data_s5/real/rgr/scrambled/full.tsv...\n"
     ]
    }
   ],
   "source": [
    "for path in paths_all:\n",
    "    sys.stdout.write(f'Loading {path}...\\n')\n",
    "    df = pd.read_csv(path, sep='\\t', header=None)\n",
    "\n",
    "    # split into training, val, and test (here val and test are same)\n",
    "    nrow_train = int(len(df)*.8)\n",
    "    df_train = df.iloc[:nrow_train, :]\n",
    "    df_val = df.iloc[nrow_train:, :]\n",
    "    df_test = df.iloc[nrow_train:, :]\n",
    "\n",
    "    df_train.to_csv(path[:-8] + 'train.tsv', sep='\\t', header=False, index=False)\n",
    "    df_val.to_csv(path[:-8] + 'val.tsv', sep='\\t', header=False, index=False)\n",
    "    df_test.to_csv(path[:-8] + 'test.tsv', sep='\\t', header=False, index=False)"
   ]
  },
  {
   "cell_type": "code",
   "execution_count": null,
   "id": "39ccfcb8-60ec-4ad3-9c4f-2bf27067fbc4",
   "metadata": {},
   "outputs": [],
   "source": []
  }
 ],
 "metadata": {
  "kernelspec": {
   "display_name": "s5-gpu [~/.conda/envs/s5-gpu/]",
   "language": "python",
   "name": "conda_s5-gpu"
  },
  "language_info": {
   "codemirror_mode": {
    "name": "ipython",
    "version": 3
   },
   "file_extension": ".py",
   "mimetype": "text/x-python",
   "name": "python",
   "nbconvert_exporter": "python",
   "pygments_lexer": "ipython3",
   "version": "3.11.4"
  }
 },
 "nbformat": 4,
 "nbformat_minor": 5
}
