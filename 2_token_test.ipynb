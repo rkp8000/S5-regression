{
 "cells": [
  {
   "cell_type": "markdown",
   "id": "2ad1d401-a1ae-47e4-bcfa-a3fe03890a39",
   "metadata": {},
   "source": [
    "# S5 classification and regression test on symbol sequences\n",
    "\n",
    "The input sequence is a 9-char sequence of A, B, C, e.g. BCACBAACB.\n",
    "\n",
    "The classification target (output) is whether there are at least 5 A's, e.g.\n",
    "\n",
    "BCACBAACB -> 0\n",
    "\n",
    "ACACAAACB -> 1\n",
    "\n",
    "The regression target is the number of A's divided by 9, e.g.\n",
    "\n",
    "BCACBAACB -> .3333...\n",
    "\n",
    "ACACAAACB -> .5555...\n",
    "\n",
    "AAAAAAAAA -> 1."
   ]
  },
  {
   "cell_type": "code",
   "execution_count": 1,
   "id": "c12d6687-22d2-4d7f-983c-03f4defaa48d",
   "metadata": {},
   "outputs": [
    {
     "name": "stdout",
     "output_type": "stream",
     "text": [
      "Using gpu\n"
     ]
    }
   ],
   "source": [
    "import matplotlib.pyplot as plt\n",
    "import numpy as np\n",
    "from scipy import stats\n",
    "import os\n",
    "\n",
    "import jax\n",
    "print('Using', jax.devices()[0].platform)\n",
    "\n",
    "from disp import get_line, set_color, set_plot\n",
    "from run_train import TrainArgs, train\n",
    "\n",
    "cc = np.concatenate\n",
    "\n",
    "if not os.path.exists('epochs_clf'):\n",
    "    os.makedirs('epochs_clf')\n",
    "if not os.path.exists('epochs_rgr'):\n",
    "    os.makedirs('epochs_rgr')"
   ]
  },
  {
   "cell_type": "markdown",
   "id": "5637c671-b65a-4e23-9dff-31635cf3c77d",
   "metadata": {},
   "source": [
    "## Classification test"
   ]
  },
  {
   "cell_type": "code",
   "execution_count": 2,
   "id": "dfc56462-fdba-484c-b05d-531e59ea1410",
   "metadata": {},
   "outputs": [
    {
     "name": "stdout",
     "output_type": "stream",
     "text": [
      "Deleting saved epoch files from epochs_clf...\n",
      "[*] Setting Randomness...\n",
      "[*] Generating Token Sequence Classification Dataset\n"
     ]
    },
    {
     "data": {
      "application/vnd.jupyter.widget-view+json": {
       "model_id": "4aa8e9095e1245aca8c1d84afc2a53e1",
       "version_major": 2,
       "version_minor": 0
      },
      "text/plain": [
       "Downloading data files:   0%|          | 0/3 [00:00<?, ?it/s]"
      ]
     },
     "metadata": {},
     "output_type": "display_data"
    },
    {
     "data": {
      "application/vnd.jupyter.widget-view+json": {
       "model_id": "6551e8474bdc44b9ac9cfe7258d9b22b",
       "version_major": 2,
       "version_minor": 0
      },
      "text/plain": [
       "Extracting data files:   0%|          | 0/3 [00:00<?, ?it/s]"
      ]
     },
     "metadata": {},
     "output_type": "display_data"
    },
    {
     "data": {
      "application/vnd.jupyter.widget-view+json": {
       "model_id": "e41bbab924674b3eacd32a73ae84a1b7",
       "version_major": 2,
       "version_minor": 0
      },
      "text/plain": [
       "Generating train split: 0 examples [00:00, ? examples/s]"
      ]
     },
     "metadata": {},
     "output_type": "display_data"
    },
    {
     "name": "stderr",
     "output_type": "stream",
     "text": [
      "/home/rp21/.conda/envs/s5-gpu-test/lib/python3.11/site-packages/datasets/download/streaming_download_manager.py:765: FutureWarning: The 'verbose' keyword in pd.read_csv is deprecated and will be removed in a future version.\n",
      "  return pd.read_csv(xopen(filepath_or_buffer, \"rb\", download_config=download_config), **kwargs)\n"
     ]
    },
    {
     "data": {
      "application/vnd.jupyter.widget-view+json": {
       "model_id": "98dd09794ca84810ac75710ede867bba",
       "version_major": 2,
       "version_minor": 0
      },
      "text/plain": [
       "Generating val split: 0 examples [00:00, ? examples/s]"
      ]
     },
     "metadata": {},
     "output_type": "display_data"
    },
    {
     "name": "stderr",
     "output_type": "stream",
     "text": [
      "/home/rp21/.conda/envs/s5-gpu-test/lib/python3.11/site-packages/datasets/download/streaming_download_manager.py:765: FutureWarning: The 'verbose' keyword in pd.read_csv is deprecated and will be removed in a future version.\n",
      "  return pd.read_csv(xopen(filepath_or_buffer, \"rb\", download_config=download_config), **kwargs)\n"
     ]
    },
    {
     "data": {
      "application/vnd.jupyter.widget-view+json": {
       "model_id": "9648b5a390da4058b5494187cfff9627",
       "version_major": 2,
       "version_minor": 0
      },
      "text/plain": [
       "Generating test split: 0 examples [00:00, ? examples/s]"
      ]
     },
     "metadata": {},
     "output_type": "display_data"
    },
    {
     "name": "stderr",
     "output_type": "stream",
     "text": [
      "/home/rp21/.conda/envs/s5-gpu-test/lib/python3.11/site-packages/datasets/download/streaming_download_manager.py:765: FutureWarning: The 'verbose' keyword in pd.read_csv is deprecated and will be removed in a future version.\n",
      "  return pd.read_csv(xopen(filepath_or_buffer, \"rb\", download_config=download_config), **kwargs)\n"
     ]
    },
    {
     "data": {
      "application/vnd.jupyter.widget-view+json": {
       "model_id": "e45f1bc0805847e0bccab4cbc9fd037d",
       "version_major": 2,
       "version_minor": 0
      },
      "text/plain": [
       "Casting the dataset:   0%|          | 0/800 [00:00<?, ? examples/s]"
      ]
     },
     "metadata": {},
     "output_type": "display_data"
    },
    {
     "data": {
      "application/vnd.jupyter.widget-view+json": {
       "model_id": "ad4d11c36d7c4281a682f168515b222c",
       "version_major": 2,
       "version_minor": 0
      },
      "text/plain": [
       "Casting the dataset:   0%|          | 0/200 [00:00<?, ? examples/s]"
      ]
     },
     "metadata": {},
     "output_type": "display_data"
    },
    {
     "data": {
      "application/vnd.jupyter.widget-view+json": {
       "model_id": "30919202ed1f4bd685333029726dcf0a",
       "version_major": 2,
       "version_minor": 0
      },
      "text/plain": [
       "Casting the dataset:   0%|          | 0/200 [00:00<?, ? examples/s]"
      ]
     },
     "metadata": {},
     "output_type": "display_data"
    },
    {
     "data": {
      "application/vnd.jupyter.widget-view+json": {
       "model_id": "6bb6ecfb9e664f109ea71a276a60c40a",
       "version_major": 2,
       "version_minor": 0
      },
      "text/plain": [
       "Map:   0%|          | 0/800 [00:00<?, ? examples/s]"
      ]
     },
     "metadata": {},
     "output_type": "display_data"
    },
    {
     "data": {
      "application/vnd.jupyter.widget-view+json": {
       "model_id": "5341948430da4873843e792f559d2df3",
       "version_major": 2,
       "version_minor": 0
      },
      "text/plain": [
       "Map:   0%|          | 0/200 [00:00<?, ? examples/s]"
      ]
     },
     "metadata": {},
     "output_type": "display_data"
    },
    {
     "data": {
      "application/vnd.jupyter.widget-view+json": {
       "model_id": "c8ff0a03e3b5413d8400926f8b631dae",
       "version_major": 2,
       "version_minor": 0
      },
      "text/plain": [
       "Map:   0%|          | 0/200 [00:00<?, ? examples/s]"
      ]
     },
     "metadata": {},
     "output_type": "display_data"
    },
    {
     "data": {
      "application/vnd.jupyter.widget-view+json": {
       "model_id": "237c0c019f8f48948305e607d4878ad1",
       "version_major": 2,
       "version_minor": 0
      },
      "text/plain": [
       "Map:   0%|          | 0/800 [00:00<?, ? examples/s]"
      ]
     },
     "metadata": {},
     "output_type": "display_data"
    },
    {
     "data": {
      "application/vnd.jupyter.widget-view+json": {
       "model_id": "84ef2183db9e44a485eb3d0cd5362f9a",
       "version_major": 2,
       "version_minor": 0
      },
      "text/plain": [
       "Map:   0%|          | 0/200 [00:00<?, ? examples/s]"
      ]
     },
     "metadata": {},
     "output_type": "display_data"
    },
    {
     "data": {
      "application/vnd.jupyter.widget-view+json": {
       "model_id": "a50e0ca9189e41bcbde8e46e65eb6d0f",
       "version_major": 2,
       "version_minor": 0
      },
      "text/plain": [
       "Map:   0%|          | 0/200 [00:00<?, ? examples/s]"
      ]
     },
     "metadata": {},
     "output_type": "display_data"
    },
    {
     "data": {
      "application/vnd.jupyter.widget-view+json": {
       "model_id": "e6a75722cc2b4ee09b6e4b9fdda358b9",
       "version_major": 2,
       "version_minor": 0
      },
      "text/plain": [
       "Saving the dataset (0/1 shards):   0%|          | 0/800 [00:00<?, ? examples/s]"
      ]
     },
     "metadata": {},
     "output_type": "display_data"
    },
    {
     "data": {
      "application/vnd.jupyter.widget-view+json": {
       "model_id": "79c9f22a94e2446eb2e7684e4bc8449b",
       "version_major": 2,
       "version_minor": 0
      },
      "text/plain": [
       "Saving the dataset (0/1 shards):   0%|          | 0/200 [00:00<?, ? examples/s]"
      ]
     },
     "metadata": {},
     "output_type": "display_data"
    },
    {
     "data": {
      "application/vnd.jupyter.widget-view+json": {
       "model_id": "68d1d75e88ea46c8bb5cc144a238fb0f",
       "version_major": 2,
       "version_minor": 0
      },
      "text/plain": [
       "Saving the dataset (0/1 shards):   0%|          | 0/200 [00:00<?, ? examples/s]"
      ]
     },
     "metadata": {},
     "output_type": "display_data"
    },
    {
     "name": "stdout",
     "output_type": "stream",
     "text": [
      "Vcab size: 6\n",
      "[*] Starting S5 clf_token training on `token/clf` =>> Initializing...\n",
      "Lambda.shape=(32,)\n",
      "V.shape=(64, 32)\n",
      "Vinv.shape=(32, 64)\n",
      "configuring standard optimization setup\n",
      "[*] Trainable Parameters: 1802\n"
     ]
    },
    {
     "name": "stderr",
     "output_type": "stream",
     "text": [
      "/scratch/gpfs/rp21/s5-della/s5/train_helpers.py:244: FutureWarning: jax.tree_leaves is deprecated, and will be removed in a future release. Use jax.tree_util.tree_leaves instead.\n",
      "  print(f\"[*] Trainable Parameters: {sum(jax.tree_leaves(param_sizes))}\")\n"
     ]
    },
    {
     "name": "stdout",
     "output_type": "stream",
     "text": [
      "[*] Starting Training Epoch 1...\n",
      "using constant lr for epoch 1\n"
     ]
    },
    {
     "name": "stderr",
     "output_type": "stream",
     "text": [
      "100%|██████████| 25/25 [00:02<00:00, 10.11it/s]\n"
     ]
    },
    {
     "name": "stdout",
     "output_type": "stream",
     "text": [
      "[*] Running Epoch 1 Validation...\n"
     ]
    },
    {
     "name": "stderr",
     "output_type": "stream",
     "text": [
      "100%|██████████| 7/7 [00:02<00:00,  2.39it/s]\n"
     ]
    },
    {
     "name": "stdout",
     "output_type": "stream",
     "text": [
      "[*] Running Epoch 1 Test...\n"
     ]
    },
    {
     "name": "stderr",
     "output_type": "stream",
     "text": [
      "100%|██████████| 7/7 [00:00<00:00, 418.13it/s]\n"
     ]
    },
    {
     "name": "stdout",
     "output_type": "stream",
     "text": [
      "\n",
      "=>> Epoch 1 Metrics ===\n",
      "\tTrain Loss: 0.43866 -- Val Loss: 0.47687 --Test Loss: 0.47687 -- Val Accuracy: 0.8750 -- Test Accuracy: 0.8750\n",
      "\tBest Val Loss: 0.47687 -- Best Val Accuracy: 0.8750 at Epoch 1\n",
      "\tBest Test Loss: 0.47687 -- Best Test Accuracy: 0.8750 at Epoch 1\n",
      "\n",
      "[*] Starting Training Epoch 2...\n",
      "using constant lr for epoch 2\n"
     ]
    },
    {
     "name": "stderr",
     "output_type": "stream",
     "text": [
      "100%|██████████| 25/25 [00:00<00:00, 297.07it/s]\n"
     ]
    },
    {
     "name": "stdout",
     "output_type": "stream",
     "text": [
      "[*] Running Epoch 2 Validation...\n"
     ]
    },
    {
     "name": "stderr",
     "output_type": "stream",
     "text": [
      "100%|██████████| 7/7 [00:00<00:00, 431.39it/s]\n"
     ]
    },
    {
     "name": "stdout",
     "output_type": "stream",
     "text": [
      "[*] Running Epoch 2 Test...\n"
     ]
    },
    {
     "name": "stderr",
     "output_type": "stream",
     "text": [
      "100%|██████████| 7/7 [00:00<00:00, 433.83it/s]\n"
     ]
    },
    {
     "name": "stdout",
     "output_type": "stream",
     "text": [
      "\n",
      "=>> Epoch 2 Metrics ===\n",
      "\tTrain Loss: 0.27697 -- Val Loss: 0.28046 --Test Loss: 0.28046 -- Val Accuracy: 0.8900 -- Test Accuracy: 0.8900\n",
      "\tBest Val Loss: 0.28046 -- Best Val Accuracy: 0.8900 at Epoch 2\n",
      "\tBest Test Loss: 0.28046 -- Best Test Accuracy: 0.8900 at Epoch 2\n",
      "\n",
      "[*] Starting Training Epoch 3...\n",
      "using constant lr for epoch 3\n"
     ]
    },
    {
     "name": "stderr",
     "output_type": "stream",
     "text": [
      "100%|██████████| 25/25 [00:00<00:00, 291.91it/s]\n"
     ]
    },
    {
     "name": "stdout",
     "output_type": "stream",
     "text": [
      "[*] Running Epoch 3 Validation...\n"
     ]
    },
    {
     "name": "stderr",
     "output_type": "stream",
     "text": [
      "100%|██████████| 7/7 [00:00<00:00, 421.28it/s]\n"
     ]
    },
    {
     "name": "stdout",
     "output_type": "stream",
     "text": [
      "[*] Running Epoch 3 Test...\n"
     ]
    },
    {
     "name": "stderr",
     "output_type": "stream",
     "text": [
      "100%|██████████| 7/7 [00:00<00:00, 438.12it/s]\n"
     ]
    },
    {
     "name": "stdout",
     "output_type": "stream",
     "text": [
      "\n",
      "=>> Epoch 3 Metrics ===\n",
      "\tTrain Loss: 0.14337 -- Val Loss: 0.12211 --Test Loss: 0.12211 -- Val Accuracy: 0.9950 -- Test Accuracy: 0.9950\n",
      "\tBest Val Loss: 0.12211 -- Best Val Accuracy: 0.9950 at Epoch 3\n",
      "\tBest Test Loss: 0.12211 -- Best Test Accuracy: 0.9950 at Epoch 3\n",
      "\n",
      "[*] Starting Training Epoch 4...\n",
      "using constant lr for epoch 4\n"
     ]
    },
    {
     "name": "stderr",
     "output_type": "stream",
     "text": [
      "100%|██████████| 25/25 [00:00<00:00, 290.10it/s]\n"
     ]
    },
    {
     "name": "stdout",
     "output_type": "stream",
     "text": [
      "[*] Running Epoch 4 Validation...\n"
     ]
    },
    {
     "name": "stderr",
     "output_type": "stream",
     "text": [
      "100%|██████████| 7/7 [00:00<00:00, 443.17it/s]\n"
     ]
    },
    {
     "name": "stdout",
     "output_type": "stream",
     "text": [
      "[*] Running Epoch 4 Test...\n"
     ]
    },
    {
     "name": "stderr",
     "output_type": "stream",
     "text": [
      "100%|██████████| 7/7 [00:00<00:00, 435.58it/s]\n"
     ]
    },
    {
     "name": "stdout",
     "output_type": "stream",
     "text": [
      "\n",
      "=>> Epoch 4 Metrics ===\n",
      "\tTrain Loss: 0.08092 -- Val Loss: 0.06087 --Test Loss: 0.06087 -- Val Accuracy: 1.0000 -- Test Accuracy: 1.0000\n",
      "\tBest Val Loss: 0.06087 -- Best Val Accuracy: 1.0000 at Epoch 4\n",
      "\tBest Test Loss: 0.06087 -- Best Test Accuracy: 1.0000 at Epoch 4\n",
      "\n",
      "[*] Starting Training Epoch 5...\n",
      "using constant lr for epoch 5\n"
     ]
    },
    {
     "name": "stderr",
     "output_type": "stream",
     "text": [
      "100%|██████████| 25/25 [00:00<00:00, 292.67it/s]\n"
     ]
    },
    {
     "name": "stdout",
     "output_type": "stream",
     "text": [
      "[*] Running Epoch 5 Validation...\n"
     ]
    },
    {
     "name": "stderr",
     "output_type": "stream",
     "text": [
      "100%|██████████| 7/7 [00:00<00:00, 445.53it/s]\n"
     ]
    },
    {
     "name": "stdout",
     "output_type": "stream",
     "text": [
      "[*] Running Epoch 5 Test...\n"
     ]
    },
    {
     "name": "stderr",
     "output_type": "stream",
     "text": [
      "100%|██████████| 7/7 [00:00<00:00, 443.14it/s]\n"
     ]
    },
    {
     "name": "stdout",
     "output_type": "stream",
     "text": [
      "\n",
      "=>> Epoch 5 Metrics ===\n",
      "\tTrain Loss: 0.06611 -- Val Loss: 0.03575 --Test Loss: 0.03575 -- Val Accuracy: 1.0000 -- Test Accuracy: 1.0000\n",
      "\tBest Val Loss: 0.03575 -- Best Val Accuracy: 1.0000 at Epoch 4\n",
      "\tBest Test Loss: 0.06087 -- Best Test Accuracy: 1.0000 at Epoch 4\n",
      "\n",
      "[*] Starting Training Epoch 6...\n",
      "using constant lr for epoch 6\n"
     ]
    },
    {
     "name": "stderr",
     "output_type": "stream",
     "text": [
      "100%|██████████| 25/25 [00:00<00:00, 287.60it/s]\n"
     ]
    },
    {
     "name": "stdout",
     "output_type": "stream",
     "text": [
      "[*] Running Epoch 6 Validation...\n"
     ]
    },
    {
     "name": "stderr",
     "output_type": "stream",
     "text": [
      "100%|██████████| 7/7 [00:00<00:00, 451.64it/s]\n"
     ]
    },
    {
     "name": "stdout",
     "output_type": "stream",
     "text": [
      "[*] Running Epoch 6 Test...\n"
     ]
    },
    {
     "name": "stderr",
     "output_type": "stream",
     "text": [
      "100%|██████████| 7/7 [00:00<00:00, 444.43it/s]\n"
     ]
    },
    {
     "name": "stdout",
     "output_type": "stream",
     "text": [
      "\n",
      "=>> Epoch 6 Metrics ===\n",
      "\tTrain Loss: 0.08496 -- Val Loss: 0.03188 --Test Loss: 0.03188 -- Val Accuracy: 1.0000 -- Test Accuracy: 1.0000\n",
      "\tBest Val Loss: 0.03188 -- Best Val Accuracy: 1.0000 at Epoch 4\n",
      "\tBest Test Loss: 0.06087 -- Best Test Accuracy: 1.0000 at Epoch 4\n",
      "\n",
      "[*] Starting Training Epoch 7...\n",
      "using constant lr for epoch 7\n"
     ]
    },
    {
     "name": "stderr",
     "output_type": "stream",
     "text": [
      "100%|██████████| 25/25 [00:00<00:00, 293.11it/s]\n"
     ]
    },
    {
     "name": "stdout",
     "output_type": "stream",
     "text": [
      "[*] Running Epoch 7 Validation...\n"
     ]
    },
    {
     "name": "stderr",
     "output_type": "stream",
     "text": [
      "100%|██████████| 7/7 [00:00<00:00, 441.03it/s]\n"
     ]
    },
    {
     "name": "stdout",
     "output_type": "stream",
     "text": [
      "[*] Running Epoch 7 Test...\n"
     ]
    },
    {
     "name": "stderr",
     "output_type": "stream",
     "text": [
      "100%|██████████| 7/7 [00:00<00:00, 455.74it/s]\n"
     ]
    },
    {
     "name": "stdout",
     "output_type": "stream",
     "text": [
      "\n",
      "=>> Epoch 7 Metrics ===\n",
      "\tTrain Loss: 0.05178 -- Val Loss: 0.02553 --Test Loss: 0.02553 -- Val Accuracy: 1.0000 -- Test Accuracy: 1.0000\n",
      "\tBest Val Loss: 0.02553 -- Best Val Accuracy: 1.0000 at Epoch 4\n",
      "\tBest Test Loss: 0.06087 -- Best Test Accuracy: 1.0000 at Epoch 4\n",
      "\n",
      "[*] Starting Training Epoch 8...\n",
      "using constant lr for epoch 8\n"
     ]
    },
    {
     "name": "stderr",
     "output_type": "stream",
     "text": [
      "100%|██████████| 25/25 [00:00<00:00, 292.57it/s]\n"
     ]
    },
    {
     "name": "stdout",
     "output_type": "stream",
     "text": [
      "[*] Running Epoch 8 Validation...\n"
     ]
    },
    {
     "name": "stderr",
     "output_type": "stream",
     "text": [
      "100%|██████████| 7/7 [00:00<00:00, 452.82it/s]\n"
     ]
    },
    {
     "name": "stdout",
     "output_type": "stream",
     "text": [
      "[*] Running Epoch 8 Test...\n"
     ]
    },
    {
     "name": "stderr",
     "output_type": "stream",
     "text": [
      "100%|██████████| 7/7 [00:00<00:00, 441.04it/s]\n"
     ]
    },
    {
     "name": "stdout",
     "output_type": "stream",
     "text": [
      "\n",
      "=>> Epoch 8 Metrics ===\n",
      "\tTrain Loss: 0.07716 -- Val Loss: 0.02273 --Test Loss: 0.02273 -- Val Accuracy: 1.0000 -- Test Accuracy: 1.0000\n",
      "\tBest Val Loss: 0.02273 -- Best Val Accuracy: 1.0000 at Epoch 4\n",
      "\tBest Test Loss: 0.06087 -- Best Test Accuracy: 1.0000 at Epoch 4\n",
      "\n",
      "[*] Starting Training Epoch 9...\n",
      "using constant lr for epoch 9\n"
     ]
    },
    {
     "name": "stderr",
     "output_type": "stream",
     "text": [
      "100%|██████████| 25/25 [00:00<00:00, 292.44it/s]\n"
     ]
    },
    {
     "name": "stdout",
     "output_type": "stream",
     "text": [
      "[*] Running Epoch 9 Validation...\n"
     ]
    },
    {
     "name": "stderr",
     "output_type": "stream",
     "text": [
      "100%|██████████| 7/7 [00:00<00:00, 422.18it/s]\n"
     ]
    },
    {
     "name": "stdout",
     "output_type": "stream",
     "text": [
      "[*] Running Epoch 9 Test...\n"
     ]
    },
    {
     "name": "stderr",
     "output_type": "stream",
     "text": [
      "100%|██████████| 7/7 [00:00<00:00, 460.40it/s]\n"
     ]
    },
    {
     "name": "stdout",
     "output_type": "stream",
     "text": [
      "\n",
      "=>> Epoch 9 Metrics ===\n",
      "\tTrain Loss: 0.05337 -- Val Loss: 0.02216 --Test Loss: 0.02216 -- Val Accuracy: 1.0000 -- Test Accuracy: 1.0000\n",
      "\tBest Val Loss: 0.02216 -- Best Val Accuracy: 1.0000 at Epoch 4\n",
      "\tBest Test Loss: 0.06087 -- Best Test Accuracy: 1.0000 at Epoch 4\n",
      "\n",
      "[*] Starting Training Epoch 10...\n",
      "using constant lr for epoch 10\n"
     ]
    },
    {
     "name": "stderr",
     "output_type": "stream",
     "text": [
      "100%|██████████| 25/25 [00:00<00:00, 293.66it/s]\n"
     ]
    },
    {
     "name": "stdout",
     "output_type": "stream",
     "text": [
      "[*] Running Epoch 10 Validation...\n"
     ]
    },
    {
     "name": "stderr",
     "output_type": "stream",
     "text": [
      "100%|██████████| 7/7 [00:00<00:00, 435.41it/s]\n"
     ]
    },
    {
     "name": "stdout",
     "output_type": "stream",
     "text": [
      "[*] Running Epoch 10 Test...\n"
     ]
    },
    {
     "name": "stderr",
     "output_type": "stream",
     "text": [
      "100%|██████████| 7/7 [00:00<00:00, 437.20it/s]"
     ]
    },
    {
     "name": "stdout",
     "output_type": "stream",
     "text": [
      "\n",
      "=>> Epoch 10 Metrics ===\n",
      "\tTrain Loss: 0.05319 -- Val Loss: 0.01797 --Test Loss: 0.01797 -- Val Accuracy: 1.0000 -- Test Accuracy: 1.0000\n",
      "\tBest Val Loss: 0.01797 -- Best Val Accuracy: 1.0000 at Epoch 4\n",
      "\tBest Test Loss: 0.06087 -- Best Test Accuracy: 1.0000 at Epoch 4\n",
      "\n"
     ]
    },
    {
     "name": "stderr",
     "output_type": "stream",
     "text": [
      "\n"
     ]
    }
   ],
   "source": [
    "DATA_DIR = 'token/clf'\n",
    "# DATA_DIR = os.path.join(DATA_DIR, 'scrambled')  # use scrambled data (control)\n",
    "\n",
    "args = TrainArgs(\n",
    "    C_init='trunc_standard_normal', batchnorm=True, bidirectional=True,\n",
    "    epoch_save_dir=\"epochs_clf\", save_training=1, \n",
    "    blocks=16, bsz=32, d_model=8, clear_cache=True, data_dir=DATA_DIR,\n",
    "    problem_type='clf_token', dt_global=True, epochs=10, jax_seed=5464358, lr_factor=2, n_layers=1,\n",
    "    opt_config='standard', p_dropout=0.0, ssm_lr_base=0.001, ssm_size_base=64,\n",
    "    warmup_end=0, weight_decay=0.05, cosine_anneal=False)\n",
    "\n",
    "train(args)"
   ]
  },
  {
   "cell_type": "code",
   "execution_count": 3,
   "id": "1ba504b6-d250-4304-83d5-d883980f5732",
   "metadata": {},
   "outputs": [
    {
     "data": {
      "image/png": "[encoded data removed]",
      "text/plain": [
       "<Figure size 1000x400 with 10 Axes>"
      ]
     },
     "metadata": {},
     "output_type": "display_data"
    },
    {
     "data": {
      "image/png": "[encoded data removed]",
      "text/plain": [
       "<Figure size 300x250 with 1 Axes>"
      ]
     },
     "metadata": {},
     "output_type": "display_data"
    }
   ],
   "source": [
    "from disp import colors\n",
    "\n",
    "# load results\n",
    "fig, axs = plt.subplots(2, 5, figsize=(10, 4), tight_layout=True)\n",
    "\n",
    "train_losses = []\n",
    "val_losses = []\n",
    "\n",
    "for cepoch, ax in enumerate(axs.flatten()):\n",
    "    data = np.load(f'epochs_clf/epoch_{cepoch}.npy', allow_pickle=True)[0]\n",
    "    \n",
    "    targs = data['val_targ']\n",
    "    preds = data['val_pred']\n",
    "    \n",
    "    acc = np.mean(targs == preds.argmax(1))\n",
    "    \n",
    "    labels = np.sort(np.unique(targs))\n",
    "    y_ticks = []\n",
    "    \n",
    "    for clabel_0, label_0 in enumerate(labels):\n",
    "        for clabel_1, label_1 in enumerate(labels):\n",
    "            logits = preds[targs==label_0, clabel_1]\n",
    "            display_jitter = .02*np.random.randn(len(logits))\n",
    "            ax.scatter(logits, np.zeros(len(logits)) + clabel_0 + .8*clabel_1/len(labels) + display_jitter, c=colors[clabel_1], s=5)\n",
    "            \n",
    "        y_ticks.append(clabel_0 + .2)\n",
    "    \n",
    "    set_plot(ax, y_ticks=y_ticks, y_tick_labels=labels, x_label='Logits', y_label='True label', title=f'Epoch {cepoch+1} (acc {acc:.2f})')\n",
    "    \n",
    "    train_losses.append(data['train_loss'])\n",
    "    val_losses.append(data['val_loss'])\n",
    "    \n",
    "fig, ax = plt.subplots(1, 1, figsize=(3, 2.5), tight_layout=True)\n",
    "ax.plot(train_losses, c='b')\n",
    "ax.plot(val_losses, c='orange')\n",
    "ax.legend(['Train', 'Val'])\n",
    "set_plot(ax, x_label='Epoch', y_label='Loss')"
   ]
  },
  {
   "cell_type": "markdown",
   "id": "2fcb909e-dea3-4ff8-8a96-2882d319778c",
   "metadata": {},
   "source": [
    "# Regression test"
   ]
  },
  {
   "cell_type": "code",
   "execution_count": 4,
   "id": "fc9403d1-54ae-49fc-9623-1547bcd4041b",
   "metadata": {},
   "outputs": [
    {
     "name": "stdout",
     "output_type": "stream",
     "text": [
      "Deleting saved epoch files from epochs_rgr...\n",
      "[*] Setting Randomness...\n",
      "[*] Generating Token Sequence Regression Dataset\n"
     ]
    },
    {
     "data": {
      "application/vnd.jupyter.widget-view+json": {
       "model_id": "8e304ec58ab94a31bd2ff261d303ec61",
       "version_major": 2,
       "version_minor": 0
      },
      "text/plain": [
       "Downloading data files:   0%|          | 0/3 [00:00<?, ?it/s]"
      ]
     },
     "metadata": {},
     "output_type": "display_data"
    },
    {
     "data": {
      "application/vnd.jupyter.widget-view+json": {
       "model_id": "78723f05d586497d827afd270f2e589a",
       "version_major": 2,
       "version_minor": 0
      },
      "text/plain": [
       "Extracting data files:   0%|          | 0/3 [00:00<?, ?it/s]"
      ]
     },
     "metadata": {},
     "output_type": "display_data"
    },
    {
     "data": {
      "application/vnd.jupyter.widget-view+json": {
       "model_id": "afd52234b6764bef80725fe48558de12",
       "version_major": 2,
       "version_minor": 0
      },
      "text/plain": [
       "Generating train split: 0 examples [00:00, ? examples/s]"
      ]
     },
     "metadata": {},
     "output_type": "display_data"
    },
    {
     "name": "stderr",
     "output_type": "stream",
     "text": [
      "/home/rp21/.conda/envs/s5-gpu-test/lib/python3.11/site-packages/datasets/download/streaming_download_manager.py:765: FutureWarning: The 'verbose' keyword in pd.read_csv is deprecated and will be removed in a future version.\n",
      "  return pd.read_csv(xopen(filepath_or_buffer, \"rb\", download_config=download_config), **kwargs)\n"
     ]
    },
    {
     "data": {
      "application/vnd.jupyter.widget-view+json": {
       "model_id": "986f3fae83274cb7833739dbef067e9a",
       "version_major": 2,
       "version_minor": 0
      },
      "text/plain": [
       "Generating val split: 0 examples [00:00, ? examples/s]"
      ]
     },
     "metadata": {},
     "output_type": "display_data"
    },
    {
     "name": "stderr",
     "output_type": "stream",
     "text": [
      "/home/rp21/.conda/envs/s5-gpu-test/lib/python3.11/site-packages/datasets/download/streaming_download_manager.py:765: FutureWarning: The 'verbose' keyword in pd.read_csv is deprecated and will be removed in a future version.\n",
      "  return pd.read_csv(xopen(filepath_or_buffer, \"rb\", download_config=download_config), **kwargs)\n"
     ]
    },
    {
     "data": {
      "application/vnd.jupyter.widget-view+json": {
       "model_id": "16db2bf34bf144f7bee26393c640f101",
       "version_major": 2,
       "version_minor": 0
      },
      "text/plain": [
       "Generating test split: 0 examples [00:00, ? examples/s]"
      ]
     },
     "metadata": {},
     "output_type": "display_data"
    },
    {
     "name": "stderr",
     "output_type": "stream",
     "text": [
      "/home/rp21/.conda/envs/s5-gpu-test/lib/python3.11/site-packages/datasets/download/streaming_download_manager.py:765: FutureWarning: The 'verbose' keyword in pd.read_csv is deprecated and will be removed in a future version.\n",
      "  return pd.read_csv(xopen(filepath_or_buffer, \"rb\", download_config=download_config), **kwargs)\n"
     ]
    },
    {
     "data": {
      "application/vnd.jupyter.widget-view+json": {
       "model_id": "6b506b119f2c40b780fb7a720efe6c23",
       "version_major": 2,
       "version_minor": 0
      },
      "text/plain": [
       "Casting the dataset:   0%|          | 0/800 [00:00<?, ? examples/s]"
      ]
     },
     "metadata": {},
     "output_type": "display_data"
    },
    {
     "data": {
      "application/vnd.jupyter.widget-view+json": {
       "model_id": "8f695534a2b74db7a242ee31ef5cb1a6",
       "version_major": 2,
       "version_minor": 0
      },
      "text/plain": [
       "Casting the dataset:   0%|          | 0/200 [00:00<?, ? examples/s]"
      ]
     },
     "metadata": {},
     "output_type": "display_data"
    },
    {
     "data": {
      "application/vnd.jupyter.widget-view+json": {
       "model_id": "bd681e0c8be74bb5a07fb77eb099dacb",
       "version_major": 2,
       "version_minor": 0
      },
      "text/plain": [
       "Casting the dataset:   0%|          | 0/200 [00:00<?, ? examples/s]"
      ]
     },
     "metadata": {},
     "output_type": "display_data"
    },
    {
     "data": {
      "application/vnd.jupyter.widget-view+json": {
       "model_id": "a310502b852b4574829e8e45284ccddc",
       "version_major": 2,
       "version_minor": 0
      },
      "text/plain": [
       "Map:   0%|          | 0/800 [00:00<?, ? examples/s]"
      ]
     },
     "metadata": {},
     "output_type": "display_data"
    },
    {
     "data": {
      "application/vnd.jupyter.widget-view+json": {
       "model_id": "1b6aaf8d568045829487f5c6847122d2",
       "version_major": 2,
       "version_minor": 0
      },
      "text/plain": [
       "Map:   0%|          | 0/200 [00:00<?, ? examples/s]"
      ]
     },
     "metadata": {},
     "output_type": "display_data"
    },
    {
     "data": {
      "application/vnd.jupyter.widget-view+json": {
       "model_id": "f6f1a480a3f34140a3b5cea1f2325d56",
       "version_major": 2,
       "version_minor": 0
      },
      "text/plain": [
       "Map:   0%|          | 0/200 [00:00<?, ? examples/s]"
      ]
     },
     "metadata": {},
     "output_type": "display_data"
    },
    {
     "data": {
      "application/vnd.jupyter.widget-view+json": {
       "model_id": "6b635cb9786c4c39ae650a6b807e525b",
       "version_major": 2,
       "version_minor": 0
      },
      "text/plain": [
       "Map:   0%|          | 0/800 [00:00<?, ? examples/s]"
      ]
     },
     "metadata": {},
     "output_type": "display_data"
    },
    {
     "data": {
      "application/vnd.jupyter.widget-view+json": {
       "model_id": "3fa63356a2e04d5a9db12840f8ac24d9",
       "version_major": 2,
       "version_minor": 0
      },
      "text/plain": [
       "Map:   0%|          | 0/200 [00:00<?, ? examples/s]"
      ]
     },
     "metadata": {},
     "output_type": "display_data"
    },
    {
     "data": {
      "application/vnd.jupyter.widget-view+json": {
       "model_id": "587d7d5be7e0422d88f7ededb105726d",
       "version_major": 2,
       "version_minor": 0
      },
      "text/plain": [
       "Map:   0%|          | 0/200 [00:00<?, ? examples/s]"
      ]
     },
     "metadata": {},
     "output_type": "display_data"
    },
    {
     "data": {
      "application/vnd.jupyter.widget-view+json": {
       "model_id": "f7a587ecc7bf4004941d0945d0b95221",
       "version_major": 2,
       "version_minor": 0
      },
      "text/plain": [
       "Saving the dataset (0/1 shards):   0%|          | 0/800 [00:00<?, ? examples/s]"
      ]
     },
     "metadata": {},
     "output_type": "display_data"
    },
    {
     "data": {
      "application/vnd.jupyter.widget-view+json": {
       "model_id": "8e394c883d1a495db817b06b8a8a4133",
       "version_major": 2,
       "version_minor": 0
      },
      "text/plain": [
       "Saving the dataset (0/1 shards):   0%|          | 0/200 [00:00<?, ? examples/s]"
      ]
     },
     "metadata": {},
     "output_type": "display_data"
    },
    {
     "data": {
      "application/vnd.jupyter.widget-view+json": {
       "model_id": "c31e70dab6934859a6141433c8d34f7d",
       "version_major": 2,
       "version_minor": 0
      },
      "text/plain": [
       "Saving the dataset (0/1 shards):   0%|          | 0/200 [00:00<?, ? examples/s]"
      ]
     },
     "metadata": {},
     "output_type": "display_data"
    },
    {
     "name": "stdout",
     "output_type": "stream",
     "text": [
      "Vocab size: 6\n",
      "[*] Starting S5 rgr_token training on `token/rgr` =>> Initializing...\n",
      "Lambda.shape=(32,)\n",
      "V.shape=(64, 32)\n",
      "Vinv.shape=(32, 64)\n"
     ]
    },
    {
     "name": "stderr",
     "output_type": "stream",
     "text": [
      "/scratch/gpfs/rp21/s5-della/s5/train_helpers.py:244: FutureWarning: jax.tree_leaves is deprecated, and will be removed in a future release. Use jax.tree_util.tree_leaves instead.\n",
      "  print(f\"[*] Trainable Parameters: {sum(jax.tree_leaves(param_sizes))}\")\n"
     ]
    },
    {
     "name": "stdout",
     "output_type": "stream",
     "text": [
      "configuring standard optimization setup\n",
      "[*] Trainable Parameters: 1793\n",
      "[*] Starting Training Epoch 1...\n",
      "using constant lr for epoch 1\n"
     ]
    },
    {
     "name": "stderr",
     "output_type": "stream",
     "text": [
      "100%|██████████| 25/25 [00:02<00:00, 11.20it/s]\n"
     ]
    },
    {
     "name": "stdout",
     "output_type": "stream",
     "text": [
      "[*] Running Epoch 1 Validation...\n"
     ]
    },
    {
     "name": "stderr",
     "output_type": "stream",
     "text": [
      "100%|██████████| 7/7 [00:03<00:00,  2.20it/s]\n"
     ]
    },
    {
     "name": "stdout",
     "output_type": "stream",
     "text": [
      "[*] Running Epoch 1 Test...\n"
     ]
    },
    {
     "name": "stderr",
     "output_type": "stream",
     "text": [
      "100%|██████████| 7/7 [00:00<00:00, 405.61it/s]\n"
     ]
    },
    {
     "name": "stdout",
     "output_type": "stream",
     "text": [
      "\n",
      "=>> Epoch 1 Metrics ===\n",
      "\tTrain Loss: 0.50502 -- Val Loss: 0.39992 --Test Loss: 0.39992 -- Val Accuracy: nan -- Test Accuracy: nan\n",
      "\tBest Val Loss: 0.39992 -- Best Val Accuracy: -100000000.0000 at Epoch 1\n",
      "\tBest Test Loss: 100000000.00000 -- Best Test Accuracy: -10000.0000 at Epoch 1\n",
      "\n",
      "[*] Starting Training Epoch 2...\n",
      "using constant lr for epoch 2\n"
     ]
    },
    {
     "name": "stderr",
     "output_type": "stream",
     "text": [
      "100%|██████████| 25/25 [00:00<00:00, 298.30it/s]\n"
     ]
    },
    {
     "name": "stdout",
     "output_type": "stream",
     "text": [
      "[*] Running Epoch 2 Validation...\n"
     ]
    },
    {
     "name": "stderr",
     "output_type": "stream",
     "text": [
      "100%|██████████| 7/7 [00:00<00:00, 422.78it/s]\n"
     ]
    },
    {
     "name": "stdout",
     "output_type": "stream",
     "text": [
      "[*] Running Epoch 2 Test...\n"
     ]
    },
    {
     "name": "stderr",
     "output_type": "stream",
     "text": [
      "100%|██████████| 7/7 [00:00<00:00, 444.38it/s]\n"
     ]
    },
    {
     "name": "stdout",
     "output_type": "stream",
     "text": [
      "\n",
      "=>> Epoch 2 Metrics ===\n",
      "\tTrain Loss: 0.17593 -- Val Loss: 0.19188 --Test Loss: 0.19188 -- Val Accuracy: nan -- Test Accuracy: nan\n",
      "\tBest Val Loss: 0.19188 -- Best Val Accuracy: -100000000.0000 at Epoch 1\n",
      "\tBest Test Loss: 100000000.00000 -- Best Test Accuracy: -10000.0000 at Epoch 1\n",
      "\n",
      "[*] Starting Training Epoch 3...\n",
      "using constant lr for epoch 3\n"
     ]
    },
    {
     "name": "stderr",
     "output_type": "stream",
     "text": [
      "100%|██████████| 25/25 [00:00<00:00, 293.35it/s]\n"
     ]
    },
    {
     "name": "stdout",
     "output_type": "stream",
     "text": [
      "[*] Running Epoch 3 Validation...\n"
     ]
    },
    {
     "name": "stderr",
     "output_type": "stream",
     "text": [
      "100%|██████████| 7/7 [00:00<00:00, 445.48it/s]\n"
     ]
    },
    {
     "name": "stdout",
     "output_type": "stream",
     "text": [
      "[*] Running Epoch 3 Test...\n"
     ]
    },
    {
     "name": "stderr",
     "output_type": "stream",
     "text": [
      "100%|██████████| 7/7 [00:00<00:00, 427.55it/s]\n"
     ]
    },
    {
     "name": "stdout",
     "output_type": "stream",
     "text": [
      "\n",
      "=>> Epoch 3 Metrics ===\n",
      "\tTrain Loss: 0.05933 -- Val Loss: 0.11137 --Test Loss: 0.11137 -- Val Accuracy: nan -- Test Accuracy: nan\n",
      "\tBest Val Loss: 0.11137 -- Best Val Accuracy: -100000000.0000 at Epoch 1\n",
      "\tBest Test Loss: 100000000.00000 -- Best Test Accuracy: -10000.0000 at Epoch 1\n",
      "\n",
      "[*] Starting Training Epoch 4...\n",
      "using constant lr for epoch 4\n"
     ]
    },
    {
     "name": "stderr",
     "output_type": "stream",
     "text": [
      "100%|██████████| 25/25 [00:00<00:00, 296.31it/s]\n"
     ]
    },
    {
     "name": "stdout",
     "output_type": "stream",
     "text": [
      "[*] Running Epoch 4 Validation...\n"
     ]
    },
    {
     "name": "stderr",
     "output_type": "stream",
     "text": [
      "100%|██████████| 7/7 [00:00<00:00, 427.89it/s]\n"
     ]
    },
    {
     "name": "stdout",
     "output_type": "stream",
     "text": [
      "[*] Running Epoch 4 Test...\n"
     ]
    },
    {
     "name": "stderr",
     "output_type": "stream",
     "text": [
      "100%|██████████| 7/7 [00:00<00:00, 425.32it/s]\n"
     ]
    },
    {
     "name": "stdout",
     "output_type": "stream",
     "text": [
      "\n",
      "=>> Epoch 4 Metrics ===\n",
      "\tTrain Loss: 0.03900 -- Val Loss: 0.04563 --Test Loss: 0.04563 -- Val Accuracy: nan -- Test Accuracy: nan\n",
      "\tBest Val Loss: 0.04563 -- Best Val Accuracy: -100000000.0000 at Epoch 1\n",
      "\tBest Test Loss: 100000000.00000 -- Best Test Accuracy: -10000.0000 at Epoch 1\n",
      "\n",
      "[*] Starting Training Epoch 5...\n",
      "using constant lr for epoch 5\n"
     ]
    },
    {
     "name": "stderr",
     "output_type": "stream",
     "text": [
      "100%|██████████| 25/25 [00:00<00:00, 290.56it/s]\n"
     ]
    },
    {
     "name": "stdout",
     "output_type": "stream",
     "text": [
      "[*] Running Epoch 5 Validation...\n"
     ]
    },
    {
     "name": "stderr",
     "output_type": "stream",
     "text": [
      "100%|██████████| 7/7 [00:00<00:00, 426.99it/s]\n"
     ]
    },
    {
     "name": "stdout",
     "output_type": "stream",
     "text": [
      "[*] Running Epoch 5 Test...\n"
     ]
    },
    {
     "name": "stderr",
     "output_type": "stream",
     "text": [
      "100%|██████████| 7/7 [00:00<00:00, 449.39it/s]\n"
     ]
    },
    {
     "name": "stdout",
     "output_type": "stream",
     "text": [
      "\n",
      "=>> Epoch 5 Metrics ===\n",
      "\tTrain Loss: 0.04114 -- Val Loss: 0.04954 --Test Loss: 0.04954 -- Val Accuracy: nan -- Test Accuracy: nan\n",
      "\tBest Val Loss: 0.04563 -- Best Val Accuracy: -100000000.0000 at Epoch 1\n",
      "\tBest Test Loss: 100000000.00000 -- Best Test Accuracy: -10000.0000 at Epoch 1\n",
      "\n",
      "[*] Starting Training Epoch 6...\n",
      "using constant lr for epoch 6\n"
     ]
    },
    {
     "name": "stderr",
     "output_type": "stream",
     "text": [
      "100%|██████████| 25/25 [00:00<00:00, 293.96it/s]\n"
     ]
    },
    {
     "name": "stdout",
     "output_type": "stream",
     "text": [
      "[*] Running Epoch 6 Validation...\n"
     ]
    },
    {
     "name": "stderr",
     "output_type": "stream",
     "text": [
      "100%|██████████| 7/7 [00:00<00:00, 439.27it/s]\n"
     ]
    },
    {
     "name": "stdout",
     "output_type": "stream",
     "text": [
      "[*] Running Epoch 6 Test...\n"
     ]
    },
    {
     "name": "stderr",
     "output_type": "stream",
     "text": [
      "100%|██████████| 7/7 [00:00<00:00, 439.70it/s]\n"
     ]
    },
    {
     "name": "stdout",
     "output_type": "stream",
     "text": [
      "\n",
      "=>> Epoch 6 Metrics ===\n",
      "\tTrain Loss: 0.05094 -- Val Loss: 0.02223 --Test Loss: 0.02223 -- Val Accuracy: nan -- Test Accuracy: nan\n",
      "\tBest Val Loss: 0.02223 -- Best Val Accuracy: -100000000.0000 at Epoch 1\n",
      "\tBest Test Loss: 100000000.00000 -- Best Test Accuracy: -10000.0000 at Epoch 1\n",
      "\n",
      "[*] Starting Training Epoch 7...\n",
      "using constant lr for epoch 7\n"
     ]
    },
    {
     "name": "stderr",
     "output_type": "stream",
     "text": [
      "100%|██████████| 25/25 [00:00<00:00, 302.93it/s]\n"
     ]
    },
    {
     "name": "stdout",
     "output_type": "stream",
     "text": [
      "[*] Running Epoch 7 Validation...\n"
     ]
    },
    {
     "name": "stderr",
     "output_type": "stream",
     "text": [
      "100%|██████████| 7/7 [00:00<00:00, 447.71it/s]\n"
     ]
    },
    {
     "name": "stdout",
     "output_type": "stream",
     "text": [
      "[*] Running Epoch 7 Test...\n"
     ]
    },
    {
     "name": "stderr",
     "output_type": "stream",
     "text": [
      "100%|██████████| 7/7 [00:00<00:00, 440.66it/s]\n"
     ]
    },
    {
     "name": "stdout",
     "output_type": "stream",
     "text": [
      "\n",
      "=>> Epoch 7 Metrics ===\n",
      "\tTrain Loss: 0.02809 -- Val Loss: 0.02699 --Test Loss: 0.02699 -- Val Accuracy: nan -- Test Accuracy: nan\n",
      "\tBest Val Loss: 0.02223 -- Best Val Accuracy: -100000000.0000 at Epoch 1\n",
      "\tBest Test Loss: 100000000.00000 -- Best Test Accuracy: -10000.0000 at Epoch 1\n",
      "\n",
      "[*] Starting Training Epoch 8...\n",
      "using constant lr for epoch 8\n"
     ]
    },
    {
     "name": "stderr",
     "output_type": "stream",
     "text": [
      "100%|██████████| 25/25 [00:00<00:00, 300.08it/s]\n"
     ]
    },
    {
     "name": "stdout",
     "output_type": "stream",
     "text": [
      "[*] Running Epoch 8 Validation...\n"
     ]
    },
    {
     "name": "stderr",
     "output_type": "stream",
     "text": [
      "100%|██████████| 7/7 [00:00<00:00, 434.05it/s]\n"
     ]
    },
    {
     "name": "stdout",
     "output_type": "stream",
     "text": [
      "[*] Running Epoch 8 Test...\n"
     ]
    },
    {
     "name": "stderr",
     "output_type": "stream",
     "text": [
      "100%|██████████| 7/7 [00:00<00:00, 447.87it/s]\n"
     ]
    },
    {
     "name": "stdout",
     "output_type": "stream",
     "text": [
      "\n",
      "=>> Epoch 8 Metrics ===\n",
      "\tTrain Loss: 0.04049 -- Val Loss: 0.01431 --Test Loss: 0.01431 -- Val Accuracy: nan -- Test Accuracy: nan\n",
      "\tBest Val Loss: 0.01431 -- Best Val Accuracy: -100000000.0000 at Epoch 1\n",
      "\tBest Test Loss: 100000000.00000 -- Best Test Accuracy: -10000.0000 at Epoch 1\n",
      "\n",
      "[*] Starting Training Epoch 9...\n",
      "using constant lr for epoch 9\n"
     ]
    },
    {
     "name": "stderr",
     "output_type": "stream",
     "text": [
      "100%|██████████| 25/25 [00:00<00:00, 302.20it/s]\n"
     ]
    },
    {
     "name": "stdout",
     "output_type": "stream",
     "text": [
      "[*] Running Epoch 9 Validation...\n"
     ]
    },
    {
     "name": "stderr",
     "output_type": "stream",
     "text": [
      "100%|██████████| 7/7 [00:00<00:00, 428.75it/s]\n"
     ]
    },
    {
     "name": "stdout",
     "output_type": "stream",
     "text": [
      "[*] Running Epoch 9 Test...\n"
     ]
    },
    {
     "name": "stderr",
     "output_type": "stream",
     "text": [
      "100%|██████████| 7/7 [00:00<00:00, 431.50it/s]\n"
     ]
    },
    {
     "name": "stdout",
     "output_type": "stream",
     "text": [
      "\n",
      "=>> Epoch 9 Metrics ===\n",
      "\tTrain Loss: 0.03237 -- Val Loss: 0.02567 --Test Loss: 0.02567 -- Val Accuracy: nan -- Test Accuracy: nan\n",
      "\tBest Val Loss: 0.01431 -- Best Val Accuracy: -100000000.0000 at Epoch 1\n",
      "\tBest Test Loss: 100000000.00000 -- Best Test Accuracy: -10000.0000 at Epoch 1\n",
      "\n",
      "[*] Starting Training Epoch 10...\n",
      "using constant lr for epoch 10\n"
     ]
    },
    {
     "name": "stderr",
     "output_type": "stream",
     "text": [
      "100%|██████████| 25/25 [00:00<00:00, 294.93it/s]\n"
     ]
    },
    {
     "name": "stdout",
     "output_type": "stream",
     "text": [
      "[*] Running Epoch 10 Validation...\n"
     ]
    },
    {
     "name": "stderr",
     "output_type": "stream",
     "text": [
      "100%|██████████| 7/7 [00:00<00:00, 431.35it/s]\n"
     ]
    },
    {
     "name": "stdout",
     "output_type": "stream",
     "text": [
      "[*] Running Epoch 10 Test...\n"
     ]
    },
    {
     "name": "stderr",
     "output_type": "stream",
     "text": [
      "100%|██████████| 7/7 [00:00<00:00, 452.68it/s]"
     ]
    },
    {
     "name": "stdout",
     "output_type": "stream",
     "text": [
      "\n",
      "=>> Epoch 10 Metrics ===\n",
      "\tTrain Loss: 0.03852 -- Val Loss: 0.00984 --Test Loss: 0.00984 -- Val Accuracy: nan -- Test Accuracy: nan\n",
      "\tBest Val Loss: 0.00984 -- Best Val Accuracy: -100000000.0000 at Epoch 1\n",
      "\tBest Test Loss: 100000000.00000 -- Best Test Accuracy: -10000.0000 at Epoch 1\n",
      "\n"
     ]
    },
    {
     "name": "stderr",
     "output_type": "stream",
     "text": [
      "\n"
     ]
    }
   ],
   "source": [
    "DATA_DIR = 'token/rgr'\n",
    "# DATA_DIR = os.path.join(DATA_DIR, 'scrambled')  # use scrambled data (control)\n",
    "\n",
    "args = TrainArgs(\n",
    "    C_init='trunc_standard_normal', batchnorm=True, bidirectional=True,\n",
    "    epoch_save_dir=\"epochs_rgr\", save_training=1, \n",
    "    blocks=16, bsz=32, d_model=8, clear_cache=True, data_dir=DATA_DIR,\n",
    "    problem_type='rgr_token', dt_global=True, epochs=10, jax_seed=5464358, lr_factor=2, n_layers=1,\n",
    "    opt_config='standard', p_dropout=0.0, ssm_lr_base=0.001, ssm_size_base=64,\n",
    "    warmup_end=0, weight_decay=0.05, cosine_anneal=False)\n",
    "\n",
    "train(args)"
   ]
  },
  {
   "cell_type": "code",
   "execution_count": 5,
   "id": "5dbcc9dc-199d-4dba-840d-c72ba5849d50",
   "metadata": {},
   "outputs": [
    {
     "data": {
      "image/png": "[encoded data removed]",
      "text/plain": [
       "<Figure size 1000x400 with 10 Axes>"
      ]
     },
     "metadata": {},
     "output_type": "display_data"
    },
    {
     "data": {
      "image/png": "[encoded data removed]",
      "text/plain": [
       "<Figure size 300x250 with 1 Axes>"
      ]
     },
     "metadata": {},
     "output_type": "display_data"
    }
   ],
   "source": [
    "# load results\n",
    "fig, axs = plt.subplots(2, 5, figsize=(10, 4), tight_layout=True)\n",
    "\n",
    "train_losses = []\n",
    "val_losses = []\n",
    "\n",
    "for cepoch, ax in enumerate(axs.flatten()):\n",
    "    data = np.load(f'epochs_rgr/epoch_{cepoch}.npy', allow_pickle=True)[0]\n",
    "    \n",
    "    targs = data['val_targ']\n",
    "    preds = data['val_pred']\n",
    "    \n",
    "    ax.scatter(preds, targs, c='k', s=1)\n",
    "    \n",
    "    set_plot(ax, x_label='Prediction', y_label='Target', title=f'Epoch {cepoch+1}')\n",
    "    \n",
    "    train_losses.append(data['train_loss'])\n",
    "    val_losses.append(data['val_loss'])\n",
    "    \n",
    "fig, ax = plt.subplots(1, 1, figsize=(3, 2.5), tight_layout=True)\n",
    "ax.plot(train_losses, c='b')\n",
    "ax.plot(val_losses, c='orange')\n",
    "ax.legend(['Train', 'Val'])\n",
    "set_plot(ax, x_label='Epoch', y_label='Loss')"
   ]
  },
  {
   "cell_type": "code",
   "execution_count": null,
   "id": "ea9846ff-dee0-4b79-a142-f7f8e3fc4540",
   "metadata": {},
   "outputs": [],
   "source": []
  }
 ],
 "metadata": {
  "kernelspec": {
   "display_name": "s5-gpu-test [~/.conda/envs/s5-gpu-test/]",
   "language": "python",
   "name": "conda_s5-gpu-test"
  },
  "language_info": {
   "codemirror_mode": {
    "name": "ipython",
    "version": 3
   },
   "file_extension": ".py",
   "mimetype": "text/x-python",
   "name": "python",
   "nbconvert_exporter": "python",
   "pygments_lexer": "ipython3",
   "version": "3.11.8"
  }
 },
 "nbformat": 4,
 "nbformat_minor": 5
}
