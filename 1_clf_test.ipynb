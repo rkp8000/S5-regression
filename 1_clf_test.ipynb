{
 "cells": [
  {
   "cell_type": "code",
   "execution_count": 1,
   "id": "c12d6687-22d2-4d7f-983c-03f4defaa48d",
   "metadata": {},
   "outputs": [],
   "source": [
    "import matplotlib.pyplot as plt\n",
    "import numpy as np\n",
    "from scipy import stats\n",
    "\n",
    "from disp import get_line, set_plot\n",
    "from run_train import TrainArgs, train"
   ]
  },
  {
   "cell_type": "markdown",
   "id": "c57e9097-cf54-43b7-a29c-e31bfd564f8c",
   "metadata": {},
   "source": [
    "### Classification test data"
   ]
  },
  {
   "cell_type": "code",
   "execution_count": 2,
   "id": "d049b2c3",
   "metadata": {},
   "outputs": [
    {
     "name": "stdout",
     "output_type": "stream",
     "text": [
      "[*] Setting Randomness...\n",
      "[*] Generating Fly Courtship Classification Dataset\n"
     ]
    },
    {
     "name": "stderr",
     "output_type": "stream",
     "text": [
      "/home/rp21/.conda/envs/s5-gpu/lib/python3.11/site-packages/tqdm/auto.py:21: TqdmWarning: IProgress not found. Please update jupyter and ipywidgets. See https://ipywidgets.readthedocs.io/en/stable/user_install.html\n",
      "  from .autonotebook import tqdm as notebook_tqdm\n"
     ]
    },
    {
     "name": "stdout",
     "output_type": "stream",
     "text": [
      "Clearing cache...\n"
     ]
    },
    {
     "name": "stderr",
     "output_type": "stream",
     "text": [
      "Casting the dataset: 100%|██████████| 6172/6172 [00:00<00:00, 1732051.67 examples/s]\n",
      "Casting the dataset: 100%|██████████| 1543/1543 [00:00<00:00, 1036318.83 examples/s]\n",
      "Casting the dataset: 100%|██████████| 1543/1543 [00:00<00:00, 677109.34 examples/s]\n",
      "Map: 100%|██████████| 6172/6172 [00:00<00:00, 29704.68 examples/s]\n",
      "Map: 100%|██████████| 1543/1543 [00:00<00:00, 9142.28 examples/s]\n",
      "Map: 100%|██████████| 1543/1543 [00:00<00:00, 30417.36 examples/s]\n",
      "Map: 100%|██████████| 6172/6172 [00:00<00:00, 9811.58 examples/s] \n",
      "Map: 100%|██████████| 1543/1543 [00:00<00:00, 9853.74 examples/s] \n",
      "Map: 100%|██████████| 1543/1543 [00:00<00:00, 9744.55 examples/s]\n",
      "Saving the dataset (1/1 shards): 100%|██████████| 6172/6172 [00:00<00:00, 744806.64 examples/s]\n",
      "Saving the dataset (1/1 shards): 100%|██████████| 1543/1543 [00:00<00:00, 326562.27 examples/s]\n",
      "Saving the dataset (1/1 shards): 100%|██████████| 1543/1543 [00:00<00:00, 338130.15 examples/s]\n"
     ]
    },
    {
     "name": "stdout",
     "output_type": "stream",
     "text": [
      "Fly song vocab size: 6\n",
      "[*] Starting S5 clf training on `fly_mini/clf` =>> Initializing...\n",
      "Lambda.shape=(128,)\n",
      "V.shape=(256, 128)\n",
      "Vinv.shape=(128, 256)\n",
      "configuring standard optimization setup\n",
      "[*] Trainable Parameters: 13322\n"
     ]
    },
    {
     "name": "stderr",
     "output_type": "stream",
     "text": [
      "/scratch/gpfs/rp21/s5_test/S5-fly/s5/train_helpers.py:244: FutureWarning: jax.tree_leaves is deprecated, and will be removed in a future release. Use jax.tree_util.tree_leaves instead.\n",
      "  print(f\"[*] Trainable Parameters: {sum(jax.tree_leaves(param_sizes))}\")\n"
     ]
    },
    {
     "name": "stdout",
     "output_type": "stream",
     "text": [
      "[*] Starting Training Epoch 1...\n",
      "using linear warmup for epoch 1\n"
     ]
    },
    {
     "name": "stderr",
     "output_type": "stream",
     "text": [
      "100%|██████████| 192/192 [00:34<00:00,  5.53it/s]\n"
     ]
    },
    {
     "name": "stdout",
     "output_type": "stream",
     "text": [
      "[*] Running Epoch 1 Validation...\n"
     ]
    },
    {
     "name": "stderr",
     "output_type": "stream",
     "text": [
      "100%|██████████| 49/49 [00:19<00:00,  2.51it/s]\n"
     ]
    },
    {
     "name": "stdout",
     "output_type": "stream",
     "text": [
      "[*] Running Epoch 1 Test...\n"
     ]
    },
    {
     "name": "stderr",
     "output_type": "stream",
     "text": [
      "100%|██████████| 49/49 [00:01<00:00, 34.46it/s]\n"
     ]
    },
    {
     "name": "stdout",
     "output_type": "stream",
     "text": [
      "\n",
      "=>> Epoch 1 Metrics ===\n",
      "\tTrain Loss: 0.83785 -- Val Loss: 0.05287 --Test Loss: 0.05287 -- Val Accuracy: 0.9812 Test Accuracy: 0.9812\n",
      "\tBest Val Loss: 0.05287 -- Best Val Accuracy: 0.9812 at Epoch 1\n",
      "\tBest Test Loss: 0.05287 -- Best Test Accuracy: 0.9812 at Epoch 1\n",
      "\n",
      "[*] Starting Training Epoch 2...\n",
      "using cosine annealing for epoch 2\n"
     ]
    },
    {
     "name": "stderr",
     "output_type": "stream",
     "text": [
      "100%|██████████| 192/192 [00:21<00:00,  8.83it/s]\n"
     ]
    },
    {
     "name": "stdout",
     "output_type": "stream",
     "text": [
      "[*] Running Epoch 2 Validation...\n"
     ]
    },
    {
     "name": "stderr",
     "output_type": "stream",
     "text": [
      "100%|██████████| 49/49 [00:01<00:00, 34.22it/s]\n"
     ]
    },
    {
     "name": "stdout",
     "output_type": "stream",
     "text": [
      "[*] Running Epoch 2 Test...\n"
     ]
    },
    {
     "name": "stderr",
     "output_type": "stream",
     "text": [
      "100%|██████████| 49/49 [00:01<00:00, 32.86it/s]\n"
     ]
    },
    {
     "name": "stdout",
     "output_type": "stream",
     "text": [
      "\n",
      "=>> Epoch 2 Metrics ===\n",
      "\tTrain Loss: 0.04192 -- Val Loss: 0.03359 --Test Loss: 0.03359 -- Val Accuracy: 0.9896 Test Accuracy: 0.9896\n",
      "\tBest Val Loss: 0.03359 -- Best Val Accuracy: 0.9896 at Epoch 2\n",
      "\tBest Test Loss: 0.03359 -- Best Test Accuracy: 0.9896 at Epoch 2\n",
      "\n",
      "[*] Starting Training Epoch 3...\n",
      "using cosine annealing for epoch 3\n"
     ]
    },
    {
     "name": "stderr",
     "output_type": "stream",
     "text": [
      "100%|██████████| 192/192 [00:21<00:00,  8.98it/s]\n"
     ]
    },
    {
     "name": "stdout",
     "output_type": "stream",
     "text": [
      "[*] Running Epoch 3 Validation...\n"
     ]
    },
    {
     "name": "stderr",
     "output_type": "stream",
     "text": [
      "100%|██████████| 49/49 [00:01<00:00, 34.47it/s]\n"
     ]
    },
    {
     "name": "stdout",
     "output_type": "stream",
     "text": [
      "[*] Running Epoch 3 Test...\n"
     ]
    },
    {
     "name": "stderr",
     "output_type": "stream",
     "text": [
      "100%|██████████| 49/49 [00:01<00:00, 33.10it/s]"
     ]
    },
    {
     "name": "stdout",
     "output_type": "stream",
     "text": [
      "\n",
      "=>> Epoch 3 Metrics ===\n",
      "\tTrain Loss: 0.03413 -- Val Loss: 0.03353 --Test Loss: 0.03353 -- Val Accuracy: 0.9896 Test Accuracy: 0.9896\n",
      "\tBest Val Loss: 0.03359 -- Best Val Accuracy: 0.9896 at Epoch 2\n",
      "\tBest Test Loss: 0.03359 -- Best Test Accuracy: 0.9896 at Epoch 2\n",
      "\n"
     ]
    },
    {
     "name": "stderr",
     "output_type": "stream",
     "text": [
      "\n"
     ]
    }
   ],
   "source": [
    "args = TrainArgs(\n",
    "    C_init='trunc_standard_normal', batchnorm=True, bidirectional=True,\n",
    "    epoch_save_dir=\"epochs_clf\", save_training=2,\n",
    "    blocks=16, bsz=32, d_model=8, clear_cache=True, data_dir=\"fly_mini/clf\",\n",
    "    problem_type='clf', dt_global=True, epochs=3, jax_seed=5464368, lr_factor=2, n_layers=2,\n",
    "    opt_config='standard', p_dropout=0.0, ssm_lr_base=0.001, ssm_size_base=256,\n",
    "    warmup_end=1, weight_decay=0.05\n",
    ")\n",
    "\n",
    "train(args)"
   ]
  },
  {
   "cell_type": "code",
   "execution_count": 3,
   "id": "2afaf266-f0c3-451e-b803-48d87d64956c",
   "metadata": {},
   "outputs": [
    {
     "data": {
      "image/png": "[encoded data removed]",
      "text/plain": [
       "<Figure size 1200x400 with 3 Axes>"
      ]
     },
     "metadata": {},
     "output_type": "display_data"
    }
   ],
   "source": [
    "# load results\n",
    "fig, axs = plt.subplots(1, 3, figsize=(12, 4), tight_layout=True)\n",
    "\n",
    "for cepoch, ax in enumerate(axs.flatten()):\n",
    "    data = np.load(f'epochs_clf/epoch_{cepoch}.npy', allow_pickle=True)[0]\n",
    "    targs = data['val_targ']\n",
    "    \n",
    "    logits = data['val_pred']\n",
    "    logits = np.reshape(logits, (len(logits)//2, 2))\n",
    "    preds = np.argmax(logits, axis=1)\n",
    "    \n",
    "    ax.scatter(preds+.01*np.random.randn(len(preds)), targs+.01*np.random.randn(len(targs)), c='k', s=5)\n",
    "    acc = np.mean(preds == targs)\n",
    "    set_plot(ax, x_label='Prediction', y_label='Target', title=f'Epoch {cepoch}\\nAccuracy = {acc:.5f}')"
   ]
  },
  {
   "cell_type": "markdown",
   "id": "1b37d22f-62b2-41ab-97c6-36774fb59e0b",
   "metadata": {},
   "source": [
    "### Scrambled classification test data"
   ]
  },
  {
   "cell_type": "code",
   "execution_count": 4,
   "id": "09245398-f3a3-4cb6-8adb-0d8f65e5d92c",
   "metadata": {},
   "outputs": [
    {
     "name": "stdout",
     "output_type": "stream",
     "text": [
      "[*] Setting Randomness...\n",
      "[*] Generating Fly Courtship Classification Dataset\n",
      "Clearing cache...\n"
     ]
    },
    {
     "name": "stderr",
     "output_type": "stream",
     "text": [
      "Casting the dataset: 100%|██████████| 6223/6223 [00:00<00:00, 1838497.84 examples/s]\n",
      "Casting the dataset: 100%|██████████| 1556/1556 [00:00<00:00, 927168.21 examples/s]\n",
      "Casting the dataset: 100%|██████████| 1556/1556 [00:00<00:00, 890845.89 examples/s]\n",
      "Map: 100%|██████████| 6223/6223 [00:00<00:00, 29164.47 examples/s]\n",
      "Map: 100%|██████████| 1556/1556 [00:00<00:00, 29561.57 examples/s]\n",
      "Map: 100%|██████████| 1556/1556 [00:00<00:00, 29478.52 examples/s]\n",
      "Map: 100%|██████████| 6223/6223 [00:00<00:00, 9791.05 examples/s]\n",
      "Map: 100%|██████████| 1556/1556 [00:00<00:00, 9831.07 examples/s]\n",
      "Map: 100%|██████████| 1556/1556 [00:00<00:00, 9732.39 examples/s]\n",
      "Saving the dataset (1/1 shards): 100%|██████████| 6223/6223 [00:00<00:00, 823978.08 examples/s] \n",
      "Saving the dataset (1/1 shards): 100%|██████████| 1556/1556 [00:00<00:00, 344288.72 examples/s]\n",
      "Saving the dataset (1/1 shards): 100%|██████████| 1556/1556 [00:00<00:00, 334958.79 examples/s]\n"
     ]
    },
    {
     "name": "stdout",
     "output_type": "stream",
     "text": [
      "Fly song vocab size: 6\n",
      "[*] Starting S5 clf training on `fly_mini/clf_scrambled` =>> Initializing...\n",
      "Lambda.shape=(128,)\n",
      "V.shape=(256, 128)\n",
      "Vinv.shape=(128, 256)\n",
      "configuring standard optimization setup\n",
      "[*] Trainable Parameters: 13322\n",
      "[*] Starting Training Epoch 1...\n",
      "using linear warmup for epoch 1\n"
     ]
    },
    {
     "name": "stderr",
     "output_type": "stream",
     "text": [
      "100%|██████████| 194/194 [00:34<00:00,  5.68it/s]\n"
     ]
    },
    {
     "name": "stdout",
     "output_type": "stream",
     "text": [
      "[*] Running Epoch 1 Validation...\n"
     ]
    },
    {
     "name": "stderr",
     "output_type": "stream",
     "text": [
      "100%|██████████| 49/49 [00:12<00:00,  3.97it/s]\n"
     ]
    },
    {
     "name": "stdout",
     "output_type": "stream",
     "text": [
      "[*] Running Epoch 1 Test...\n"
     ]
    },
    {
     "name": "stderr",
     "output_type": "stream",
     "text": [
      "100%|██████████| 49/49 [00:01<00:00, 34.49it/s]\n"
     ]
    },
    {
     "name": "stdout",
     "output_type": "stream",
     "text": [
      "\n",
      "=>> Epoch 1 Metrics ===\n",
      "\tTrain Loss: 1.15261 -- Val Loss: 0.68896 --Test Loss: 0.68896 -- Val Accuracy: 0.5443 Test Accuracy: 0.5443\n",
      "\tBest Val Loss: 0.68896 -- Best Val Accuracy: 0.5443 at Epoch 1\n",
      "\tBest Test Loss: 0.68896 -- Best Test Accuracy: 0.5443 at Epoch 1\n",
      "\n",
      "[*] Starting Training Epoch 2...\n",
      "using cosine annealing for epoch 2\n"
     ]
    },
    {
     "name": "stderr",
     "output_type": "stream",
     "text": [
      "100%|██████████| 194/194 [00:21<00:00,  8.97it/s]\n"
     ]
    },
    {
     "name": "stdout",
     "output_type": "stream",
     "text": [
      "[*] Running Epoch 2 Validation...\n"
     ]
    },
    {
     "name": "stderr",
     "output_type": "stream",
     "text": [
      "100%|██████████| 49/49 [00:01<00:00, 34.20it/s]\n"
     ]
    },
    {
     "name": "stdout",
     "output_type": "stream",
     "text": [
      "[*] Running Epoch 2 Test...\n"
     ]
    },
    {
     "name": "stderr",
     "output_type": "stream",
     "text": [
      "100%|██████████| 49/49 [00:01<00:00, 32.57it/s]\n"
     ]
    },
    {
     "name": "stdout",
     "output_type": "stream",
     "text": [
      "\n",
      "=>> Epoch 2 Metrics ===\n",
      "\tTrain Loss: 0.68713 -- Val Loss: 0.68389 --Test Loss: 0.68389 -- Val Accuracy: 0.5611 Test Accuracy: 0.5611\n",
      "\tBest Val Loss: 0.68389 -- Best Val Accuracy: 0.5611 at Epoch 2\n",
      "\tBest Test Loss: 0.68389 -- Best Test Accuracy: 0.5611 at Epoch 2\n",
      "\n",
      "[*] Starting Training Epoch 3...\n",
      "using cosine annealing for epoch 3\n"
     ]
    },
    {
     "name": "stderr",
     "output_type": "stream",
     "text": [
      "100%|██████████| 194/194 [00:21<00:00,  8.99it/s]\n"
     ]
    },
    {
     "name": "stdout",
     "output_type": "stream",
     "text": [
      "[*] Running Epoch 3 Validation...\n"
     ]
    },
    {
     "name": "stderr",
     "output_type": "stream",
     "text": [
      "100%|██████████| 49/49 [00:01<00:00, 34.51it/s]\n"
     ]
    },
    {
     "name": "stdout",
     "output_type": "stream",
     "text": [
      "[*] Running Epoch 3 Test...\n"
     ]
    },
    {
     "name": "stderr",
     "output_type": "stream",
     "text": [
      "100%|██████████| 49/49 [00:01<00:00, 32.89it/s]\n"
     ]
    },
    {
     "name": "stdout",
     "output_type": "stream",
     "text": [
      "\n",
      "=>> Epoch 3 Metrics ===\n",
      "\tTrain Loss: 0.68451 -- Val Loss: 0.68348 --Test Loss: 0.68348 -- Val Accuracy: 0.5636 Test Accuracy: 0.5636\n",
      "\tBest Val Loss: 0.68348 -- Best Val Accuracy: 0.5636 at Epoch 3\n",
      "\tBest Test Loss: 0.68348 -- Best Test Accuracy: 0.5636 at Epoch 3\n",
      "\n"
     ]
    }
   ],
   "source": [
    "args = TrainArgs(\n",
    "    C_init='trunc_standard_normal', batchnorm=True, bidirectional=True,\n",
    "    epoch_save_dir=\"epochs_clf\", save_training=2,\n",
    "    blocks=16, bsz=32, d_model=8, clear_cache=True, data_dir=\"fly_mini/clf_scrambled\",\n",
    "    problem_type='clf', dt_global=True, epochs=3, jax_seed=5464368, lr_factor=2, n_layers=2,\n",
    "    opt_config='standard', p_dropout=0.0, ssm_lr_base=0.001, ssm_size_base=256,\n",
    "    warmup_end=1, weight_decay=0.05\n",
    ")\n",
    "\n",
    "train(args)"
   ]
  },
  {
   "cell_type": "code",
   "execution_count": 5,
   "id": "9a4b7b21-3228-4716-bdc7-3075c38570fb",
   "metadata": {},
   "outputs": [
    {
     "data": {
      "image/png": "[encoded data removed]",
      "text/plain": [
       "<Figure size 1200x400 with 3 Axes>"
      ]
     },
     "metadata": {},
     "output_type": "display_data"
    }
   ],
   "source": [
    "# load results\n",
    "fig, axs = plt.subplots(1, 3, figsize=(12, 4), tight_layout=True)\n",
    "\n",
    "for cepoch, ax in enumerate(axs.flatten()):\n",
    "    data = np.load(f'epochs_clf/epoch_{cepoch}.npy', allow_pickle=True)[0]\n",
    "    targs = data['val_targ']\n",
    "    \n",
    "    logits = data['val_pred']\n",
    "    logits = np.reshape(logits, (len(logits)//2, 2))\n",
    "    preds = np.argmax(logits, axis=1)\n",
    "    \n",
    "    ax.scatter(preds+.01*np.random.randn(len(preds)), targs+.01*np.random.randn(len(targs)), c='k', s=5)\n",
    "    acc = np.mean(preds == targs)\n",
    "    set_plot(ax, x_label='Prediction', y_label='Target', title=f'Epoch {cepoch}\\nAccuracy = {acc:.5f}')"
   ]
  },
  {
   "cell_type": "code",
   "execution_count": null,
   "id": "c8fec640-ff4b-4692-8d34-a58d06d9d5d8",
   "metadata": {},
   "outputs": [],
   "source": []
  }
 ],
 "metadata": {
  "kernelspec": {
   "display_name": "s5-gpu [~/.conda/envs/s5-gpu/]",
   "language": "python",
   "name": "conda_s5-gpu"
  },
  "language_info": {
   "codemirror_mode": {
    "name": "ipython",
    "version": 3
   },
   "file_extension": ".py",
   "mimetype": "text/x-python",
   "name": "python",
   "nbconvert_exporter": "python",
   "pygments_lexer": "ipython3",
   "version": "3.11.4"
  }
 },
 "nbformat": 4,
 "nbformat_minor": 5
}
