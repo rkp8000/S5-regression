{
 "cells": [
  {
   "cell_type": "code",
   "execution_count": 1,
   "id": "c12d6687-22d2-4d7f-983c-03f4defaa48d",
   "metadata": {},
   "outputs": [],
   "source": [
    "import matplotlib.pyplot as plt\n",
    "import numpy as np\n",
    "from scipy import stats\n",
    "\n",
    "from disp import get_line, set_color, set_plot\n",
    "from run_train import TrainArgs, train\n",
    "\n",
    "cc = np.concatenate"
   ]
  },
  {
   "cell_type": "code",
   "execution_count": 2,
   "id": "fc9403d1-54ae-49fc-9623-1547bcd4041b",
   "metadata": {},
   "outputs": [
    {
     "name": "stdout",
     "output_type": "stream",
     "text": [
      "[*] Setting Randomness...\n",
      "[*] Generating Fly Courtship Classification Dataset\n"
     ]
    },
    {
     "name": "stderr",
     "output_type": "stream",
     "text": [
      "/home/rp21/.conda/envs/s5-gpu/lib/python3.11/site-packages/tqdm/auto.py:21: TqdmWarning: IProgress not found. Please update jupyter and ipywidgets. See https://ipywidgets.readthedocs.io/en/stable/user_install.html\n",
      "  from .autonotebook import tqdm as notebook_tqdm\n"
     ]
    },
    {
     "name": "stdout",
     "output_type": "stream",
     "text": [
      "Clearing cache...\n"
     ]
    },
    {
     "name": "stderr",
     "output_type": "stream",
     "text": [
      "Casting the dataset: 100%|██████████| 800/800 [00:00<00:00, 468768.26 examples/s]\n",
      "Casting the dataset: 100%|██████████| 200/200 [00:00<00:00, 160394.03 examples/s]\n",
      "Casting the dataset: 100%|██████████| 200/200 [00:00<00:00, 157355.24 examples/s]\n",
      "Map: 100%|██████████| 800/800 [00:00<00:00, 33924.55 examples/s]\n",
      "Map: 100%|██████████| 200/200 [00:00<00:00, 30086.11 examples/s]\n",
      "Map: 100%|██████████| 200/200 [00:00<00:00, 30482.97 examples/s]\n",
      "Map: 100%|██████████| 800/800 [00:00<00:00, 24520.39 examples/s]\n",
      "Map: 100%|██████████| 200/200 [00:00<00:00, 21917.25 examples/s]\n",
      "Map: 100%|██████████| 200/200 [00:00<00:00, 22083.42 examples/s]\n",
      "Saving the dataset (1/1 shards): 100%|██████████| 800/800 [00:00<00:00, 270142.76 examples/s]\n",
      "Saving the dataset (1/1 shards): 100%|██████████| 200/200 [00:00<00:00, 70545.86 examples/s] \n",
      "Saving the dataset (1/1 shards): 100%|██████████| 200/200 [00:00<00:00, 70599.29 examples/s] \n"
     ]
    },
    {
     "name": "stdout",
     "output_type": "stream",
     "text": [
      "Fly song vocab size: 6\n",
      "[*] Starting S5 clf training on `ultralight/clf` =>> Initializing...\n",
      "Lambda.shape=(64,)\n",
      "V.shape=(128, 64)\n",
      "Vinv.shape=(64, 128)\n",
      "configuring standard optimization setup\n",
      "[*] Trainable Parameters: 3434\n"
     ]
    },
    {
     "name": "stderr",
     "output_type": "stream",
     "text": [
      "/scratch/gpfs/rp21/s5_test/S5-regression/s5/train_helpers.py:244: FutureWarning: jax.tree_leaves is deprecated, and will be removed in a future release. Use jax.tree_util.tree_leaves instead.\n",
      "  print(f\"[*] Trainable Parameters: {sum(jax.tree_leaves(param_sizes))}\")\n"
     ]
    },
    {
     "name": "stdout",
     "output_type": "stream",
     "text": [
      "[*] Starting Training Epoch 1...\n",
      "using linear warmup for epoch 1\n"
     ]
    },
    {
     "name": "stderr",
     "output_type": "stream",
     "text": [
      "100%|██████████| 25/25 [00:09<00:00,  2.76it/s]\n"
     ]
    },
    {
     "name": "stdout",
     "output_type": "stream",
     "text": [
      "[*] Running Epoch 1 Validation...\n"
     ]
    },
    {
     "name": "stderr",
     "output_type": "stream",
     "text": [
      "100%|██████████| 7/7 [00:05<00:00,  1.18it/s]\n"
     ]
    },
    {
     "name": "stdout",
     "output_type": "stream",
     "text": [
      "[*] Running Epoch 1 Test...\n"
     ]
    },
    {
     "name": "stderr",
     "output_type": "stream",
     "text": [
      "100%|██████████| 7/7 [00:00<00:00, 195.92it/s]\n"
     ]
    },
    {
     "name": "stdout",
     "output_type": "stream",
     "text": [
      "\n",
      "=>> Epoch 1 Metrics ===\n",
      "\tTrain Loss: 1.96435 -- Val Loss: 0.78921 --Test Loss: 0.78921 -- Val Accuracy: 0.5200 -- Test Accuracy: 0.5200\n",
      "\tBest Val Loss: 0.78921 -- Best Val Accuracy: 0.5200 at Epoch 1\n",
      "\tBest Test Loss: 0.78921 -- Best Test Accuracy: 0.5200 at Epoch 1\n",
      "\n",
      "[*] Starting Training Epoch 2...\n",
      "using cosine annealing for epoch 2\n"
     ]
    },
    {
     "name": "stderr",
     "output_type": "stream",
     "text": [
      "100%|██████████| 25/25 [00:01<00:00, 21.73it/s]\n"
     ]
    },
    {
     "name": "stdout",
     "output_type": "stream",
     "text": [
      "[*] Running Epoch 2 Validation...\n"
     ]
    },
    {
     "name": "stderr",
     "output_type": "stream",
     "text": [
      "100%|██████████| 7/7 [00:00<00:00, 199.81it/s]\n"
     ]
    },
    {
     "name": "stdout",
     "output_type": "stream",
     "text": [
      "[*] Running Epoch 2 Test...\n"
     ]
    },
    {
     "name": "stderr",
     "output_type": "stream",
     "text": [
      "100%|██████████| 7/7 [00:00<00:00, 150.17it/s]\n"
     ]
    },
    {
     "name": "stdout",
     "output_type": "stream",
     "text": [
      "\n",
      "=>> Epoch 2 Metrics ===\n",
      "\tTrain Loss: 0.14964 -- Val Loss: 0.67103 --Test Loss: 0.67103 -- Val Accuracy: 0.5200 -- Test Accuracy: 0.5200\n",
      "\tBest Val Loss: 0.67103 -- Best Val Accuracy: 0.5200 at Epoch 1\n",
      "\tBest Test Loss: 0.78921 -- Best Test Accuracy: 0.5200 at Epoch 1\n",
      "\n",
      "[*] Starting Training Epoch 3...\n",
      "using cosine annealing for epoch 3\n"
     ]
    },
    {
     "name": "stderr",
     "output_type": "stream",
     "text": [
      "100%|██████████| 25/25 [00:00<00:00, 31.27it/s]\n"
     ]
    },
    {
     "name": "stdout",
     "output_type": "stream",
     "text": [
      "[*] Running Epoch 3 Validation...\n"
     ]
    },
    {
     "name": "stderr",
     "output_type": "stream",
     "text": [
      "100%|██████████| 7/7 [00:00<00:00, 199.43it/s]\n"
     ]
    },
    {
     "name": "stdout",
     "output_type": "stream",
     "text": [
      "[*] Running Epoch 3 Test...\n"
     ]
    },
    {
     "name": "stderr",
     "output_type": "stream",
     "text": [
      "100%|██████████| 7/7 [00:00<00:00, 149.96it/s]\n"
     ]
    },
    {
     "name": "stdout",
     "output_type": "stream",
     "text": [
      "\n",
      "=>> Epoch 3 Metrics ===\n",
      "\tTrain Loss: 0.02742 -- Val Loss: 0.34462 --Test Loss: 0.34462 -- Val Accuracy: 0.8200 -- Test Accuracy: 0.8200\n",
      "\tBest Val Loss: 0.34462 -- Best Val Accuracy: 0.8200 at Epoch 3\n",
      "\tBest Test Loss: 0.34462 -- Best Test Accuracy: 0.8200 at Epoch 3\n",
      "\n",
      "[*] Starting Training Epoch 4...\n",
      "using cosine annealing for epoch 4\n"
     ]
    },
    {
     "name": "stderr",
     "output_type": "stream",
     "text": [
      "100%|██████████| 25/25 [00:00<00:00, 31.35it/s]\n"
     ]
    },
    {
     "name": "stdout",
     "output_type": "stream",
     "text": [
      "[*] Running Epoch 4 Validation...\n"
     ]
    },
    {
     "name": "stderr",
     "output_type": "stream",
     "text": [
      "100%|██████████| 7/7 [00:00<00:00, 200.04it/s]\n"
     ]
    },
    {
     "name": "stdout",
     "output_type": "stream",
     "text": [
      "[*] Running Epoch 4 Test...\n"
     ]
    },
    {
     "name": "stderr",
     "output_type": "stream",
     "text": [
      "100%|██████████| 7/7 [00:00<00:00, 149.53it/s]\n"
     ]
    },
    {
     "name": "stdout",
     "output_type": "stream",
     "text": [
      "\n",
      "=>> Epoch 4 Metrics ===\n",
      "\tTrain Loss: 0.00938 -- Val Loss: 0.16489 --Test Loss: 0.16489 -- Val Accuracy: 0.9300 -- Test Accuracy: 0.9300\n",
      "\tBest Val Loss: 0.16489 -- Best Val Accuracy: 0.9300 at Epoch 4\n",
      "\tBest Test Loss: 0.16489 -- Best Test Accuracy: 0.9300 at Epoch 4\n",
      "\n",
      "[*] Starting Training Epoch 5...\n",
      "using cosine annealing for epoch 5\n"
     ]
    },
    {
     "name": "stderr",
     "output_type": "stream",
     "text": [
      "100%|██████████| 25/25 [00:00<00:00, 31.31it/s]\n"
     ]
    },
    {
     "name": "stdout",
     "output_type": "stream",
     "text": [
      "[*] Running Epoch 5 Validation...\n"
     ]
    },
    {
     "name": "stderr",
     "output_type": "stream",
     "text": [
      "100%|██████████| 7/7 [00:00<00:00, 201.98it/s]\n"
     ]
    },
    {
     "name": "stdout",
     "output_type": "stream",
     "text": [
      "[*] Running Epoch 5 Test...\n"
     ]
    },
    {
     "name": "stderr",
     "output_type": "stream",
     "text": [
      "100%|██████████| 7/7 [00:00<00:00, 152.23it/s]\n"
     ]
    },
    {
     "name": "stdout",
     "output_type": "stream",
     "text": [
      "\n",
      "=>> Epoch 5 Metrics ===\n",
      "\tTrain Loss: 0.00687 -- Val Loss: 0.06754 --Test Loss: 0.06754 -- Val Accuracy: 0.9400 -- Test Accuracy: 0.9400\n",
      "\tBest Val Loss: 0.06754 -- Best Val Accuracy: 0.9400 at Epoch 5\n",
      "\tBest Test Loss: 0.06754 -- Best Test Accuracy: 0.9400 at Epoch 5\n",
      "\n",
      "[*] Starting Training Epoch 6...\n",
      "using cosine annealing for epoch 6\n"
     ]
    },
    {
     "name": "stderr",
     "output_type": "stream",
     "text": [
      "100%|██████████| 25/25 [00:00<00:00, 31.39it/s]\n"
     ]
    },
    {
     "name": "stdout",
     "output_type": "stream",
     "text": [
      "[*] Running Epoch 6 Validation...\n"
     ]
    },
    {
     "name": "stderr",
     "output_type": "stream",
     "text": [
      "100%|██████████| 7/7 [00:00<00:00, 200.01it/s]\n"
     ]
    },
    {
     "name": "stdout",
     "output_type": "stream",
     "text": [
      "[*] Running Epoch 6 Test...\n"
     ]
    },
    {
     "name": "stderr",
     "output_type": "stream",
     "text": [
      "100%|██████████| 7/7 [00:00<00:00, 149.81it/s]\n"
     ]
    },
    {
     "name": "stdout",
     "output_type": "stream",
     "text": [
      "\n",
      "=>> Epoch 6 Metrics ===\n",
      "\tTrain Loss: 0.00612 -- Val Loss: 0.02178 --Test Loss: 0.02178 -- Val Accuracy: 1.0000 -- Test Accuracy: 1.0000\n",
      "\tBest Val Loss: 0.02178 -- Best Val Accuracy: 1.0000 at Epoch 6\n",
      "\tBest Test Loss: 0.02178 -- Best Test Accuracy: 1.0000 at Epoch 6\n",
      "\n",
      "[*] Starting Training Epoch 7...\n",
      "using cosine annealing for epoch 7\n"
     ]
    },
    {
     "name": "stderr",
     "output_type": "stream",
     "text": [
      "100%|██████████| 25/25 [00:00<00:00, 31.37it/s]\n"
     ]
    },
    {
     "name": "stdout",
     "output_type": "stream",
     "text": [
      "[*] Running Epoch 7 Validation...\n"
     ]
    },
    {
     "name": "stderr",
     "output_type": "stream",
     "text": [
      "100%|██████████| 7/7 [00:00<00:00, 199.90it/s]\n"
     ]
    },
    {
     "name": "stdout",
     "output_type": "stream",
     "text": [
      "[*] Running Epoch 7 Test...\n"
     ]
    },
    {
     "name": "stderr",
     "output_type": "stream",
     "text": [
      "100%|██████████| 7/7 [00:00<00:00, 149.84it/s]\n"
     ]
    },
    {
     "name": "stdout",
     "output_type": "stream",
     "text": [
      "\n",
      "=>> Epoch 7 Metrics ===\n",
      "\tTrain Loss: 0.00565 -- Val Loss: 0.00826 --Test Loss: 0.00826 -- Val Accuracy: 1.0000 -- Test Accuracy: 1.0000\n",
      "\tBest Val Loss: 0.00826 -- Best Val Accuracy: 1.0000 at Epoch 6\n",
      "\tBest Test Loss: 0.02178 -- Best Test Accuracy: 1.0000 at Epoch 6\n",
      "\n",
      "[*] Starting Training Epoch 8...\n",
      "using cosine annealing for epoch 8\n"
     ]
    },
    {
     "name": "stderr",
     "output_type": "stream",
     "text": [
      "100%|██████████| 25/25 [00:00<00:00, 31.29it/s]\n"
     ]
    },
    {
     "name": "stdout",
     "output_type": "stream",
     "text": [
      "[*] Running Epoch 8 Validation...\n"
     ]
    },
    {
     "name": "stderr",
     "output_type": "stream",
     "text": [
      "100%|██████████| 7/7 [00:00<00:00, 201.73it/s]\n"
     ]
    },
    {
     "name": "stdout",
     "output_type": "stream",
     "text": [
      "[*] Running Epoch 8 Test...\n"
     ]
    },
    {
     "name": "stderr",
     "output_type": "stream",
     "text": [
      "100%|██████████| 7/7 [00:00<00:00, 151.88it/s]"
     ]
    },
    {
     "name": "stdout",
     "output_type": "stream",
     "text": [
      "\n",
      "=>> Epoch 8 Metrics ===\n",
      "\tTrain Loss: 0.00535 -- Val Loss: 0.00579 --Test Loss: 0.00579 -- Val Accuracy: 1.0000 -- Test Accuracy: 1.0000\n",
      "\tBest Val Loss: 0.00579 -- Best Val Accuracy: 1.0000 at Epoch 6\n",
      "\tBest Test Loss: 0.02178 -- Best Test Accuracy: 1.0000 at Epoch 6\n",
      "\n"
     ]
    },
    {
     "name": "stderr",
     "output_type": "stream",
     "text": [
      "\n"
     ]
    }
   ],
   "source": [
    "args = TrainArgs(\n",
    "    C_init='trunc_standard_normal', batchnorm=True, bidirectional=True,\n",
    "    epoch_save_dir=\"epochs_ultralight_clf\", save_training=2,\n",
    "    blocks=16, bsz=32, d_model=8, clear_cache=True, data_dir=\"ultralight/clf\",\n",
    "    problem_type='clf', dt_global=True, epochs=8, jax_seed=5464368, lr_factor=2, n_layers=1,\n",
    "    opt_config='standard', p_dropout=0.0, ssm_lr_base=0.01, ssm_size_base=128,\n",
    "    warmup_end=1, weight_decay=0.05)\n",
    "\n",
    "train(args)"
   ]
  },
  {
   "cell_type": "code",
   "execution_count": 3,
   "id": "bd08e15a-f29b-444d-a99e-fcce1239a11c",
   "metadata": {},
   "outputs": [
    {
     "data": {
      "image/png": "[encoded data removed]",
      "text/plain": [
       "<Figure size 1200x500 with 8 Axes>"
      ]
     },
     "metadata": {},
     "output_type": "display_data"
    }
   ],
   "source": [
    "# load results\n",
    "fig, axs = plt.subplots(2, 4, figsize=(12, 5), tight_layout=True)\n",
    "\n",
    "for cepoch, ax in enumerate(axs.flatten()):\n",
    "    data = np.load(f'epochs_ultralight_clf/epoch_{cepoch}.npy', allow_pickle=True)[0]\n",
    "    targs = data['val_targ']\n",
    "    \n",
    "    logits = data['val_pred']\n",
    "    logits = np.reshape(logits, (len(logits)//2, 2))\n",
    "    preds = np.argmax(logits, axis=1)\n",
    "    \n",
    "    ax.scatter(preds+.01*np.random.randn(len(preds)), targs+.01*np.random.randn(len(targs)), c='k', s=5)\n",
    "    acc = np.mean(preds == targs)\n",
    "    set_plot(ax, x_label='Prediction', y_label='Target', title=f'Epoch {cepoch}\\nAccuracy = {acc:.5f}')"
   ]
  },
  {
   "cell_type": "markdown",
   "id": "09562a72-d607-4084-9fb5-ceedda9ee26f",
   "metadata": {},
   "source": [
    "### Scrambled data"
   ]
  },
  {
   "cell_type": "code",
   "execution_count": 4,
   "id": "f4a0472a-49f6-4aed-8539-5448a64c5fce",
   "metadata": {},
   "outputs": [
    {
     "name": "stdout",
     "output_type": "stream",
     "text": [
      "[*] Setting Randomness...\n",
      "[*] Generating Fly Courtship Classification Dataset\n",
      "Clearing cache...\n"
     ]
    },
    {
     "name": "stderr",
     "output_type": "stream",
     "text": [
      "Casting the dataset: 100%|██████████| 800/800 [00:00<00:00, 519177.35 examples/s]\n",
      "Casting the dataset: 100%|██████████| 200/200 [00:00<00:00, 162696.04 examples/s]\n",
      "Casting the dataset: 100%|██████████| 200/200 [00:00<00:00, 170396.26 examples/s]\n",
      "Map: 100%|██████████| 800/800 [00:00<00:00, 33916.32 examples/s]\n",
      "Map: 100%|██████████| 200/200 [00:00<00:00, 29852.70 examples/s]\n",
      "Map: 100%|██████████| 200/200 [00:00<00:00, 27080.12 examples/s]\n",
      "Map: 100%|██████████| 800/800 [00:00<00:00, 24775.49 examples/s]\n",
      "Map: 100%|██████████| 200/200 [00:00<00:00, 21654.73 examples/s]\n",
      "Map: 100%|██████████| 200/200 [00:00<00:00, 21981.00 examples/s]\n",
      "Saving the dataset (1/1 shards): 100%|██████████| 800/800 [00:00<00:00, 273623.35 examples/s]\n",
      "Saving the dataset (1/1 shards): 100%|██████████| 200/200 [00:00<00:00, 69934.21 examples/s] \n",
      "Saving the dataset (1/1 shards): 100%|██████████| 200/200 [00:00<00:00, 48075.01 examples/s] \n"
     ]
    },
    {
     "name": "stdout",
     "output_type": "stream",
     "text": [
      "Fly song vocab size: 6\n",
      "[*] Starting S5 clf training on `ultralight/clf_scrambled` =>> Initializing...\n",
      "Lambda.shape=(64,)\n",
      "V.shape=(128, 64)\n",
      "Vinv.shape=(64, 128)\n",
      "configuring standard optimization setup\n",
      "[*] Trainable Parameters: 3434\n",
      "[*] Starting Training Epoch 1...\n",
      "using linear warmup for epoch 1\n"
     ]
    },
    {
     "name": "stderr",
     "output_type": "stream",
     "text": [
      "100%|██████████| 25/25 [00:08<00:00,  2.92it/s]\n"
     ]
    },
    {
     "name": "stdout",
     "output_type": "stream",
     "text": [
      "[*] Running Epoch 1 Validation...\n"
     ]
    },
    {
     "name": "stderr",
     "output_type": "stream",
     "text": [
      "100%|██████████| 7/7 [00:03<00:00,  1.85it/s]\n"
     ]
    },
    {
     "name": "stdout",
     "output_type": "stream",
     "text": [
      "[*] Running Epoch 1 Test...\n"
     ]
    },
    {
     "name": "stderr",
     "output_type": "stream",
     "text": [
      "100%|██████████| 7/7 [00:00<00:00, 196.70it/s]\n"
     ]
    },
    {
     "name": "stdout",
     "output_type": "stream",
     "text": [
      "\n",
      "=>> Epoch 1 Metrics ===\n",
      "\tTrain Loss: 3.86384 -- Val Loss: 0.72017 --Test Loss: 0.72017 -- Val Accuracy: 0.6000 -- Test Accuracy: 0.6000\n",
      "\tBest Val Loss: 0.72017 -- Best Val Accuracy: 0.6000 at Epoch 1\n",
      "\tBest Test Loss: 0.72017 -- Best Test Accuracy: 0.6000 at Epoch 1\n",
      "\n",
      "[*] Starting Training Epoch 2...\n",
      "using cosine annealing for epoch 2\n"
     ]
    },
    {
     "name": "stderr",
     "output_type": "stream",
     "text": [
      "100%|██████████| 25/25 [00:00<00:00, 31.35it/s]\n"
     ]
    },
    {
     "name": "stdout",
     "output_type": "stream",
     "text": [
      "[*] Running Epoch 2 Validation...\n"
     ]
    },
    {
     "name": "stderr",
     "output_type": "stream",
     "text": [
      "100%|██████████| 7/7 [00:00<00:00, 199.17it/s]\n"
     ]
    },
    {
     "name": "stdout",
     "output_type": "stream",
     "text": [
      "[*] Running Epoch 2 Test...\n"
     ]
    },
    {
     "name": "stderr",
     "output_type": "stream",
     "text": [
      "100%|██████████| 7/7 [00:00<00:00, 149.73it/s]\n"
     ]
    },
    {
     "name": "stdout",
     "output_type": "stream",
     "text": [
      "\n",
      "=>> Epoch 2 Metrics ===\n",
      "\tTrain Loss: 0.85898 -- Val Loss: 0.69035 --Test Loss: 0.69035 -- Val Accuracy: 0.6000 -- Test Accuracy: 0.6000\n",
      "\tBest Val Loss: 0.69035 -- Best Val Accuracy: 0.6000 at Epoch 1\n",
      "\tBest Test Loss: 0.72017 -- Best Test Accuracy: 0.6000 at Epoch 1\n",
      "\n",
      "[*] Starting Training Epoch 3...\n",
      "using cosine annealing for epoch 3\n"
     ]
    },
    {
     "name": "stderr",
     "output_type": "stream",
     "text": [
      "100%|██████████| 25/25 [00:00<00:00, 31.36it/s]\n"
     ]
    },
    {
     "name": "stdout",
     "output_type": "stream",
     "text": [
      "[*] Running Epoch 3 Validation...\n"
     ]
    },
    {
     "name": "stderr",
     "output_type": "stream",
     "text": [
      "100%|██████████| 7/7 [00:00<00:00, 199.84it/s]\n"
     ]
    },
    {
     "name": "stdout",
     "output_type": "stream",
     "text": [
      "[*] Running Epoch 3 Test...\n"
     ]
    },
    {
     "name": "stderr",
     "output_type": "stream",
     "text": [
      "100%|██████████| 7/7 [00:00<00:00, 149.89it/s]\n"
     ]
    },
    {
     "name": "stdout",
     "output_type": "stream",
     "text": [
      "\n",
      "=>> Epoch 3 Metrics ===\n",
      "\tTrain Loss: 0.75151 -- Val Loss: 0.70528 --Test Loss: 0.70528 -- Val Accuracy: 0.6000 -- Test Accuracy: 0.6000\n",
      "\tBest Val Loss: 0.69035 -- Best Val Accuracy: 0.6000 at Epoch 1\n",
      "\tBest Test Loss: 0.72017 -- Best Test Accuracy: 0.6000 at Epoch 1\n",
      "\n",
      "[*] Starting Training Epoch 4...\n",
      "using cosine annealing for epoch 4\n"
     ]
    },
    {
     "name": "stderr",
     "output_type": "stream",
     "text": [
      "100%|██████████| 25/25 [00:00<00:00, 31.32it/s]\n"
     ]
    },
    {
     "name": "stdout",
     "output_type": "stream",
     "text": [
      "[*] Running Epoch 4 Validation...\n"
     ]
    },
    {
     "name": "stderr",
     "output_type": "stream",
     "text": [
      "100%|██████████| 7/7 [00:00<00:00, 199.85it/s]\n"
     ]
    },
    {
     "name": "stdout",
     "output_type": "stream",
     "text": [
      "[*] Running Epoch 4 Test...\n"
     ]
    },
    {
     "name": "stderr",
     "output_type": "stream",
     "text": [
      "100%|██████████| 7/7 [00:00<00:00, 149.83it/s]\n"
     ]
    },
    {
     "name": "stdout",
     "output_type": "stream",
     "text": [
      "\n",
      "=>> Epoch 4 Metrics ===\n",
      "\tTrain Loss: 0.70956 -- Val Loss: 0.71866 --Test Loss: 0.71866 -- Val Accuracy: 0.6000 -- Test Accuracy: 0.6000\n",
      "\tBest Val Loss: 0.69035 -- Best Val Accuracy: 0.6000 at Epoch 1\n",
      "\tBest Test Loss: 0.72017 -- Best Test Accuracy: 0.6000 at Epoch 1\n",
      "\n",
      "[*] Starting Training Epoch 5...\n",
      "using cosine annealing for epoch 5\n"
     ]
    },
    {
     "name": "stderr",
     "output_type": "stream",
     "text": [
      "100%|██████████| 25/25 [00:00<00:00, 31.37it/s]\n"
     ]
    },
    {
     "name": "stdout",
     "output_type": "stream",
     "text": [
      "[*] Running Epoch 5 Validation...\n"
     ]
    },
    {
     "name": "stderr",
     "output_type": "stream",
     "text": [
      "100%|██████████| 7/7 [00:00<00:00, 200.06it/s]\n"
     ]
    },
    {
     "name": "stdout",
     "output_type": "stream",
     "text": [
      "[*] Running Epoch 5 Test...\n"
     ]
    },
    {
     "name": "stderr",
     "output_type": "stream",
     "text": [
      "100%|██████████| 7/7 [00:00<00:00, 149.79it/s]\n"
     ]
    },
    {
     "name": "stdout",
     "output_type": "stream",
     "text": [
      "\n",
      "=>> Epoch 5 Metrics ===\n",
      "\tTrain Loss: 0.69543 -- Val Loss: 0.74061 --Test Loss: 0.74061 -- Val Accuracy: 0.6000 -- Test Accuracy: 0.6000\n",
      "\tBest Val Loss: 0.69035 -- Best Val Accuracy: 0.6000 at Epoch 1\n",
      "\tBest Test Loss: 0.72017 -- Best Test Accuracy: 0.6000 at Epoch 1\n",
      "\n",
      "[*] Starting Training Epoch 6...\n",
      "using cosine annealing for epoch 6\n"
     ]
    },
    {
     "name": "stderr",
     "output_type": "stream",
     "text": [
      "100%|██████████| 25/25 [00:00<00:00, 31.27it/s]\n"
     ]
    },
    {
     "name": "stdout",
     "output_type": "stream",
     "text": [
      "[*] Running Epoch 6 Validation...\n"
     ]
    },
    {
     "name": "stderr",
     "output_type": "stream",
     "text": [
      "100%|██████████| 7/7 [00:00<00:00, 198.96it/s]\n"
     ]
    },
    {
     "name": "stdout",
     "output_type": "stream",
     "text": [
      "[*] Running Epoch 6 Test...\n"
     ]
    },
    {
     "name": "stderr",
     "output_type": "stream",
     "text": [
      "100%|██████████| 7/7 [00:00<00:00, 149.62it/s]\n"
     ]
    },
    {
     "name": "stdout",
     "output_type": "stream",
     "text": [
      "\n",
      "=>> Epoch 6 Metrics ===\n",
      "\tTrain Loss: 0.69295 -- Val Loss: 0.69698 --Test Loss: 0.69698 -- Val Accuracy: 0.6050 -- Test Accuracy: 0.6050\n",
      "\tBest Val Loss: 0.69035 -- Best Val Accuracy: 0.6050 at Epoch 6\n",
      "\tBest Test Loss: 0.69698 -- Best Test Accuracy: 0.6050 at Epoch 6\n",
      "\n",
      "[*] Starting Training Epoch 7...\n",
      "using cosine annealing for epoch 7\n"
     ]
    },
    {
     "name": "stderr",
     "output_type": "stream",
     "text": [
      "100%|██████████| 25/25 [00:00<00:00, 31.24it/s]\n"
     ]
    },
    {
     "name": "stdout",
     "output_type": "stream",
     "text": [
      "[*] Running Epoch 7 Validation...\n"
     ]
    },
    {
     "name": "stderr",
     "output_type": "stream",
     "text": [
      "100%|██████████| 7/7 [00:00<00:00, 199.82it/s]\n"
     ]
    },
    {
     "name": "stdout",
     "output_type": "stream",
     "text": [
      "[*] Running Epoch 7 Test...\n"
     ]
    },
    {
     "name": "stderr",
     "output_type": "stream",
     "text": [
      "100%|██████████| 7/7 [00:00<00:00, 150.00it/s]\n"
     ]
    },
    {
     "name": "stdout",
     "output_type": "stream",
     "text": [
      "\n",
      "=>> Epoch 7 Metrics ===\n",
      "\tTrain Loss: 0.69219 -- Val Loss: 0.66945 --Test Loss: 0.66945 -- Val Accuracy: 0.6000 -- Test Accuracy: 0.6000\n",
      "\tBest Val Loss: 0.66945 -- Best Val Accuracy: 0.6050 at Epoch 6\n",
      "\tBest Test Loss: 0.69698 -- Best Test Accuracy: 0.6050 at Epoch 6\n",
      "\n",
      "[*] Starting Training Epoch 8...\n",
      "using cosine annealing for epoch 8\n"
     ]
    },
    {
     "name": "stderr",
     "output_type": "stream",
     "text": [
      "100%|██████████| 25/25 [00:00<00:00, 31.36it/s]\n"
     ]
    },
    {
     "name": "stdout",
     "output_type": "stream",
     "text": [
      "[*] Running Epoch 8 Validation...\n"
     ]
    },
    {
     "name": "stderr",
     "output_type": "stream",
     "text": [
      "100%|██████████| 7/7 [00:00<00:00, 199.92it/s]\n"
     ]
    },
    {
     "name": "stdout",
     "output_type": "stream",
     "text": [
      "[*] Running Epoch 8 Test...\n"
     ]
    },
    {
     "name": "stderr",
     "output_type": "stream",
     "text": [
      "100%|██████████| 7/7 [00:00<00:00, 149.68it/s]"
     ]
    },
    {
     "name": "stdout",
     "output_type": "stream",
     "text": [
      "\n",
      "=>> Epoch 8 Metrics ===\n",
      "\tTrain Loss: 0.68873 -- Val Loss: 0.68183 --Test Loss: 0.68183 -- Val Accuracy: 0.5800 -- Test Accuracy: 0.5800\n",
      "\tBest Val Loss: 0.66945 -- Best Val Accuracy: 0.6050 at Epoch 6\n",
      "\tBest Test Loss: 0.69698 -- Best Test Accuracy: 0.6050 at Epoch 6\n",
      "\n"
     ]
    },
    {
     "name": "stderr",
     "output_type": "stream",
     "text": [
      "\n"
     ]
    }
   ],
   "source": [
    "args = TrainArgs(\n",
    "    C_init='trunc_standard_normal', batchnorm=True, bidirectional=True,\n",
    "    epoch_save_dir=\"epochs_ultralight_clf\", save_training=2,\n",
    "    blocks=16, bsz=32, d_model=8, clear_cache=True, data_dir=\"ultralight/clf_scrambled\",\n",
    "    problem_type='clf', dt_global=True, epochs=8, jax_seed=5464368, lr_factor=2, n_layers=1,\n",
    "    opt_config='standard', p_dropout=0.0, ssm_lr_base=0.01, ssm_size_base=128,\n",
    "    warmup_end=1, weight_decay=0.05)\n",
    "\n",
    "train(args)"
   ]
  },
  {
   "cell_type": "code",
   "execution_count": 5,
   "id": "6565fbf7-0b6a-4bb6-962d-2eeafe671614",
   "metadata": {},
   "outputs": [
    {
     "data": {
      "image/png": "[encoded data removed]",
      "text/plain": [
       "<Figure size 1200x500 with 8 Axes>"
      ]
     },
     "metadata": {},
     "output_type": "display_data"
    }
   ],
   "source": [
    "# load results\n",
    "fig, axs = plt.subplots(2, 4, figsize=(12, 5), tight_layout=True)\n",
    "\n",
    "for cepoch, ax in enumerate(axs.flatten()):\n",
    "    data = np.load(f'epochs_ultralight_clf/epoch_{cepoch}.npy', allow_pickle=True)[0]\n",
    "    targs = data['val_targ']\n",
    "    \n",
    "    logits = data['val_pred']\n",
    "    logits = np.reshape(logits, (len(logits)//2, 2))\n",
    "    preds = np.argmax(logits, axis=1)\n",
    "    \n",
    "    ax.scatter(preds+.01*np.random.randn(len(preds)), targs+.01*np.random.randn(len(targs)), c='k', s=5)\n",
    "    acc = np.mean(preds == targs)\n",
    "    set_plot(ax, x_label='Prediction', y_label='Target', title=f'Epoch {cepoch}\\nAccuracy = {acc:.5f}')"
   ]
  },
  {
   "cell_type": "code",
   "execution_count": null,
   "id": "3c4fcc8e-b2ed-490f-90ff-fd9c38b39664",
   "metadata": {},
   "outputs": [],
   "source": []
  }
 ],
 "metadata": {
  "kernelspec": {
   "display_name": "s5-gpu [~/.conda/envs/s5-gpu/]",
   "language": "python",
   "name": "conda_s5-gpu"
  },
  "language_info": {
   "codemirror_mode": {
    "name": "ipython",
    "version": 3
   },
   "file_extension": ".py",
   "mimetype": "text/x-python",
   "name": "python",
   "nbconvert_exporter": "python",
   "pygments_lexer": "ipython3",
   "version": "3.11.4"
  }
 },
 "nbformat": 4,
 "nbformat_minor": 5
}
