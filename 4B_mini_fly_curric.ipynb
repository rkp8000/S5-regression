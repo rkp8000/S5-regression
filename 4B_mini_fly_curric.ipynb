{
 "cells": [
  {
   "cell_type": "code",
   "execution_count": 1,
   "id": "c12d6687-22d2-4d7f-983c-03f4defaa48d",
   "metadata": {},
   "outputs": [],
   "source": [
    "import matplotlib.pyplot as plt\n",
    "import numpy as np\n",
    "from scipy import stats\n",
    "import os\n",
    "\n",
    "from disp import get_line, set_color, set_plot\n",
    "from my_torch import fit_song_fmtn\n",
    "from run_train import TrainArgs, train\n",
    "\n",
    "cc = np.concatenate\n",
    "\n",
    "# DATA_DIR = 'fly_curric_mini/lookback_500_tau_r_60_nsample_7500'\n",
    "# DATA_DIR = 'fly_curric_mini/lookback_500_tau_r_60_nsample_15000'\n",
    "DATA_DIR = 'fly_curric_mini/lookback_500_tau_r_1_nsample_15000'\n",
    "\n",
    "# DATA_DIR = os.path.join(DATA_DIR, 'scrambled')  # use scrambled data"
   ]
  },
  {
   "cell_type": "code",
   "execution_count": 2,
   "id": "fc9403d1-54ae-49fc-9623-1547bcd4041b",
   "metadata": {},
   "outputs": [
    {
     "name": "stdout",
     "output_type": "stream",
     "text": [
      "Deleting saved epoch files from epochs_rgr...\n",
      "[*] Setting Randomness...\n",
      "[*] Generating Fly Courtship Regression Dataset\n"
     ]
    },
    {
     "name": "stderr",
     "output_type": "stream",
     "text": [
      "/home/rp21/.conda/envs/s5-gpu/lib/python3.11/site-packages/tqdm/auto.py:21: TqdmWarning: IProgress not found. Please update jupyter and ipywidgets. See https://ipywidgets.readthedocs.io/en/stable/user_install.html\n",
      "  from .autonotebook import tqdm as notebook_tqdm\n"
     ]
    },
    {
     "name": "stdout",
     "output_type": "stream",
     "text": [
      "Clearing cache...\n"
     ]
    },
    {
     "name": "stderr",
     "output_type": "stream",
     "text": [
      "Downloading data files: 100%|██████████| 3/3 [00:00<00:00, 24576.00it/s]\n",
      "Extracting data files: 100%|██████████| 3/3 [00:00<00:00, 478.78it/s]\n",
      "Generating train split: 12000 examples [00:00, 181424.34 examples/s]\n",
      "Generating val split: 3000 examples [00:00, 180825.34 examples/s]\n",
      "Generating test split: 3000 examples [00:00, 189441.77 examples/s]\n",
      "Casting the dataset: 100%|██████████| 12000/12000 [00:00<00:00, 1770308.75 examples/s]\n",
      "Casting the dataset: 100%|██████████| 3000/3000 [00:00<00:00, 1629488.73 examples/s]\n",
      "Casting the dataset: 100%|██████████| 3000/3000 [00:00<00:00, 1283708.63 examples/s]\n",
      "Map: 100%|██████████| 12000/12000 [00:00<00:00, 17896.31 examples/s]\n",
      "Map: 100%|██████████| 3000/3000 [00:00<00:00, 18087.21 examples/s]\n",
      "Map: 100%|██████████| 3000/3000 [00:00<00:00, 17898.78 examples/s]\n",
      "Map: 100%|██████████| 12000/12000 [00:04<00:00, 2568.62 examples/s]\n",
      "Map: 100%|██████████| 3000/3000 [00:01<00:00, 2563.97 examples/s]\n",
      "Map: 100%|██████████| 3000/3000 [00:01<00:00, 2551.85 examples/s]\n",
      "Saving the dataset (1/1 shards): 100%|██████████| 12000/12000 [00:00<00:00, 649742.44 examples/s]\n",
      "Saving the dataset (1/1 shards): 100%|██████████| 3000/3000 [00:00<00:00, 457960.11 examples/s]\n",
      "Saving the dataset (1/1 shards): 100%|██████████| 3000/3000 [00:00<00:00, 448588.66 examples/s]\n"
     ]
    },
    {
     "name": "stdout",
     "output_type": "stream",
     "text": [
      "Fly song vocab size: 6\n",
      "[*] Starting S5 rgr training on `fly_curric_mini/lookback_500_tau_r_1_nsample_15000` =>> Initializing...\n",
      "Lambda.shape=(32,)\n",
      "V.shape=(64, 32)\n",
      "Vinv.shape=(32, 64)\n",
      "configuring standard optimization setup\n",
      "[*] Trainable Parameters: 5249\n"
     ]
    },
    {
     "name": "stderr",
     "output_type": "stream",
     "text": [
      "/scratch/gpfs/rp21/s5_test/S5-regression/s5/train_helpers.py:244: FutureWarning: jax.tree_leaves is deprecated, and will be removed in a future release. Use jax.tree_util.tree_leaves instead.\n",
      "  print(f\"[*] Trainable Parameters: {sum(jax.tree_leaves(param_sizes))}\")\n"
     ]
    },
    {
     "name": "stdout",
     "output_type": "stream",
     "text": [
      "[*] Starting Training Epoch 1...\n",
      "using constant lr for epoch 1\n"
     ]
    },
    {
     "name": "stderr",
     "output_type": "stream",
     "text": [
      "100%|██████████| 375/375 [00:34<00:00, 10.82it/s]\n"
     ]
    },
    {
     "name": "stdout",
     "output_type": "stream",
     "text": [
      "[*] Running Epoch 1 Validation...\n"
     ]
    },
    {
     "name": "stderr",
     "output_type": "stream",
     "text": [
      "100%|██████████| 94/94 [00:21<00:00,  4.34it/s]\n"
     ]
    },
    {
     "name": "stdout",
     "output_type": "stream",
     "text": [
      "[*] Running Epoch 1 Test...\n"
     ]
    },
    {
     "name": "stderr",
     "output_type": "stream",
     "text": [
      "100%|██████████| 94/94 [00:01<00:00, 79.38it/s] \n"
     ]
    },
    {
     "name": "stdout",
     "output_type": "stream",
     "text": [
      "\n",
      "=>> Epoch 1 Metrics ===\n",
      "\tTrain Loss: 0.05143 -- Val Loss: 0.02119 --Test Loss: 0.02119 -- Val Accuracy: nan -- Test Accuracy: nan\n",
      "\tBest Val Loss: 0.02119 -- Best Val Accuracy: -100000000.0000 at Epoch 1\n",
      "\tBest Test Loss: 100000000.00000 -- Best Test Accuracy: -10000.0000 at Epoch 1\n",
      "\n",
      "[*] Starting Training Epoch 2...\n",
      "using constant lr for epoch 2\n"
     ]
    },
    {
     "name": "stderr",
     "output_type": "stream",
     "text": [
      "100%|██████████| 375/375 [00:18<00:00, 19.95it/s]\n"
     ]
    },
    {
     "name": "stdout",
     "output_type": "stream",
     "text": [
      "[*] Running Epoch 2 Validation...\n"
     ]
    },
    {
     "name": "stderr",
     "output_type": "stream",
     "text": [
      "100%|██████████| 94/94 [00:01<00:00, 79.37it/s] \n"
     ]
    },
    {
     "name": "stdout",
     "output_type": "stream",
     "text": [
      "[*] Running Epoch 2 Test...\n"
     ]
    },
    {
     "name": "stderr",
     "output_type": "stream",
     "text": [
      "100%|██████████| 94/94 [00:01<00:00, 76.81it/s]\n"
     ]
    },
    {
     "name": "stdout",
     "output_type": "stream",
     "text": [
      "\n",
      "=>> Epoch 2 Metrics ===\n",
      "\tTrain Loss: 0.02008 -- Val Loss: 0.01641 --Test Loss: 0.01641 -- Val Accuracy: nan -- Test Accuracy: nan\n",
      "\tBest Val Loss: 0.01641 -- Best Val Accuracy: -100000000.0000 at Epoch 1\n",
      "\tBest Test Loss: 100000000.00000 -- Best Test Accuracy: -10000.0000 at Epoch 1\n",
      "\n",
      "[*] Starting Training Epoch 3...\n",
      "using constant lr for epoch 3\n"
     ]
    },
    {
     "name": "stderr",
     "output_type": "stream",
     "text": [
      "100%|██████████| 375/375 [00:18<00:00, 19.86it/s]\n"
     ]
    },
    {
     "name": "stdout",
     "output_type": "stream",
     "text": [
      "[*] Running Epoch 3 Validation...\n"
     ]
    },
    {
     "name": "stderr",
     "output_type": "stream",
     "text": [
      "100%|██████████| 94/94 [00:01<00:00, 79.40it/s] \n"
     ]
    },
    {
     "name": "stdout",
     "output_type": "stream",
     "text": [
      "[*] Running Epoch 3 Test...\n"
     ]
    },
    {
     "name": "stderr",
     "output_type": "stream",
     "text": [
      "100%|██████████| 94/94 [00:01<00:00, 76.86it/s]\n"
     ]
    },
    {
     "name": "stdout",
     "output_type": "stream",
     "text": [
      "\n",
      "=>> Epoch 3 Metrics ===\n",
      "\tTrain Loss: 0.01589 -- Val Loss: 0.01571 --Test Loss: 0.01571 -- Val Accuracy: nan -- Test Accuracy: nan\n",
      "\tBest Val Loss: 0.01571 -- Best Val Accuracy: -100000000.0000 at Epoch 1\n",
      "\tBest Test Loss: 100000000.00000 -- Best Test Accuracy: -10000.0000 at Epoch 1\n",
      "\n",
      "[*] Starting Training Epoch 4...\n",
      "using constant lr for epoch 4\n"
     ]
    },
    {
     "name": "stderr",
     "output_type": "stream",
     "text": [
      "100%|██████████| 375/375 [00:18<00:00, 19.87it/s]\n"
     ]
    },
    {
     "name": "stdout",
     "output_type": "stream",
     "text": [
      "[*] Running Epoch 4 Validation...\n"
     ]
    },
    {
     "name": "stderr",
     "output_type": "stream",
     "text": [
      "100%|██████████| 94/94 [00:01<00:00, 79.29it/s] \n"
     ]
    },
    {
     "name": "stdout",
     "output_type": "stream",
     "text": [
      "[*] Running Epoch 4 Test...\n"
     ]
    },
    {
     "name": "stderr",
     "output_type": "stream",
     "text": [
      "100%|██████████| 94/94 [00:01<00:00, 76.86it/s]\n"
     ]
    },
    {
     "name": "stdout",
     "output_type": "stream",
     "text": [
      "\n",
      "=>> Epoch 4 Metrics ===\n",
      "\tTrain Loss: 0.01318 -- Val Loss: 0.01081 --Test Loss: 0.01081 -- Val Accuracy: nan -- Test Accuracy: nan\n",
      "\tBest Val Loss: 0.01081 -- Best Val Accuracy: -100000000.0000 at Epoch 1\n",
      "\tBest Test Loss: 100000000.00000 -- Best Test Accuracy: -10000.0000 at Epoch 1\n",
      "\n",
      "[*] Starting Training Epoch 5...\n",
      "using constant lr for epoch 5\n"
     ]
    },
    {
     "name": "stderr",
     "output_type": "stream",
     "text": [
      "100%|██████████| 375/375 [00:18<00:00, 19.86it/s]\n"
     ]
    },
    {
     "name": "stdout",
     "output_type": "stream",
     "text": [
      "[*] Running Epoch 5 Validation...\n"
     ]
    },
    {
     "name": "stderr",
     "output_type": "stream",
     "text": [
      "100%|██████████| 94/94 [00:01<00:00, 79.29it/s] \n"
     ]
    },
    {
     "name": "stdout",
     "output_type": "stream",
     "text": [
      "[*] Running Epoch 5 Test...\n"
     ]
    },
    {
     "name": "stderr",
     "output_type": "stream",
     "text": [
      "100%|██████████| 94/94 [00:01<00:00, 76.80it/s]\n"
     ]
    },
    {
     "name": "stdout",
     "output_type": "stream",
     "text": [
      "\n",
      "=>> Epoch 5 Metrics ===\n",
      "\tTrain Loss: 0.01243 -- Val Loss: 0.00751 --Test Loss: 0.00751 -- Val Accuracy: nan -- Test Accuracy: nan\n",
      "\tBest Val Loss: 0.00751 -- Best Val Accuracy: -100000000.0000 at Epoch 1\n",
      "\tBest Test Loss: 100000000.00000 -- Best Test Accuracy: -10000.0000 at Epoch 1\n",
      "\n",
      "[*] Starting Training Epoch 6...\n",
      "using constant lr for epoch 6\n"
     ]
    },
    {
     "name": "stderr",
     "output_type": "stream",
     "text": [
      "100%|██████████| 375/375 [00:18<00:00, 19.93it/s]\n"
     ]
    },
    {
     "name": "stdout",
     "output_type": "stream",
     "text": [
      "[*] Running Epoch 6 Validation...\n"
     ]
    },
    {
     "name": "stderr",
     "output_type": "stream",
     "text": [
      "100%|██████████| 94/94 [00:01<00:00, 79.44it/s] \n"
     ]
    },
    {
     "name": "stdout",
     "output_type": "stream",
     "text": [
      "[*] Running Epoch 6 Test...\n"
     ]
    },
    {
     "name": "stderr",
     "output_type": "stream",
     "text": [
      "100%|██████████| 94/94 [00:01<00:00, 76.92it/s]\n"
     ]
    },
    {
     "name": "stdout",
     "output_type": "stream",
     "text": [
      "\n",
      "=>> Epoch 6 Metrics ===\n",
      "\tTrain Loss: 0.00962 -- Val Loss: 0.00737 --Test Loss: 0.00737 -- Val Accuracy: nan -- Test Accuracy: nan\n",
      "\tBest Val Loss: 0.00737 -- Best Val Accuracy: -100000000.0000 at Epoch 1\n",
      "\tBest Test Loss: 100000000.00000 -- Best Test Accuracy: -10000.0000 at Epoch 1\n",
      "\n",
      "[*] Starting Training Epoch 7...\n",
      "using constant lr for epoch 7\n"
     ]
    },
    {
     "name": "stderr",
     "output_type": "stream",
     "text": [
      "100%|██████████| 375/375 [00:18<00:00, 19.93it/s]\n"
     ]
    },
    {
     "name": "stdout",
     "output_type": "stream",
     "text": [
      "[*] Running Epoch 7 Validation...\n"
     ]
    },
    {
     "name": "stderr",
     "output_type": "stream",
     "text": [
      "100%|██████████| 94/94 [00:01<00:00, 79.23it/s] \n"
     ]
    },
    {
     "name": "stdout",
     "output_type": "stream",
     "text": [
      "[*] Running Epoch 7 Test...\n"
     ]
    },
    {
     "name": "stderr",
     "output_type": "stream",
     "text": [
      "100%|██████████| 94/94 [00:01<00:00, 76.85it/s]\n"
     ]
    },
    {
     "name": "stdout",
     "output_type": "stream",
     "text": [
      "\n",
      "=>> Epoch 7 Metrics ===\n",
      "\tTrain Loss: 0.00860 -- Val Loss: 0.00866 --Test Loss: 0.00866 -- Val Accuracy: nan -- Test Accuracy: nan\n",
      "\tBest Val Loss: 0.00737 -- Best Val Accuracy: -100000000.0000 at Epoch 1\n",
      "\tBest Test Loss: 100000000.00000 -- Best Test Accuracy: -10000.0000 at Epoch 1\n",
      "\n",
      "[*] Starting Training Epoch 8...\n",
      "using constant lr for epoch 8\n"
     ]
    },
    {
     "name": "stderr",
     "output_type": "stream",
     "text": [
      "100%|██████████| 375/375 [00:18<00:00, 19.92it/s]\n"
     ]
    },
    {
     "name": "stdout",
     "output_type": "stream",
     "text": [
      "[*] Running Epoch 8 Validation...\n"
     ]
    },
    {
     "name": "stderr",
     "output_type": "stream",
     "text": [
      "100%|██████████| 94/94 [00:01<00:00, 79.40it/s] \n"
     ]
    },
    {
     "name": "stdout",
     "output_type": "stream",
     "text": [
      "[*] Running Epoch 8 Test...\n"
     ]
    },
    {
     "name": "stderr",
     "output_type": "stream",
     "text": [
      "100%|██████████| 94/94 [00:01<00:00, 76.85it/s]\n"
     ]
    },
    {
     "name": "stdout",
     "output_type": "stream",
     "text": [
      "\n",
      "=>> Epoch 8 Metrics ===\n",
      "\tTrain Loss: 0.00873 -- Val Loss: 0.00840 --Test Loss: 0.00840 -- Val Accuracy: nan -- Test Accuracy: nan\n",
      "\tBest Val Loss: 0.00737 -- Best Val Accuracy: -100000000.0000 at Epoch 1\n",
      "\tBest Test Loss: 100000000.00000 -- Best Test Accuracy: -10000.0000 at Epoch 1\n",
      "\n",
      "[*] Starting Training Epoch 9...\n",
      "using constant lr for epoch 9\n"
     ]
    },
    {
     "name": "stderr",
     "output_type": "stream",
     "text": [
      "100%|██████████| 375/375 [00:18<00:00, 19.90it/s]\n"
     ]
    },
    {
     "name": "stdout",
     "output_type": "stream",
     "text": [
      "[*] Running Epoch 9 Validation...\n"
     ]
    },
    {
     "name": "stderr",
     "output_type": "stream",
     "text": [
      "100%|██████████| 94/94 [00:01<00:00, 79.41it/s] \n"
     ]
    },
    {
     "name": "stdout",
     "output_type": "stream",
     "text": [
      "[*] Running Epoch 9 Test...\n"
     ]
    },
    {
     "name": "stderr",
     "output_type": "stream",
     "text": [
      "100%|██████████| 94/94 [00:01<00:00, 76.95it/s]\n"
     ]
    },
    {
     "name": "stdout",
     "output_type": "stream",
     "text": [
      "\n",
      "=>> Epoch 9 Metrics ===\n",
      "\tTrain Loss: 0.00766 -- Val Loss: 0.00384 --Test Loss: 0.00384 -- Val Accuracy: nan -- Test Accuracy: nan\n",
      "\tBest Val Loss: 0.00384 -- Best Val Accuracy: -100000000.0000 at Epoch 1\n",
      "\tBest Test Loss: 100000000.00000 -- Best Test Accuracy: -10000.0000 at Epoch 1\n",
      "\n",
      "[*] Starting Training Epoch 10...\n",
      "using constant lr for epoch 10\n"
     ]
    },
    {
     "name": "stderr",
     "output_type": "stream",
     "text": [
      "100%|██████████| 375/375 [00:18<00:00, 19.89it/s]\n"
     ]
    },
    {
     "name": "stdout",
     "output_type": "stream",
     "text": [
      "[*] Running Epoch 10 Validation...\n"
     ]
    },
    {
     "name": "stderr",
     "output_type": "stream",
     "text": [
      "100%|██████████| 94/94 [00:01<00:00, 79.43it/s] \n"
     ]
    },
    {
     "name": "stdout",
     "output_type": "stream",
     "text": [
      "[*] Running Epoch 10 Test...\n"
     ]
    },
    {
     "name": "stderr",
     "output_type": "stream",
     "text": [
      "100%|██████████| 94/94 [00:01<00:00, 76.85it/s]\n"
     ]
    },
    {
     "name": "stdout",
     "output_type": "stream",
     "text": [
      "\n",
      "=>> Epoch 10 Metrics ===\n",
      "\tTrain Loss: 0.00660 -- Val Loss: 0.00421 --Test Loss: 0.00421 -- Val Accuracy: nan -- Test Accuracy: nan\n",
      "\tBest Val Loss: 0.00384 -- Best Val Accuracy: -100000000.0000 at Epoch 1\n",
      "\tBest Test Loss: 100000000.00000 -- Best Test Accuracy: -10000.0000 at Epoch 1\n",
      "\n",
      "[*] Starting Training Epoch 11...\n",
      "using constant lr for epoch 11\n"
     ]
    },
    {
     "name": "stderr",
     "output_type": "stream",
     "text": [
      "100%|██████████| 375/375 [00:18<00:00, 19.96it/s]\n"
     ]
    },
    {
     "name": "stdout",
     "output_type": "stream",
     "text": [
      "[*] Running Epoch 11 Validation...\n"
     ]
    },
    {
     "name": "stderr",
     "output_type": "stream",
     "text": [
      "100%|██████████| 94/94 [00:01<00:00, 79.40it/s] \n"
     ]
    },
    {
     "name": "stdout",
     "output_type": "stream",
     "text": [
      "[*] Running Epoch 11 Test...\n"
     ]
    },
    {
     "name": "stderr",
     "output_type": "stream",
     "text": [
      "100%|██████████| 94/94 [00:01<00:00, 76.84it/s]\n"
     ]
    },
    {
     "name": "stdout",
     "output_type": "stream",
     "text": [
      "\n",
      "=>> Epoch 11 Metrics ===\n",
      "\tTrain Loss: 0.00637 -- Val Loss: 0.00416 --Test Loss: 0.00416 -- Val Accuracy: nan -- Test Accuracy: nan\n",
      "\tBest Val Loss: 0.00384 -- Best Val Accuracy: -100000000.0000 at Epoch 1\n",
      "\tBest Test Loss: 100000000.00000 -- Best Test Accuracy: -10000.0000 at Epoch 1\n",
      "\n",
      "[*] Starting Training Epoch 12...\n",
      "using constant lr for epoch 12\n"
     ]
    },
    {
     "name": "stderr",
     "output_type": "stream",
     "text": [
      "100%|██████████| 375/375 [00:18<00:00, 20.02it/s]\n"
     ]
    },
    {
     "name": "stdout",
     "output_type": "stream",
     "text": [
      "[*] Running Epoch 12 Validation...\n"
     ]
    },
    {
     "name": "stderr",
     "output_type": "stream",
     "text": [
      "100%|██████████| 94/94 [00:01<00:00, 79.44it/s] \n"
     ]
    },
    {
     "name": "stdout",
     "output_type": "stream",
     "text": [
      "[*] Running Epoch 12 Test...\n"
     ]
    },
    {
     "name": "stderr",
     "output_type": "stream",
     "text": [
      "100%|██████████| 94/94 [00:01<00:00, 76.87it/s]\n"
     ]
    },
    {
     "name": "stdout",
     "output_type": "stream",
     "text": [
      "\n",
      "=>> Epoch 12 Metrics ===\n",
      "\tTrain Loss: 0.00585 -- Val Loss: 0.00582 --Test Loss: 0.00582 -- Val Accuracy: nan -- Test Accuracy: nan\n",
      "\tBest Val Loss: 0.00384 -- Best Val Accuracy: -100000000.0000 at Epoch 1\n",
      "\tBest Test Loss: 100000000.00000 -- Best Test Accuracy: -10000.0000 at Epoch 1\n",
      "\n",
      "[*] Starting Training Epoch 13...\n",
      "using constant lr for epoch 13\n"
     ]
    },
    {
     "name": "stderr",
     "output_type": "stream",
     "text": [
      "100%|██████████| 375/375 [00:18<00:00, 19.97it/s]\n"
     ]
    },
    {
     "name": "stdout",
     "output_type": "stream",
     "text": [
      "[*] Running Epoch 13 Validation...\n"
     ]
    },
    {
     "name": "stderr",
     "output_type": "stream",
     "text": [
      "100%|██████████| 94/94 [00:01<00:00, 79.43it/s] \n"
     ]
    },
    {
     "name": "stdout",
     "output_type": "stream",
     "text": [
      "[*] Running Epoch 13 Test...\n"
     ]
    },
    {
     "name": "stderr",
     "output_type": "stream",
     "text": [
      "100%|██████████| 94/94 [00:01<00:00, 76.88it/s]\n"
     ]
    },
    {
     "name": "stdout",
     "output_type": "stream",
     "text": [
      "\n",
      "=>> Epoch 13 Metrics ===\n",
      "\tTrain Loss: 0.00629 -- Val Loss: 0.00590 --Test Loss: 0.00590 -- Val Accuracy: nan -- Test Accuracy: nan\n",
      "\tBest Val Loss: 0.00384 -- Best Val Accuracy: -100000000.0000 at Epoch 1\n",
      "\tBest Test Loss: 100000000.00000 -- Best Test Accuracy: -10000.0000 at Epoch 1\n",
      "\n",
      "[*] Starting Training Epoch 14...\n",
      "using constant lr for epoch 14\n"
     ]
    },
    {
     "name": "stderr",
     "output_type": "stream",
     "text": [
      "100%|██████████| 375/375 [00:18<00:00, 19.96it/s]\n"
     ]
    },
    {
     "name": "stdout",
     "output_type": "stream",
     "text": [
      "[*] Running Epoch 14 Validation...\n"
     ]
    },
    {
     "name": "stderr",
     "output_type": "stream",
     "text": [
      "100%|██████████| 94/94 [00:01<00:00, 79.43it/s] \n"
     ]
    },
    {
     "name": "stdout",
     "output_type": "stream",
     "text": [
      "[*] Running Epoch 14 Test...\n"
     ]
    },
    {
     "name": "stderr",
     "output_type": "stream",
     "text": [
      "100%|██████████| 94/94 [00:01<00:00, 76.87it/s]\n"
     ]
    },
    {
     "name": "stdout",
     "output_type": "stream",
     "text": [
      "\n",
      "=>> Epoch 14 Metrics ===\n",
      "\tTrain Loss: 0.00556 -- Val Loss: 0.00398 --Test Loss: 0.00398 -- Val Accuracy: nan -- Test Accuracy: nan\n",
      "\tBest Val Loss: 0.00384 -- Best Val Accuracy: -100000000.0000 at Epoch 1\n",
      "\tBest Test Loss: 100000000.00000 -- Best Test Accuracy: -10000.0000 at Epoch 1\n",
      "\n",
      "[*] Starting Training Epoch 15...\n",
      "using constant lr for epoch 15\n"
     ]
    },
    {
     "name": "stderr",
     "output_type": "stream",
     "text": [
      "100%|██████████| 375/375 [00:18<00:00, 20.05it/s]\n"
     ]
    },
    {
     "name": "stdout",
     "output_type": "stream",
     "text": [
      "[*] Running Epoch 15 Validation...\n"
     ]
    },
    {
     "name": "stderr",
     "output_type": "stream",
     "text": [
      "100%|██████████| 94/94 [00:01<00:00, 79.51it/s] \n"
     ]
    },
    {
     "name": "stdout",
     "output_type": "stream",
     "text": [
      "[*] Running Epoch 15 Test...\n"
     ]
    },
    {
     "name": "stderr",
     "output_type": "stream",
     "text": [
      "100%|██████████| 94/94 [00:01<00:00, 76.81it/s]\n"
     ]
    },
    {
     "name": "stdout",
     "output_type": "stream",
     "text": [
      "\n",
      "=>> Epoch 15 Metrics ===\n",
      "\tTrain Loss: 0.00547 -- Val Loss: 0.00574 --Test Loss: 0.00574 -- Val Accuracy: nan -- Test Accuracy: nan\n",
      "\tBest Val Loss: 0.00384 -- Best Val Accuracy: -100000000.0000 at Epoch 1\n",
      "\tBest Test Loss: 100000000.00000 -- Best Test Accuracy: -10000.0000 at Epoch 1\n",
      "\n",
      "[*] Starting Training Epoch 16...\n",
      "using constant lr for epoch 16\n"
     ]
    },
    {
     "name": "stderr",
     "output_type": "stream",
     "text": [
      "100%|██████████| 375/375 [00:18<00:00, 19.88it/s]\n"
     ]
    },
    {
     "name": "stdout",
     "output_type": "stream",
     "text": [
      "[*] Running Epoch 16 Validation...\n"
     ]
    },
    {
     "name": "stderr",
     "output_type": "stream",
     "text": [
      "100%|██████████| 94/94 [00:01<00:00, 79.26it/s] \n"
     ]
    },
    {
     "name": "stdout",
     "output_type": "stream",
     "text": [
      "[*] Running Epoch 16 Test...\n"
     ]
    },
    {
     "name": "stderr",
     "output_type": "stream",
     "text": [
      "100%|██████████| 94/94 [00:01<00:00, 76.86it/s]\n"
     ]
    },
    {
     "name": "stdout",
     "output_type": "stream",
     "text": [
      "\n",
      "=>> Epoch 16 Metrics ===\n",
      "\tTrain Loss: 0.00510 -- Val Loss: 0.00637 --Test Loss: 0.00637 -- Val Accuracy: nan -- Test Accuracy: nan\n",
      "\tBest Val Loss: 0.00384 -- Best Val Accuracy: -100000000.0000 at Epoch 1\n",
      "\tBest Test Loss: 100000000.00000 -- Best Test Accuracy: -10000.0000 at Epoch 1\n",
      "\n",
      "[*] Starting Training Epoch 17...\n",
      "using constant lr for epoch 17\n"
     ]
    },
    {
     "name": "stderr",
     "output_type": "stream",
     "text": [
      "100%|██████████| 375/375 [00:18<00:00, 19.85it/s]\n"
     ]
    },
    {
     "name": "stdout",
     "output_type": "stream",
     "text": [
      "[*] Running Epoch 17 Validation...\n"
     ]
    },
    {
     "name": "stderr",
     "output_type": "stream",
     "text": [
      "100%|██████████| 94/94 [00:01<00:00, 79.45it/s] \n"
     ]
    },
    {
     "name": "stdout",
     "output_type": "stream",
     "text": [
      "[*] Running Epoch 17 Test...\n"
     ]
    },
    {
     "name": "stderr",
     "output_type": "stream",
     "text": [
      "100%|██████████| 94/94 [00:01<00:00, 76.85it/s]\n"
     ]
    },
    {
     "name": "stdout",
     "output_type": "stream",
     "text": [
      "\n",
      "=>> Epoch 17 Metrics ===\n",
      "\tTrain Loss: 0.00510 -- Val Loss: 0.00332 --Test Loss: 0.00332 -- Val Accuracy: nan -- Test Accuracy: nan\n",
      "\tBest Val Loss: 0.00332 -- Best Val Accuracy: -100000000.0000 at Epoch 1\n",
      "\tBest Test Loss: 100000000.00000 -- Best Test Accuracy: -10000.0000 at Epoch 1\n",
      "\n",
      "[*] Starting Training Epoch 18...\n",
      "using constant lr for epoch 18\n"
     ]
    },
    {
     "name": "stderr",
     "output_type": "stream",
     "text": [
      "100%|██████████| 375/375 [00:18<00:00, 19.88it/s]\n"
     ]
    },
    {
     "name": "stdout",
     "output_type": "stream",
     "text": [
      "[*] Running Epoch 18 Validation...\n"
     ]
    },
    {
     "name": "stderr",
     "output_type": "stream",
     "text": [
      "100%|██████████| 94/94 [00:01<00:00, 79.42it/s] \n"
     ]
    },
    {
     "name": "stdout",
     "output_type": "stream",
     "text": [
      "[*] Running Epoch 18 Test...\n"
     ]
    },
    {
     "name": "stderr",
     "output_type": "stream",
     "text": [
      "100%|██████████| 94/94 [00:01<00:00, 77.02it/s]\n"
     ]
    },
    {
     "name": "stdout",
     "output_type": "stream",
     "text": [
      "\n",
      "=>> Epoch 18 Metrics ===\n",
      "\tTrain Loss: 0.00539 -- Val Loss: 0.00525 --Test Loss: 0.00525 -- Val Accuracy: nan -- Test Accuracy: nan\n",
      "\tBest Val Loss: 0.00332 -- Best Val Accuracy: -100000000.0000 at Epoch 1\n",
      "\tBest Test Loss: 100000000.00000 -- Best Test Accuracy: -10000.0000 at Epoch 1\n",
      "\n",
      "[*] Starting Training Epoch 19...\n",
      "using constant lr for epoch 19\n"
     ]
    },
    {
     "name": "stderr",
     "output_type": "stream",
     "text": [
      "100%|██████████| 375/375 [00:18<00:00, 19.84it/s]\n"
     ]
    },
    {
     "name": "stdout",
     "output_type": "stream",
     "text": [
      "[*] Running Epoch 19 Validation...\n"
     ]
    },
    {
     "name": "stderr",
     "output_type": "stream",
     "text": [
      "100%|██████████| 94/94 [00:01<00:00, 79.48it/s] \n"
     ]
    },
    {
     "name": "stdout",
     "output_type": "stream",
     "text": [
      "[*] Running Epoch 19 Test...\n"
     ]
    },
    {
     "name": "stderr",
     "output_type": "stream",
     "text": [
      "100%|██████████| 94/94 [00:01<00:00, 76.97it/s]\n"
     ]
    },
    {
     "name": "stdout",
     "output_type": "stream",
     "text": [
      "\n",
      "=>> Epoch 19 Metrics ===\n",
      "\tTrain Loss: 0.00500 -- Val Loss: 0.00565 --Test Loss: 0.00565 -- Val Accuracy: nan -- Test Accuracy: nan\n",
      "\tBest Val Loss: 0.00332 -- Best Val Accuracy: -100000000.0000 at Epoch 1\n",
      "\tBest Test Loss: 100000000.00000 -- Best Test Accuracy: -10000.0000 at Epoch 1\n",
      "\n",
      "[*] Starting Training Epoch 20...\n",
      "using constant lr for epoch 20\n"
     ]
    },
    {
     "name": "stderr",
     "output_type": "stream",
     "text": [
      "100%|██████████| 375/375 [00:18<00:00, 19.89it/s]\n"
     ]
    },
    {
     "name": "stdout",
     "output_type": "stream",
     "text": [
      "[*] Running Epoch 20 Validation...\n"
     ]
    },
    {
     "name": "stderr",
     "output_type": "stream",
     "text": [
      "100%|██████████| 94/94 [00:01<00:00, 79.54it/s] \n"
     ]
    },
    {
     "name": "stdout",
     "output_type": "stream",
     "text": [
      "[*] Running Epoch 20 Test...\n"
     ]
    },
    {
     "name": "stderr",
     "output_type": "stream",
     "text": [
      "100%|██████████| 94/94 [00:01<00:00, 76.95it/s]\n"
     ]
    },
    {
     "name": "stdout",
     "output_type": "stream",
     "text": [
      "\n",
      "=>> Epoch 20 Metrics ===\n",
      "\tTrain Loss: 0.00499 -- Val Loss: 0.00791 --Test Loss: 0.00791 -- Val Accuracy: nan -- Test Accuracy: nan\n",
      "\tBest Val Loss: 0.00332 -- Best Val Accuracy: -100000000.0000 at Epoch 1\n",
      "\tBest Test Loss: 100000000.00000 -- Best Test Accuracy: -10000.0000 at Epoch 1\n",
      "\n"
     ]
    }
   ],
   "source": [
    "args = TrainArgs(\n",
    "    C_init='trunc_standard_normal', batchnorm=True, bidirectional=True,\n",
    "    epoch_save_dir=\"epochs_rgr\", save_training=1, \n",
    "    blocks=16, bsz=32, d_model=8, clear_cache=True, data_dir=DATA_DIR,\n",
    "    # problem_type='rgr', dt_global=True, epochs=20, jax_seed=5464358, lr_factor=2, n_layers=1,\n",
    "    problem_type='rgr', dt_global=True, epochs=20, jax_seed=5464358, lr_factor=2, n_layers=3,\n",
    "    opt_config='standard', p_dropout=0.0, ssm_lr_base=0.001, ssm_size_base=64,\n",
    "    warmup_end=0, weight_decay=0.05, cosine_anneal=False)\n",
    "\n",
    "train(args)"
   ]
  },
  {
   "cell_type": "code",
   "execution_count": 3,
   "id": "5dbcc9dc-199d-4dba-840d-c72ba5849d50",
   "metadata": {},
   "outputs": [
    {
     "data": {
      "image/png": "[encoded data removed]",
      "text/plain": [
       "<Figure size 1000x800 with 20 Axes>"
      ]
     },
     "metadata": {},
     "output_type": "display_data"
    },
    {
     "data": {
      "image/png": "[encoded data removed]",
      "text/plain": [
       "<Figure size 300x250 with 1 Axes>"
      ]
     },
     "metadata": {},
     "output_type": "display_data"
    }
   ],
   "source": [
    "# load results\n",
    "# fig, axs = plt.subplots(1, 5, figsize=(10, 2.25), tight_layout=True)\n",
    "fig, axs = plt.subplots(4, 5, figsize=(10, 8), tight_layout=True)\n",
    "\n",
    "train_losses = []\n",
    "val_losses = []\n",
    "\n",
    "for cepoch, ax in enumerate(axs.flatten()):\n",
    "    data = np.load(f'epochs_rgr/epoch_{cepoch}.npy', allow_pickle=True)[0]\n",
    "    \n",
    "    targs = data['val_targ']\n",
    "    preds = data['val_pred']\n",
    "    \n",
    "    ax.scatter(preds, targs, c='k', s=1)\n",
    "    \n",
    "    set_plot(ax, x_label='Prediction', y_label='Target', title=f'Epoch {cepoch+1}')\n",
    "    \n",
    "    train_losses.append(data['train_loss'])\n",
    "    val_losses.append(data['val_loss'])\n",
    "    \n",
    "fig, ax = plt.subplots(1, 1, figsize=(3, 2.5), tight_layout=True)\n",
    "ax.plot(train_losses, c='b')\n",
    "ax.plot(val_losses, c='orange')\n",
    "ax.legend(['Train', 'Val'])\n",
    "set_plot(ax, x_label='Epoch', y_label='Loss')"
   ]
  },
  {
   "cell_type": "markdown",
   "id": "cc8de9d1-40d3-4083-a5c8-09b7e39c2187",
   "metadata": {},
   "source": [
    "### Ridge comparison"
   ]
  },
  {
   "cell_type": "code",
   "execution_count": 4,
   "id": "c8221969-0d59-460f-9d1b-5ccd4db7b224",
   "metadata": {},
   "outputs": [],
   "source": [
    "paths = {\n",
    "    'train': os.path.join('data_s5', DATA_DIR, 'train.tsv'),\n",
    "    'eval': os.path.join('data_s5', DATA_DIR, 'eval.tsv'),\n",
    "    'test': os.path.join('data_s5', DATA_DIR, 'test.tsv')\n",
    "}\n",
    "\n",
    "ys, y_hats = fit_song_fmtn(paths, alpha=.1)"
   ]
  },
  {
   "cell_type": "code",
   "execution_count": 5,
   "id": "497bd484-1702-4b51-8fb6-7c73b7e139c1",
   "metadata": {},
   "outputs": [
    {
     "data": {
      "image/png": "[encoded data removed]",
      "text/plain": [
       "<Figure size 300x300 with 1 Axes>"
      ]
     },
     "metadata": {},
     "output_type": "display_data"
    }
   ],
   "source": [
    "fig, ax = plt.subplots(1, 1, figsize=(3, 3), tight_layout=True)\n",
    "ax.scatter(y_hats['train'], ys['train'], c='gray')\n",
    "x_line, y_line, (slp, icpt, r_trn, p_val, stderr) = get_line(y_hats['train'], ys['train'])\n",
    "ax.plot(x_line, y_line, c='k')\n",
    "\n",
    "ax.scatter(y_hats['eval'], ys['eval'], c='m')\n",
    "x_line, y_line, (slp, icpt, r_val, p_val, stderr) = get_line(y_hats['eval'], ys['eval'])\n",
    "ax.plot(x_line, y_line, c='r')\n",
    "\n",
    "set_plot(ax, x_label='Prediction', y_label='Target', title=f'Ridge regression fit\\nR_trn {r_trn:.3f} R_val {r_val:.3f}')"
   ]
  },
  {
   "cell_type": "code",
   "execution_count": null,
   "id": "cb3a4c3e-c26b-4a75-b61e-6cad65d43d92",
   "metadata": {},
   "outputs": [],
   "source": []
  }
 ],
 "metadata": {
  "kernelspec": {
   "display_name": "s5-gpu [~/.conda/envs/s5-gpu/]",
   "language": "python",
   "name": "conda_s5-gpu"
  },
  "language_info": {
   "codemirror_mode": {
    "name": "ipython",
    "version": 3
   },
   "file_extension": ".py",
   "mimetype": "text/x-python",
   "name": "python",
   "nbconvert_exporter": "python",
   "pygments_lexer": "ipython3",
   "version": "3.11.4"
  }
 },
 "nbformat": 4,
 "nbformat_minor": 5
}
