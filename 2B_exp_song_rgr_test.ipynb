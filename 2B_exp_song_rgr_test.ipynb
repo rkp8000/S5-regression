{
 "cells": [
  {
   "cell_type": "code",
   "execution_count": 1,
   "id": "c12d6687-22d2-4d7f-983c-03f4defaa48d",
   "metadata": {},
   "outputs": [],
   "source": [
    "import matplotlib.pyplot as plt\n",
    "import numpy as np\n",
    "from scipy import stats\n",
    "import os\n",
    "\n",
    "from disp import get_line, set_color, set_plot\n",
    "from my_torch import fit_song_fmtn\n",
    "from run_train import TrainArgs, train\n",
    "\n",
    "cc = np.concatenate"
   ]
  },
  {
   "cell_type": "code",
   "execution_count": 2,
   "id": "fc9403d1-54ae-49fc-9623-1547bcd4041b",
   "metadata": {},
   "outputs": [
    {
     "name": "stdout",
     "output_type": "stream",
     "text": [
      "[*] Setting Randomness...\n",
      "[*] Generating Fly Courtship Regression Dataset\n"
     ]
    },
    {
     "name": "stderr",
     "output_type": "stream",
     "text": [
      "/home/rp21/.conda/envs/s5-gpu/lib/python3.11/site-packages/tqdm/auto.py:21: TqdmWarning: IProgress not found. Please update jupyter and ipywidgets. See https://ipywidgets.readthedocs.io/en/stable/user_install.html\n",
      "  from .autonotebook import tqdm as notebook_tqdm\n"
     ]
    },
    {
     "name": "stdout",
     "output_type": "stream",
     "text": [
      "Clearing cache...\n"
     ]
    },
    {
     "name": "stderr",
     "output_type": "stream",
     "text": [
      "Casting the dataset: 100%|██████████| 6256/6256 [00:00<00:00, 1464424.93 examples/s]\n",
      "Casting the dataset: 100%|██████████| 1565/1565 [00:00<00:00, 1072913.66 examples/s]\n",
      "Casting the dataset: 100%|██████████| 1565/1565 [00:00<00:00, 1032900.99 examples/s]\n",
      "Map: 100%|██████████| 6256/6256 [00:00<00:00, 31524.11 examples/s]\n",
      "Map: 100%|██████████| 1565/1565 [00:00<00:00, 31975.32 examples/s]\n",
      "Map: 100%|██████████| 1565/1565 [00:00<00:00, 32004.16 examples/s]\n",
      "Map: 100%|██████████| 6256/6256 [00:00<00:00, 9645.80 examples/s]\n",
      "Map: 100%|██████████| 1565/1565 [00:00<00:00, 9689.65 examples/s]\n",
      "Map: 100%|██████████| 1565/1565 [00:00<00:00, 9692.76 examples/s]\n",
      "Saving the dataset (1/1 shards): 100%|██████████| 6256/6256 [00:00<00:00, 868457.20 examples/s] \n",
      "Saving the dataset (1/1 shards): 100%|██████████| 1565/1565 [00:00<00:00, 450489.72 examples/s]\n",
      "Saving the dataset (1/1 shards): 100%|██████████| 1565/1565 [00:00<00:00, 454199.13 examples/s]\n"
     ]
    },
    {
     "name": "stdout",
     "output_type": "stream",
     "text": [
      "Fly song vocab size: 6\n",
      "[*] Starting S5 rgr training on `fly_mini/rgr` =>> Initializing...\n",
      "Lambda.shape=(32,)\n",
      "V.shape=(64, 32)\n",
      "Vinv.shape=(32, 64)\n",
      "configuring standard optimization setup\n",
      "[*] Trainable Parameters: 1793\n"
     ]
    },
    {
     "name": "stderr",
     "output_type": "stream",
     "text": [
      "/scratch/gpfs/rp21/s5_test/S5-regression/s5/train_helpers.py:244: FutureWarning: jax.tree_leaves is deprecated, and will be removed in a future release. Use jax.tree_util.tree_leaves instead.\n",
      "  print(f\"[*] Trainable Parameters: {sum(jax.tree_leaves(param_sizes))}\")\n"
     ]
    },
    {
     "name": "stdout",
     "output_type": "stream",
     "text": [
      "[*] Starting Training Epoch 1...\n",
      "using constant lr for epoch 1\n"
     ]
    },
    {
     "name": "stderr",
     "output_type": "stream",
     "text": [
      "100%|██████████| 195/195 [00:11<00:00, 16.40it/s]\n"
     ]
    },
    {
     "name": "stdout",
     "output_type": "stream",
     "text": [
      "[*] Running Epoch 1 Validation...\n"
     ]
    },
    {
     "name": "stderr",
     "output_type": "stream",
     "text": [
      "100%|██████████| 49/49 [00:11<00:00,  4.24it/s]\n"
     ]
    },
    {
     "name": "stdout",
     "output_type": "stream",
     "text": [
      "[*] Running Epoch 1 Test...\n"
     ]
    },
    {
     "name": "stderr",
     "output_type": "stream",
     "text": [
      "100%|██████████| 49/49 [00:00<00:00, 229.10it/s]\n"
     ]
    },
    {
     "name": "stdout",
     "output_type": "stream",
     "text": [
      "\n",
      "=>> Epoch 1 Metrics ===\n",
      "\tTrain Loss: 0.17208 -- Val Loss: 0.05217 --Test Loss: 0.05217 -- Val Accuracy: nan -- Test Accuracy: nan\n",
      "\tBest Val Loss: 0.05217 -- Best Val Accuracy: -100000000.0000 at Epoch 1\n",
      "\tBest Test Loss: 100000000.00000 -- Best Test Accuracy: -10000.0000 at Epoch 1\n",
      "\n",
      "[*] Starting Training Epoch 2...\n",
      "using constant lr for epoch 2\n"
     ]
    },
    {
     "name": "stderr",
     "output_type": "stream",
     "text": [
      "100%|██████████| 195/195 [00:03<00:00, 53.62it/s]\n"
     ]
    },
    {
     "name": "stdout",
     "output_type": "stream",
     "text": [
      "[*] Running Epoch 2 Validation...\n"
     ]
    },
    {
     "name": "stderr",
     "output_type": "stream",
     "text": [
      "100%|██████████| 49/49 [00:00<00:00, 229.69it/s]\n"
     ]
    },
    {
     "name": "stdout",
     "output_type": "stream",
     "text": [
      "[*] Running Epoch 2 Test...\n"
     ]
    },
    {
     "name": "stderr",
     "output_type": "stream",
     "text": [
      "100%|██████████| 49/49 [00:00<00:00, 218.78it/s]\n"
     ]
    },
    {
     "name": "stdout",
     "output_type": "stream",
     "text": [
      "\n",
      "=>> Epoch 2 Metrics ===\n",
      "\tTrain Loss: 0.05327 -- Val Loss: 0.06073 --Test Loss: 0.06073 -- Val Accuracy: nan -- Test Accuracy: nan\n",
      "\tBest Val Loss: 0.05217 -- Best Val Accuracy: -100000000.0000 at Epoch 1\n",
      "\tBest Test Loss: 100000000.00000 -- Best Test Accuracy: -10000.0000 at Epoch 1\n",
      "\n",
      "[*] Starting Training Epoch 3...\n",
      "using constant lr for epoch 3\n"
     ]
    },
    {
     "name": "stderr",
     "output_type": "stream",
     "text": [
      "100%|██████████| 195/195 [00:03<00:00, 53.54it/s]\n"
     ]
    },
    {
     "name": "stdout",
     "output_type": "stream",
     "text": [
      "[*] Running Epoch 3 Validation...\n"
     ]
    },
    {
     "name": "stderr",
     "output_type": "stream",
     "text": [
      "100%|██████████| 49/49 [00:00<00:00, 229.59it/s]\n"
     ]
    },
    {
     "name": "stdout",
     "output_type": "stream",
     "text": [
      "[*] Running Epoch 3 Test...\n"
     ]
    },
    {
     "name": "stderr",
     "output_type": "stream",
     "text": [
      "100%|██████████| 49/49 [00:00<00:00, 218.87it/s]\n"
     ]
    },
    {
     "name": "stdout",
     "output_type": "stream",
     "text": [
      "\n",
      "=>> Epoch 3 Metrics ===\n",
      "\tTrain Loss: 0.04054 -- Val Loss: 0.02929 --Test Loss: 0.02929 -- Val Accuracy: nan -- Test Accuracy: nan\n",
      "\tBest Val Loss: 0.02929 -- Best Val Accuracy: -100000000.0000 at Epoch 1\n",
      "\tBest Test Loss: 100000000.00000 -- Best Test Accuracy: -10000.0000 at Epoch 1\n",
      "\n",
      "[*] Starting Training Epoch 4...\n",
      "using constant lr for epoch 4\n"
     ]
    },
    {
     "name": "stderr",
     "output_type": "stream",
     "text": [
      "100%|██████████| 195/195 [00:03<00:00, 53.62it/s]\n"
     ]
    },
    {
     "name": "stdout",
     "output_type": "stream",
     "text": [
      "[*] Running Epoch 4 Validation...\n"
     ]
    },
    {
     "name": "stderr",
     "output_type": "stream",
     "text": [
      "100%|██████████| 49/49 [00:00<00:00, 230.28it/s]\n"
     ]
    },
    {
     "name": "stdout",
     "output_type": "stream",
     "text": [
      "[*] Running Epoch 4 Test...\n"
     ]
    },
    {
     "name": "stderr",
     "output_type": "stream",
     "text": [
      "100%|██████████| 49/49 [00:00<00:00, 220.27it/s]\n"
     ]
    },
    {
     "name": "stdout",
     "output_type": "stream",
     "text": [
      "\n",
      "=>> Epoch 4 Metrics ===\n",
      "\tTrain Loss: 0.03682 -- Val Loss: 0.02771 --Test Loss: 0.02771 -- Val Accuracy: nan -- Test Accuracy: nan\n",
      "\tBest Val Loss: 0.02771 -- Best Val Accuracy: -100000000.0000 at Epoch 1\n",
      "\tBest Test Loss: 100000000.00000 -- Best Test Accuracy: -10000.0000 at Epoch 1\n",
      "\n",
      "[*] Starting Training Epoch 5...\n",
      "using constant lr for epoch 5\n"
     ]
    },
    {
     "name": "stderr",
     "output_type": "stream",
     "text": [
      "100%|██████████| 195/195 [00:03<00:00, 53.59it/s]\n"
     ]
    },
    {
     "name": "stdout",
     "output_type": "stream",
     "text": [
      "[*] Running Epoch 5 Validation...\n"
     ]
    },
    {
     "name": "stderr",
     "output_type": "stream",
     "text": [
      "100%|██████████| 49/49 [00:00<00:00, 229.53it/s]\n"
     ]
    },
    {
     "name": "stdout",
     "output_type": "stream",
     "text": [
      "[*] Running Epoch 5 Test...\n"
     ]
    },
    {
     "name": "stderr",
     "output_type": "stream",
     "text": [
      "100%|██████████| 49/49 [00:00<00:00, 218.95it/s]"
     ]
    },
    {
     "name": "stdout",
     "output_type": "stream",
     "text": [
      "\n",
      "=>> Epoch 5 Metrics ===\n",
      "\tTrain Loss: 0.03262 -- Val Loss: 0.02755 --Test Loss: 0.02755 -- Val Accuracy: nan -- Test Accuracy: nan\n",
      "\tBest Val Loss: 0.02755 -- Best Val Accuracy: -100000000.0000 at Epoch 1\n",
      "\tBest Test Loss: 100000000.00000 -- Best Test Accuracy: -10000.0000 at Epoch 1\n",
      "\n"
     ]
    },
    {
     "name": "stderr",
     "output_type": "stream",
     "text": [
      "\n"
     ]
    }
   ],
   "source": [
    "args = TrainArgs(\n",
    "    C_init='trunc_standard_normal', batchnorm=True, bidirectional=True,\n",
    "    epoch_save_dir=\"epochs_rgr\", save_training=1, \n",
    "    blocks=16, bsz=32, d_model=8, clear_cache=True, data_dir=\"fly_mini/rgr\",\n",
    "    # blocks=16, bsz=32, d_model=8, clear_cache=True, data_dir=\"fly_mini/rgr_scrambled\",\n",
    "    problem_type='rgr', dt_global=True, epochs=5, jax_seed=5464358, lr_factor=2, n_layers=1,\n",
    "    opt_config='standard', p_dropout=0.0, ssm_lr_base=0.001, ssm_size_base=64,\n",
    "    warmup_end=0, weight_decay=0.05, cosine_anneal=False)\n",
    "\n",
    "train(args)"
   ]
  },
  {
   "cell_type": "code",
   "execution_count": 3,
   "id": "5dbcc9dc-199d-4dba-840d-c72ba5849d50",
   "metadata": {},
   "outputs": [
    {
     "data": {
      "image/png": "[encoded data removed]",
      "text/plain": [
       "<Figure size 1000x225 with 5 Axes>"
      ]
     },
     "metadata": {},
     "output_type": "display_data"
    },
    {
     "data": {
      "image/png": "[encoded data removed]",
      "text/plain": [
       "<Figure size 300x250 with 1 Axes>"
      ]
     },
     "metadata": {},
     "output_type": "display_data"
    }
   ],
   "source": [
    "# load results\n",
    "fig, axs = plt.subplots(1, 5, figsize=(10, 2.25), tight_layout=True)\n",
    "\n",
    "train_losses = []\n",
    "val_losses = []\n",
    "\n",
    "for cepoch, ax in enumerate(axs.flatten()):\n",
    "    data = np.load(f'epochs_rgr/epoch_{cepoch}.npy', allow_pickle=True)[0]\n",
    "    \n",
    "    targs = data['val_targ']\n",
    "    preds = data['val_pred']\n",
    "    \n",
    "    ax.scatter(preds, targs, c='k', s=1)\n",
    "    \n",
    "    set_plot(ax, x_label='Prediction', y_label='Target', title=f'Epoch {cepoch+1}')\n",
    "    \n",
    "    train_losses.append(data['train_loss'])\n",
    "    val_losses.append(data['val_loss'])\n",
    "    \n",
    "fig, ax = plt.subplots(1, 1, figsize=(3, 2.5), tight_layout=True)\n",
    "ax.plot(train_losses, c='b')\n",
    "ax.plot(val_losses, c='orange')\n",
    "ax.legend(['Train', 'Val'])\n",
    "set_plot(ax, x_label='Epoch', y_label='Loss')"
   ]
  },
  {
   "cell_type": "markdown",
   "id": "cc8de9d1-40d3-4083-a5c8-09b7e39c2187",
   "metadata": {},
   "source": [
    "### Ridge comparison"
   ]
  },
  {
   "cell_type": "code",
   "execution_count": 4,
   "id": "c8221969-0d59-460f-9d1b-5ccd4db7b224",
   "metadata": {},
   "outputs": [],
   "source": [
    "base = 'data_s5/fly_mini/rgr/'\n",
    "# base = 'data_s5/fly_mini/rgr_scrambled/'\n",
    "paths = {\n",
    "    'train': os.path.join(base, 'train.tsv'),\n",
    "    'eval': os.path.join(base, 'eval.tsv'),\n",
    "    'test': os.path.join(base, 'test.tsv')\n",
    "}\n",
    "\n",
    "ys, y_hats = fit_song_fmtn(paths, alpha=.1)"
   ]
  },
  {
   "cell_type": "code",
   "execution_count": 5,
   "id": "497bd484-1702-4b51-8fb6-7c73b7e139c1",
   "metadata": {},
   "outputs": [
    {
     "data": {
      "image/png": "[encoded data removed]",
      "text/plain": [
       "<Figure size 300x300 with 1 Axes>"
      ]
     },
     "metadata": {},
     "output_type": "display_data"
    }
   ],
   "source": [
    "fig, ax = plt.subplots(1, 1, figsize=(3, 3), tight_layout=True)\n",
    "ax.scatter(y_hats['train'], ys['train'], c='gray')\n",
    "x_line, y_line, (slp, icpt, r_trn, p_val, stderr) = get_line(y_hats['train'], ys['train'])\n",
    "ax.plot(x_line, y_line, c='k')\n",
    "\n",
    "ax.scatter(y_hats['eval'], ys['eval'], c='m')\n",
    "x_line, y_line, (slp, icpt, r_val, p_val, stderr) = get_line(y_hats['eval'], ys['eval'])\n",
    "ax.plot(x_line, y_line, c='r')\n",
    "\n",
    "set_plot(ax, x_label='Prediction', y_label='Target', title=f'Ridge regression fit\\nR_trn {r_trn:.3f} R_val {r_val:.3f}')"
   ]
  },
  {
   "cell_type": "code",
   "execution_count": null,
   "id": "89c82a15-4140-4572-b11b-98b7a4188a59",
   "metadata": {},
   "outputs": [],
   "source": []
  }
 ],
 "metadata": {
  "kernelspec": {
   "display_name": "s5-gpu [~/.conda/envs/s5-gpu/]",
   "language": "python",
   "name": "conda_s5-gpu"
  },
  "language_info": {
   "codemirror_mode": {
    "name": "ipython",
    "version": 3
   },
   "file_extension": ".py",
   "mimetype": "text/x-python",
   "name": "python",
   "nbconvert_exporter": "python",
   "pygments_lexer": "ipython3",
   "version": "3.11.4"
  }
 },
 "nbformat": 4,
 "nbformat_minor": 5
}
