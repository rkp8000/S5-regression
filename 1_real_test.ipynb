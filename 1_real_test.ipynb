{
 "cells": [
  {
   "cell_type": "markdown",
   "id": "80effdb4-a51e-4805-8b1c-e6d2055cea03",
   "metadata": {},
   "source": [
    "# S5 classification and regression test on real-valued sequences\n",
    "\n",
    "The input sequence is a length-9 vector with i.i.d. Gaussian elements. This is then dotted with a length-9 decaying exponential filter (tau=2) to produce an output y.\n",
    "\n",
    "The classification target (output) is whether y is negative (class 0) or positive (class 1).\n",
    "\n",
    "The regression target is just y."
   ]
  },
  {
   "cell_type": "code",
   "execution_count": 1,
   "id": "c12d6687-22d2-4d7f-983c-03f4defaa48d",
   "metadata": {},
   "outputs": [
    {
     "name": "stdout",
     "output_type": "stream",
     "text": [
      "Using gpu\n"
     ]
    }
   ],
   "source": [
    "import matplotlib.pyplot as plt\n",
    "import numpy as np\n",
    "from scipy import stats\n",
    "import os\n",
    "\n",
    "import jax\n",
    "print('Using', jax.devices()[0].platform)\n",
    "\n",
    "from disp import get_line, set_color, set_plot\n",
    "from run_train import TrainArgs, train\n",
    "\n",
    "cc = np.concatenate\n",
    "\n",
    "if not os.path.exists('epochs_clf'):\n",
    "    os.makedirs('epochs_clf')\n",
    "if not os.path.exists('epochs_rgr'):\n",
    "    os.makedirs('epochs_rgr')"
   ]
  },
  {
   "cell_type": "markdown",
   "id": "0a418c65-f96a-4a46-8625-f132efad6519",
   "metadata": {},
   "source": [
    "# Classification test"
   ]
  },
  {
   "cell_type": "code",
   "execution_count": 2,
   "id": "a73a91bb-a034-4852-9514-ad28da0fbd70",
   "metadata": {},
   "outputs": [
    {
     "name": "stdout",
     "output_type": "stream",
     "text": [
      "Deleting saved epoch files from epochs_clf...\n",
      "[*] Setting Randomness...\n",
      "[*] Generating Real-valued Sequence Classification Dataset\n",
      "Clearing cache...\n"
     ]
    },
    {
     "data": {
      "application/vnd.jupyter.widget-view+json": {
       "model_id": "13bea6219e0c485d825facf12681a6ee",
       "version_major": 2,
       "version_minor": 0
      },
      "text/plain": [
       "Casting the dataset:   0%|          | 0/800 [00:00<?, ? examples/s]"
      ]
     },
     "metadata": {},
     "output_type": "display_data"
    },
    {
     "data": {
      "application/vnd.jupyter.widget-view+json": {
       "model_id": "d630cf476bd74d0fa54e2f671fc972f4",
       "version_major": 2,
       "version_minor": 0
      },
      "text/plain": [
       "Casting the dataset:   0%|          | 0/200 [00:00<?, ? examples/s]"
      ]
     },
     "metadata": {},
     "output_type": "display_data"
    },
    {
     "data": {
      "application/vnd.jupyter.widget-view+json": {
       "model_id": "6d0a9d88c3cd492db50f6feadea15f8e",
       "version_major": 2,
       "version_minor": 0
      },
      "text/plain": [
       "Casting the dataset:   0%|          | 0/200 [00:00<?, ? examples/s]"
      ]
     },
     "metadata": {},
     "output_type": "display_data"
    },
    {
     "data": {
      "application/vnd.jupyter.widget-view+json": {
       "model_id": "e505178189e84c95af63e0754d72c1f1",
       "version_major": 2,
       "version_minor": 0
      },
      "text/plain": [
       "Map:   0%|          | 0/800 [00:00<?, ? examples/s]"
      ]
     },
     "metadata": {},
     "output_type": "display_data"
    },
    {
     "data": {
      "application/vnd.jupyter.widget-view+json": {
       "model_id": "2fcf76d30d9842669c53bea4f9998b3e",
       "version_major": 2,
       "version_minor": 0
      },
      "text/plain": [
       "Map:   0%|          | 0/200 [00:00<?, ? examples/s]"
      ]
     },
     "metadata": {},
     "output_type": "display_data"
    },
    {
     "data": {
      "application/vnd.jupyter.widget-view+json": {
       "model_id": "9a53aa97c0cc4545992a2bfa6c0dbdca",
       "version_major": 2,
       "version_minor": 0
      },
      "text/plain": [
       "Map:   0%|          | 0/200 [00:00<?, ? examples/s]"
      ]
     },
     "metadata": {},
     "output_type": "display_data"
    },
    {
     "data": {
      "application/vnd.jupyter.widget-view+json": {
       "model_id": "f467510c2d8049dea69c1482be32823b",
       "version_major": 2,
       "version_minor": 0
      },
      "text/plain": [
       "Saving the dataset (0/1 shards):   0%|          | 0/800 [00:00<?, ? examples/s]"
      ]
     },
     "metadata": {},
     "output_type": "display_data"
    },
    {
     "data": {
      "application/vnd.jupyter.widget-view+json": {
       "model_id": "46b00324a69f47c2ada24441c879ef74",
       "version_major": 2,
       "version_minor": 0
      },
      "text/plain": [
       "Saving the dataset (0/1 shards):   0%|          | 0/200 [00:00<?, ? examples/s]"
      ]
     },
     "metadata": {},
     "output_type": "display_data"
    },
    {
     "data": {
      "application/vnd.jupyter.widget-view+json": {
       "model_id": "3ac002527713442ebfd688d19fdb7d5d",
       "version_major": 2,
       "version_minor": 0
      },
      "text/plain": [
       "Saving the dataset (0/1 shards):   0%|          | 0/200 [00:00<?, ? examples/s]"
      ]
     },
     "metadata": {},
     "output_type": "display_data"
    },
    {
     "name": "stdout",
     "output_type": "stream",
     "text": [
      "[*] Starting S5 clf_real training on `real/clf` =>> Initializing...\n",
      "Lambda.shape=(32,)\n",
      "V.shape=(64, 32)\n",
      "Vinv.shape=(32, 64)\n",
      "configuring standard optimization setup\n",
      "[*] Trainable Parameters: 1762\n"
     ]
    },
    {
     "name": "stderr",
     "output_type": "stream",
     "text": [
      "/scratch/gpfs/rp21/s5-della/s5/train_helpers.py:244: FutureWarning: jax.tree_leaves is deprecated, and will be removed in a future release. Use jax.tree_util.tree_leaves instead.\n",
      "  print(f\"[*] Trainable Parameters: {sum(jax.tree_leaves(param_sizes))}\")\n"
     ]
    },
    {
     "name": "stdout",
     "output_type": "stream",
     "text": [
      "[*] Starting Training Epoch 1...\n",
      "using constant lr for epoch 1\n"
     ]
    },
    {
     "name": "stderr",
     "output_type": "stream",
     "text": [
      "100%|██████████| 25/25 [00:02<00:00, 10.61it/s]\n"
     ]
    },
    {
     "name": "stdout",
     "output_type": "stream",
     "text": [
      "[*] Running Epoch 1 Validation...\n"
     ]
    },
    {
     "name": "stderr",
     "output_type": "stream",
     "text": [
      "100%|██████████| 7/7 [00:02<00:00,  2.68it/s]\n"
     ]
    },
    {
     "name": "stdout",
     "output_type": "stream",
     "text": [
      "[*] Running Epoch 1 Test...\n"
     ]
    },
    {
     "name": "stderr",
     "output_type": "stream",
     "text": [
      "100%|██████████| 7/7 [00:00<00:00, 408.45it/s]\n"
     ]
    },
    {
     "name": "stdout",
     "output_type": "stream",
     "text": [
      "\n",
      "=>> Epoch 1 Metrics ===\n",
      "\tTrain Loss: 0.61468 -- Val Loss: 0.55859 --Test Loss: 0.55859 -- Val Accuracy: 0.7850 -- Test Accuracy: 0.7850\n",
      "\tBest Val Loss: 0.55859 -- Best Val Accuracy: 0.7850 at Epoch 1\n",
      "\tBest Test Loss: 0.55859 -- Best Test Accuracy: 0.7850 at Epoch 1\n",
      "\n",
      "[*] Starting Training Epoch 2...\n",
      "using constant lr for epoch 2\n"
     ]
    },
    {
     "name": "stderr",
     "output_type": "stream",
     "text": [
      "100%|██████████| 25/25 [00:00<00:00, 280.66it/s]\n"
     ]
    },
    {
     "name": "stdout",
     "output_type": "stream",
     "text": [
      "[*] Running Epoch 2 Validation...\n"
     ]
    },
    {
     "name": "stderr",
     "output_type": "stream",
     "text": [
      "100%|██████████| 7/7 [00:00<00:00, 430.48it/s]\n"
     ]
    },
    {
     "name": "stdout",
     "output_type": "stream",
     "text": [
      "[*] Running Epoch 2 Test...\n"
     ]
    },
    {
     "name": "stderr",
     "output_type": "stream",
     "text": [
      "100%|██████████| 7/7 [00:00<00:00, 419.56it/s]\n"
     ]
    },
    {
     "name": "stdout",
     "output_type": "stream",
     "text": [
      "\n",
      "=>> Epoch 2 Metrics ===\n",
      "\tTrain Loss: 0.55150 -- Val Loss: 0.49088 --Test Loss: 0.49088 -- Val Accuracy: 0.8150 -- Test Accuracy: 0.8150\n",
      "\tBest Val Loss: 0.49088 -- Best Val Accuracy: 0.8150 at Epoch 2\n",
      "\tBest Test Loss: 0.49088 -- Best Test Accuracy: 0.8150 at Epoch 2\n",
      "\n",
      "[*] Starting Training Epoch 3...\n",
      "using constant lr for epoch 3\n"
     ]
    },
    {
     "name": "stderr",
     "output_type": "stream",
     "text": [
      "100%|██████████| 25/25 [00:00<00:00, 286.39it/s]\n"
     ]
    },
    {
     "name": "stdout",
     "output_type": "stream",
     "text": [
      "[*] Running Epoch 3 Validation...\n"
     ]
    },
    {
     "name": "stderr",
     "output_type": "stream",
     "text": [
      "100%|██████████| 7/7 [00:00<00:00, 424.64it/s]\n"
     ]
    },
    {
     "name": "stdout",
     "output_type": "stream",
     "text": [
      "[*] Running Epoch 3 Test...\n"
     ]
    },
    {
     "name": "stderr",
     "output_type": "stream",
     "text": [
      "100%|██████████| 7/7 [00:00<00:00, 428.39it/s]\n"
     ]
    },
    {
     "name": "stdout",
     "output_type": "stream",
     "text": [
      "\n",
      "=>> Epoch 3 Metrics ===\n",
      "\tTrain Loss: 0.47584 -- Val Loss: 0.39952 --Test Loss: 0.39952 -- Val Accuracy: 0.8550 -- Test Accuracy: 0.8550\n",
      "\tBest Val Loss: 0.39952 -- Best Val Accuracy: 0.8550 at Epoch 3\n",
      "\tBest Test Loss: 0.39952 -- Best Test Accuracy: 0.8550 at Epoch 3\n",
      "\n",
      "[*] Starting Training Epoch 4...\n",
      "using constant lr for epoch 4\n"
     ]
    },
    {
     "name": "stderr",
     "output_type": "stream",
     "text": [
      "100%|██████████| 25/25 [00:00<00:00, 282.08it/s]\n"
     ]
    },
    {
     "name": "stdout",
     "output_type": "stream",
     "text": [
      "[*] Running Epoch 4 Validation...\n"
     ]
    },
    {
     "name": "stderr",
     "output_type": "stream",
     "text": [
      "100%|██████████| 7/7 [00:00<00:00, 431.68it/s]\n"
     ]
    },
    {
     "name": "stdout",
     "output_type": "stream",
     "text": [
      "[*] Running Epoch 4 Test...\n"
     ]
    },
    {
     "name": "stderr",
     "output_type": "stream",
     "text": [
      "100%|██████████| 7/7 [00:00<00:00, 418.07it/s]\n"
     ]
    },
    {
     "name": "stdout",
     "output_type": "stream",
     "text": [
      "\n",
      "=>> Epoch 4 Metrics ===\n",
      "\tTrain Loss: 0.36442 -- Val Loss: 0.29751 --Test Loss: 0.29751 -- Val Accuracy: 0.9050 -- Test Accuracy: 0.9050\n",
      "\tBest Val Loss: 0.29751 -- Best Val Accuracy: 0.9050 at Epoch 4\n",
      "\tBest Test Loss: 0.29751 -- Best Test Accuracy: 0.9050 at Epoch 4\n",
      "\n",
      "[*] Starting Training Epoch 5...\n",
      "using constant lr for epoch 5\n"
     ]
    },
    {
     "name": "stderr",
     "output_type": "stream",
     "text": [
      "100%|██████████| 25/25 [00:00<00:00, 280.47it/s]\n"
     ]
    },
    {
     "name": "stdout",
     "output_type": "stream",
     "text": [
      "[*] Running Epoch 5 Validation...\n"
     ]
    },
    {
     "name": "stderr",
     "output_type": "stream",
     "text": [
      "100%|██████████| 7/7 [00:00<00:00, 421.21it/s]\n"
     ]
    },
    {
     "name": "stdout",
     "output_type": "stream",
     "text": [
      "[*] Running Epoch 5 Test...\n"
     ]
    },
    {
     "name": "stderr",
     "output_type": "stream",
     "text": [
      "100%|██████████| 7/7 [00:00<00:00, 442.80it/s]\n"
     ]
    },
    {
     "name": "stdout",
     "output_type": "stream",
     "text": [
      "\n",
      "=>> Epoch 5 Metrics ===\n",
      "\tTrain Loss: 0.27972 -- Val Loss: 0.26074 --Test Loss: 0.26074 -- Val Accuracy: 0.8850 -- Test Accuracy: 0.8850\n",
      "\tBest Val Loss: 0.26074 -- Best Val Accuracy: 0.9050 at Epoch 4\n",
      "\tBest Test Loss: 0.29751 -- Best Test Accuracy: 0.9050 at Epoch 4\n",
      "\n",
      "[*] Starting Training Epoch 6...\n",
      "using constant lr for epoch 6\n"
     ]
    },
    {
     "name": "stderr",
     "output_type": "stream",
     "text": [
      "100%|██████████| 25/25 [00:00<00:00, 289.75it/s]\n"
     ]
    },
    {
     "name": "stdout",
     "output_type": "stream",
     "text": [
      "[*] Running Epoch 6 Validation...\n"
     ]
    },
    {
     "name": "stderr",
     "output_type": "stream",
     "text": [
      "100%|██████████| 7/7 [00:00<00:00, 439.02it/s]\n"
     ]
    },
    {
     "name": "stdout",
     "output_type": "stream",
     "text": [
      "[*] Running Epoch 6 Test...\n"
     ]
    },
    {
     "name": "stderr",
     "output_type": "stream",
     "text": [
      "100%|██████████| 7/7 [00:00<00:00, 441.70it/s]\n"
     ]
    },
    {
     "name": "stdout",
     "output_type": "stream",
     "text": [
      "\n",
      "=>> Epoch 6 Metrics ===\n",
      "\tTrain Loss: 0.25747 -- Val Loss: 0.25126 --Test Loss: 0.25126 -- Val Accuracy: 0.9000 -- Test Accuracy: 0.9000\n",
      "\tBest Val Loss: 0.25126 -- Best Val Accuracy: 0.9050 at Epoch 4\n",
      "\tBest Test Loss: 0.29751 -- Best Test Accuracy: 0.9050 at Epoch 4\n",
      "\n",
      "[*] Starting Training Epoch 7...\n",
      "using constant lr for epoch 7\n"
     ]
    },
    {
     "name": "stderr",
     "output_type": "stream",
     "text": [
      "100%|██████████| 25/25 [00:00<00:00, 291.86it/s]\n"
     ]
    },
    {
     "name": "stdout",
     "output_type": "stream",
     "text": [
      "[*] Running Epoch 7 Validation...\n"
     ]
    },
    {
     "name": "stderr",
     "output_type": "stream",
     "text": [
      "100%|██████████| 7/7 [00:00<00:00, 443.37it/s]\n"
     ]
    },
    {
     "name": "stdout",
     "output_type": "stream",
     "text": [
      "[*] Running Epoch 7 Test...\n"
     ]
    },
    {
     "name": "stderr",
     "output_type": "stream",
     "text": [
      "100%|██████████| 7/7 [00:00<00:00, 413.01it/s]\n"
     ]
    },
    {
     "name": "stdout",
     "output_type": "stream",
     "text": [
      "\n",
      "=>> Epoch 7 Metrics ===\n",
      "\tTrain Loss: 0.24360 -- Val Loss: 0.23981 --Test Loss: 0.23981 -- Val Accuracy: 0.9050 -- Test Accuracy: 0.9050\n",
      "\tBest Val Loss: 0.23981 -- Best Val Accuracy: 0.9050 at Epoch 4\n",
      "\tBest Test Loss: 0.29751 -- Best Test Accuracy: 0.9050 at Epoch 4\n",
      "\n",
      "[*] Starting Training Epoch 8...\n",
      "using constant lr for epoch 8\n"
     ]
    },
    {
     "name": "stderr",
     "output_type": "stream",
     "text": [
      "100%|██████████| 25/25 [00:00<00:00, 291.34it/s]\n"
     ]
    },
    {
     "name": "stdout",
     "output_type": "stream",
     "text": [
      "[*] Running Epoch 8 Validation...\n"
     ]
    },
    {
     "name": "stderr",
     "output_type": "stream",
     "text": [
      "100%|██████████| 7/7 [00:00<00:00, 428.26it/s]\n"
     ]
    },
    {
     "name": "stdout",
     "output_type": "stream",
     "text": [
      "[*] Running Epoch 8 Test...\n"
     ]
    },
    {
     "name": "stderr",
     "output_type": "stream",
     "text": [
      "100%|██████████| 7/7 [00:00<00:00, 441.43it/s]\n"
     ]
    },
    {
     "name": "stdout",
     "output_type": "stream",
     "text": [
      "\n",
      "=>> Epoch 8 Metrics ===\n",
      "\tTrain Loss: 0.24820 -- Val Loss: 0.25177 --Test Loss: 0.25177 -- Val Accuracy: 0.8900 -- Test Accuracy: 0.8900\n",
      "\tBest Val Loss: 0.23981 -- Best Val Accuracy: 0.9050 at Epoch 4\n",
      "\tBest Test Loss: 0.29751 -- Best Test Accuracy: 0.9050 at Epoch 4\n",
      "\n",
      "[*] Starting Training Epoch 9...\n",
      "using constant lr for epoch 9\n"
     ]
    },
    {
     "name": "stderr",
     "output_type": "stream",
     "text": [
      "100%|██████████| 25/25 [00:00<00:00, 292.80it/s]\n"
     ]
    },
    {
     "name": "stdout",
     "output_type": "stream",
     "text": [
      "[*] Running Epoch 9 Validation...\n"
     ]
    },
    {
     "name": "stderr",
     "output_type": "stream",
     "text": [
      "100%|██████████| 7/7 [00:00<00:00, 428.78it/s]\n"
     ]
    },
    {
     "name": "stdout",
     "output_type": "stream",
     "text": [
      "[*] Running Epoch 9 Test...\n"
     ]
    },
    {
     "name": "stderr",
     "output_type": "stream",
     "text": [
      "100%|██████████| 7/7 [00:00<00:00, 441.11it/s]\n"
     ]
    },
    {
     "name": "stdout",
     "output_type": "stream",
     "text": [
      "\n",
      "=>> Epoch 9 Metrics ===\n",
      "\tTrain Loss: 0.24298 -- Val Loss: 0.23708 --Test Loss: 0.23708 -- Val Accuracy: 0.9050 -- Test Accuracy: 0.9050\n",
      "\tBest Val Loss: 0.23708 -- Best Val Accuracy: 0.9050 at Epoch 4\n",
      "\tBest Test Loss: 0.29751 -- Best Test Accuracy: 0.9050 at Epoch 4\n",
      "\n",
      "[*] Starting Training Epoch 10...\n",
      "using constant lr for epoch 10\n"
     ]
    },
    {
     "name": "stderr",
     "output_type": "stream",
     "text": [
      "100%|██████████| 25/25 [00:00<00:00, 287.86it/s]\n"
     ]
    },
    {
     "name": "stdout",
     "output_type": "stream",
     "text": [
      "[*] Running Epoch 10 Validation...\n"
     ]
    },
    {
     "name": "stderr",
     "output_type": "stream",
     "text": [
      "100%|██████████| 7/7 [00:00<00:00, 430.17it/s]\n"
     ]
    },
    {
     "name": "stdout",
     "output_type": "stream",
     "text": [
      "[*] Running Epoch 10 Test...\n"
     ]
    },
    {
     "name": "stderr",
     "output_type": "stream",
     "text": [
      "100%|██████████| 7/7 [00:00<00:00, 432.25it/s]\n"
     ]
    },
    {
     "name": "stdout",
     "output_type": "stream",
     "text": [
      "\n",
      "=>> Epoch 10 Metrics ===\n",
      "\tTrain Loss: 0.23732 -- Val Loss: 0.22290 --Test Loss: 0.22290 -- Val Accuracy: 0.9100 -- Test Accuracy: 0.9100\n",
      "\tBest Val Loss: 0.22290 -- Best Val Accuracy: 0.9100 at Epoch 10\n",
      "\tBest Test Loss: 0.22290 -- Best Test Accuracy: 0.9100 at Epoch 10\n",
      "\n",
      "[*] Starting Training Epoch 11...\n",
      "using constant lr for epoch 11\n"
     ]
    },
    {
     "name": "stderr",
     "output_type": "stream",
     "text": [
      "100%|██████████| 25/25 [00:00<00:00, 283.96it/s]\n"
     ]
    },
    {
     "name": "stdout",
     "output_type": "stream",
     "text": [
      "[*] Running Epoch 11 Validation...\n"
     ]
    },
    {
     "name": "stderr",
     "output_type": "stream",
     "text": [
      "100%|██████████| 7/7 [00:00<00:00, 449.87it/s]\n"
     ]
    },
    {
     "name": "stdout",
     "output_type": "stream",
     "text": [
      "[*] Running Epoch 11 Test...\n"
     ]
    },
    {
     "name": "stderr",
     "output_type": "stream",
     "text": [
      "100%|██████████| 7/7 [00:00<00:00, 425.66it/s]\n"
     ]
    },
    {
     "name": "stdout",
     "output_type": "stream",
     "text": [
      "\n",
      "=>> Epoch 11 Metrics ===\n",
      "\tTrain Loss: 0.22954 -- Val Loss: 0.23100 --Test Loss: 0.23100 -- Val Accuracy: 0.9050 -- Test Accuracy: 0.9050\n",
      "\tBest Val Loss: 0.22290 -- Best Val Accuracy: 0.9100 at Epoch 10\n",
      "\tBest Test Loss: 0.22290 -- Best Test Accuracy: 0.9100 at Epoch 10\n",
      "\n",
      "[*] Starting Training Epoch 12...\n",
      "using constant lr for epoch 12\n"
     ]
    },
    {
     "name": "stderr",
     "output_type": "stream",
     "text": [
      "100%|██████████| 25/25 [00:00<00:00, 289.57it/s]\n"
     ]
    },
    {
     "name": "stdout",
     "output_type": "stream",
     "text": [
      "[*] Running Epoch 12 Validation...\n"
     ]
    },
    {
     "name": "stderr",
     "output_type": "stream",
     "text": [
      "100%|██████████| 7/7 [00:00<00:00, 415.95it/s]\n"
     ]
    },
    {
     "name": "stdout",
     "output_type": "stream",
     "text": [
      "[*] Running Epoch 12 Test...\n"
     ]
    },
    {
     "name": "stderr",
     "output_type": "stream",
     "text": [
      "100%|██████████| 7/7 [00:00<00:00, 437.56it/s]\n"
     ]
    },
    {
     "name": "stdout",
     "output_type": "stream",
     "text": [
      "\n",
      "=>> Epoch 12 Metrics ===\n",
      "\tTrain Loss: 0.21743 -- Val Loss: 0.20877 --Test Loss: 0.20877 -- Val Accuracy: 0.9100 -- Test Accuracy: 0.9100\n",
      "\tBest Val Loss: 0.20877 -- Best Val Accuracy: 0.9100 at Epoch 10\n",
      "\tBest Test Loss: 0.22290 -- Best Test Accuracy: 0.9100 at Epoch 10\n",
      "\n",
      "[*] Starting Training Epoch 13...\n",
      "using constant lr for epoch 13\n"
     ]
    },
    {
     "name": "stderr",
     "output_type": "stream",
     "text": [
      "100%|██████████| 25/25 [00:00<00:00, 283.02it/s]\n"
     ]
    },
    {
     "name": "stdout",
     "output_type": "stream",
     "text": [
      "[*] Running Epoch 13 Validation...\n"
     ]
    },
    {
     "name": "stderr",
     "output_type": "stream",
     "text": [
      "100%|██████████| 7/7 [00:00<00:00, 440.66it/s]\n"
     ]
    },
    {
     "name": "stdout",
     "output_type": "stream",
     "text": [
      "[*] Running Epoch 13 Test...\n"
     ]
    },
    {
     "name": "stderr",
     "output_type": "stream",
     "text": [
      "100%|██████████| 7/7 [00:00<00:00, 439.14it/s]\n"
     ]
    },
    {
     "name": "stdout",
     "output_type": "stream",
     "text": [
      "\n",
      "=>> Epoch 13 Metrics ===\n",
      "\tTrain Loss: 0.21509 -- Val Loss: 0.22317 --Test Loss: 0.22317 -- Val Accuracy: 0.9000 -- Test Accuracy: 0.9000\n",
      "\tBest Val Loss: 0.20877 -- Best Val Accuracy: 0.9100 at Epoch 10\n",
      "\tBest Test Loss: 0.22290 -- Best Test Accuracy: 0.9100 at Epoch 10\n",
      "\n",
      "[*] Starting Training Epoch 14...\n",
      "using constant lr for epoch 14\n"
     ]
    },
    {
     "name": "stderr",
     "output_type": "stream",
     "text": [
      "100%|██████████| 25/25 [00:00<00:00, 286.36it/s]\n"
     ]
    },
    {
     "name": "stdout",
     "output_type": "stream",
     "text": [
      "[*] Running Epoch 14 Validation...\n"
     ]
    },
    {
     "name": "stderr",
     "output_type": "stream",
     "text": [
      "100%|██████████| 7/7 [00:00<00:00, 437.04it/s]\n"
     ]
    },
    {
     "name": "stdout",
     "output_type": "stream",
     "text": [
      "[*] Running Epoch 14 Test...\n"
     ]
    },
    {
     "name": "stderr",
     "output_type": "stream",
     "text": [
      "100%|██████████| 7/7 [00:00<00:00, 441.50it/s]\n"
     ]
    },
    {
     "name": "stdout",
     "output_type": "stream",
     "text": [
      "\n",
      "=>> Epoch 14 Metrics ===\n",
      "\tTrain Loss: 0.21017 -- Val Loss: 0.20226 --Test Loss: 0.20226 -- Val Accuracy: 0.9150 -- Test Accuracy: 0.9150\n",
      "\tBest Val Loss: 0.20226 -- Best Val Accuracy: 0.9150 at Epoch 14\n",
      "\tBest Test Loss: 0.20226 -- Best Test Accuracy: 0.9150 at Epoch 14\n",
      "\n",
      "[*] Starting Training Epoch 15...\n",
      "using constant lr for epoch 15\n"
     ]
    },
    {
     "name": "stderr",
     "output_type": "stream",
     "text": [
      "100%|██████████| 25/25 [00:00<00:00, 283.67it/s]\n"
     ]
    },
    {
     "name": "stdout",
     "output_type": "stream",
     "text": [
      "[*] Running Epoch 15 Validation...\n"
     ]
    },
    {
     "name": "stderr",
     "output_type": "stream",
     "text": [
      "100%|██████████| 7/7 [00:00<00:00, 435.37it/s]\n"
     ]
    },
    {
     "name": "stdout",
     "output_type": "stream",
     "text": [
      "[*] Running Epoch 15 Test...\n"
     ]
    },
    {
     "name": "stderr",
     "output_type": "stream",
     "text": [
      "100%|██████████| 7/7 [00:00<00:00, 437.26it/s]\n"
     ]
    },
    {
     "name": "stdout",
     "output_type": "stream",
     "text": [
      "\n",
      "=>> Epoch 15 Metrics ===\n",
      "\tTrain Loss: 0.20398 -- Val Loss: 0.19326 --Test Loss: 0.19326 -- Val Accuracy: 0.9150 -- Test Accuracy: 0.9150\n",
      "\tBest Val Loss: 0.19326 -- Best Val Accuracy: 0.9150 at Epoch 14\n",
      "\tBest Test Loss: 0.20226 -- Best Test Accuracy: 0.9150 at Epoch 14\n",
      "\n",
      "[*] Starting Training Epoch 16...\n",
      "using constant lr for epoch 16\n"
     ]
    },
    {
     "name": "stderr",
     "output_type": "stream",
     "text": [
      "100%|██████████| 25/25 [00:00<00:00, 288.31it/s]\n"
     ]
    },
    {
     "name": "stdout",
     "output_type": "stream",
     "text": [
      "[*] Running Epoch 16 Validation...\n"
     ]
    },
    {
     "name": "stderr",
     "output_type": "stream",
     "text": [
      "100%|██████████| 7/7 [00:00<00:00, 398.99it/s]\n"
     ]
    },
    {
     "name": "stdout",
     "output_type": "stream",
     "text": [
      "[*] Running Epoch 16 Test...\n"
     ]
    },
    {
     "name": "stderr",
     "output_type": "stream",
     "text": [
      "100%|██████████| 7/7 [00:00<00:00, 425.53it/s]\n"
     ]
    },
    {
     "name": "stdout",
     "output_type": "stream",
     "text": [
      "\n",
      "=>> Epoch 16 Metrics ===\n",
      "\tTrain Loss: 0.19508 -- Val Loss: 0.20508 --Test Loss: 0.20508 -- Val Accuracy: 0.9100 -- Test Accuracy: 0.9100\n",
      "\tBest Val Loss: 0.19326 -- Best Val Accuracy: 0.9150 at Epoch 14\n",
      "\tBest Test Loss: 0.20226 -- Best Test Accuracy: 0.9150 at Epoch 14\n",
      "\n",
      "[*] Starting Training Epoch 17...\n",
      "using constant lr for epoch 17\n"
     ]
    },
    {
     "name": "stderr",
     "output_type": "stream",
     "text": [
      "100%|██████████| 25/25 [00:00<00:00, 291.97it/s]\n"
     ]
    },
    {
     "name": "stdout",
     "output_type": "stream",
     "text": [
      "[*] Running Epoch 17 Validation...\n"
     ]
    },
    {
     "name": "stderr",
     "output_type": "stream",
     "text": [
      "100%|██████████| 7/7 [00:00<00:00, 435.54it/s]\n"
     ]
    },
    {
     "name": "stdout",
     "output_type": "stream",
     "text": [
      "[*] Running Epoch 17 Test...\n"
     ]
    },
    {
     "name": "stderr",
     "output_type": "stream",
     "text": [
      "100%|██████████| 7/7 [00:00<00:00, 430.35it/s]\n"
     ]
    },
    {
     "name": "stdout",
     "output_type": "stream",
     "text": [
      "\n",
      "=>> Epoch 17 Metrics ===\n",
      "\tTrain Loss: 0.19357 -- Val Loss: 0.18623 --Test Loss: 0.18623 -- Val Accuracy: 0.9200 -- Test Accuracy: 0.9200\n",
      "\tBest Val Loss: 0.18623 -- Best Val Accuracy: 0.9200 at Epoch 17\n",
      "\tBest Test Loss: 0.18623 -- Best Test Accuracy: 0.9200 at Epoch 17\n",
      "\n",
      "[*] Starting Training Epoch 18...\n",
      "using constant lr for epoch 18\n"
     ]
    },
    {
     "name": "stderr",
     "output_type": "stream",
     "text": [
      "100%|██████████| 25/25 [00:00<00:00, 291.71it/s]\n"
     ]
    },
    {
     "name": "stdout",
     "output_type": "stream",
     "text": [
      "[*] Running Epoch 18 Validation...\n"
     ]
    },
    {
     "name": "stderr",
     "output_type": "stream",
     "text": [
      "100%|██████████| 7/7 [00:00<00:00, 424.94it/s]\n"
     ]
    },
    {
     "name": "stdout",
     "output_type": "stream",
     "text": [
      "[*] Running Epoch 18 Test...\n"
     ]
    },
    {
     "name": "stderr",
     "output_type": "stream",
     "text": [
      "100%|██████████| 7/7 [00:00<00:00, 433.00it/s]\n"
     ]
    },
    {
     "name": "stdout",
     "output_type": "stream",
     "text": [
      "\n",
      "=>> Epoch 18 Metrics ===\n",
      "\tTrain Loss: 0.18323 -- Val Loss: 0.18887 --Test Loss: 0.18887 -- Val Accuracy: 0.9100 -- Test Accuracy: 0.9100\n",
      "\tBest Val Loss: 0.18623 -- Best Val Accuracy: 0.9200 at Epoch 17\n",
      "\tBest Test Loss: 0.18623 -- Best Test Accuracy: 0.9200 at Epoch 17\n",
      "\n",
      "[*] Starting Training Epoch 19...\n",
      "using constant lr for epoch 19\n"
     ]
    },
    {
     "name": "stderr",
     "output_type": "stream",
     "text": [
      "100%|██████████| 25/25 [00:00<00:00, 284.38it/s]\n"
     ]
    },
    {
     "name": "stdout",
     "output_type": "stream",
     "text": [
      "[*] Running Epoch 19 Validation...\n"
     ]
    },
    {
     "name": "stderr",
     "output_type": "stream",
     "text": [
      "100%|██████████| 7/7 [00:00<00:00, 437.04it/s]\n"
     ]
    },
    {
     "name": "stdout",
     "output_type": "stream",
     "text": [
      "[*] Running Epoch 19 Test...\n"
     ]
    },
    {
     "name": "stderr",
     "output_type": "stream",
     "text": [
      "100%|██████████| 7/7 [00:00<00:00, 402.98it/s]\n"
     ]
    },
    {
     "name": "stdout",
     "output_type": "stream",
     "text": [
      "\n",
      "=>> Epoch 19 Metrics ===\n",
      "\tTrain Loss: 0.18519 -- Val Loss: 0.17341 --Test Loss: 0.17341 -- Val Accuracy: 0.9300 -- Test Accuracy: 0.9300\n",
      "\tBest Val Loss: 0.17341 -- Best Val Accuracy: 0.9300 at Epoch 19\n",
      "\tBest Test Loss: 0.17341 -- Best Test Accuracy: 0.9300 at Epoch 19\n",
      "\n",
      "[*] Starting Training Epoch 20...\n",
      "using constant lr for epoch 20\n"
     ]
    },
    {
     "name": "stderr",
     "output_type": "stream",
     "text": [
      "100%|██████████| 25/25 [00:00<00:00, 283.50it/s]\n"
     ]
    },
    {
     "name": "stdout",
     "output_type": "stream",
     "text": [
      "[*] Running Epoch 20 Validation...\n"
     ]
    },
    {
     "name": "stderr",
     "output_type": "stream",
     "text": [
      "100%|██████████| 7/7 [00:00<00:00, 414.05it/s]\n"
     ]
    },
    {
     "name": "stdout",
     "output_type": "stream",
     "text": [
      "[*] Running Epoch 20 Test...\n"
     ]
    },
    {
     "name": "stderr",
     "output_type": "stream",
     "text": [
      "100%|██████████| 7/7 [00:00<00:00, 431.29it/s]\n"
     ]
    },
    {
     "name": "stdout",
     "output_type": "stream",
     "text": [
      "\n",
      "=>> Epoch 20 Metrics ===\n",
      "\tTrain Loss: 0.17462 -- Val Loss: 0.16323 --Test Loss: 0.16323 -- Val Accuracy: 0.9250 -- Test Accuracy: 0.9250\n",
      "\tBest Val Loss: 0.16323 -- Best Val Accuracy: 0.9300 at Epoch 19\n",
      "\tBest Test Loss: 0.17341 -- Best Test Accuracy: 0.9300 at Epoch 19\n",
      "\n"
     ]
    }
   ],
   "source": [
    "DATA_DIR = 'real/clf'\n",
    "# DATA_DIR = os.path.join(DATA_DIR, 'scrambled')  # use scrambled data (control)\n",
    "\n",
    "args = TrainArgs(\n",
    "    C_init='trunc_standard_normal', batchnorm=True, bidirectional=True,\n",
    "    epoch_save_dir=\"epochs_clf\", save_training=1, \n",
    "    blocks=16, bsz=32, d_model=8, clear_cache=True, data_dir=DATA_DIR,\n",
    "    problem_type='clf_real', dt_global=True, epochs=20, jax_seed=5464358, lr_factor=2, n_layers=1,\n",
    "    opt_config='standard', p_dropout=0.0, ssm_lr_base=0.001, ssm_size_base=64,\n",
    "    warmup_end=0, weight_decay=0.05, cosine_anneal=False)\n",
    "\n",
    "train(args)"
   ]
  },
  {
   "cell_type": "code",
   "execution_count": 3,
   "id": "0749410e-2723-4444-b47f-b8baf086a21e",
   "metadata": {},
   "outputs": [
    {
     "data": {
      "image/png": "[encoded data removed]",
      "text/plain": [
       "<Figure size 1000x800 with 20 Axes>"
      ]
     },
     "metadata": {},
     "output_type": "display_data"
    },
    {
     "data": {
      "image/png": "[encoded data removed]",
      "text/plain": [
       "<Figure size 300x250 with 1 Axes>"
      ]
     },
     "metadata": {},
     "output_type": "display_data"
    }
   ],
   "source": [
    "from disp import colors\n",
    "\n",
    "# load results\n",
    "fig, axs = plt.subplots(4, 5, figsize=(10, 8), tight_layout=True)\n",
    "\n",
    "train_losses = []\n",
    "val_losses = []\n",
    "\n",
    "for cepoch, ax in enumerate(axs.flatten()):\n",
    "    data = np.load(f'epochs_clf/epoch_{cepoch}.npy', allow_pickle=True)[0]\n",
    "    \n",
    "    targs = data['val_targ']\n",
    "    preds = data['val_pred']\n",
    "    \n",
    "    acc = np.mean(targs == preds.argmax(1))\n",
    "    \n",
    "    labels = np.sort(np.unique(targs))\n",
    "    y_ticks = []\n",
    "    \n",
    "    for clabel_0, label_0 in enumerate(labels):\n",
    "        for clabel_1, label_1 in enumerate(labels):\n",
    "            logits = preds[targs==label_0, clabel_1]\n",
    "            display_jitter = .02*np.random.randn(len(logits))\n",
    "            ax.scatter(logits, np.zeros(len(logits)) + clabel_0 + .8*clabel_1/len(labels) + display_jitter, c=colors[clabel_1], s=5)\n",
    "            \n",
    "        y_ticks.append(clabel_0 + .2)\n",
    "    \n",
    "    set_plot(ax, y_ticks=y_ticks, y_tick_labels=labels, x_label='Logits', y_label='True label', title=f'Epoch {cepoch+1} (acc {acc:.2f})')\n",
    "    \n",
    "    train_losses.append(data['train_loss'])\n",
    "    val_losses.append(data['val_loss'])\n",
    "    \n",
    "fig, ax = plt.subplots(1, 1, figsize=(3, 2.5), tight_layout=True)\n",
    "ax.plot(train_losses, c='b')\n",
    "ax.plot(val_losses, c='orange')\n",
    "ax.legend(['Train', 'Val'])\n",
    "set_plot(ax, x_label='Epoch', y_label='Loss')"
   ]
  },
  {
   "cell_type": "markdown",
   "id": "99654ef9-d7a5-488c-8650-d679a88e6401",
   "metadata": {},
   "source": [
    "# Regression test"
   ]
  },
  {
   "cell_type": "code",
   "execution_count": 4,
   "id": "fc9403d1-54ae-49fc-9623-1547bcd4041b",
   "metadata": {},
   "outputs": [
    {
     "name": "stdout",
     "output_type": "stream",
     "text": [
      "Deleting saved epoch files from epochs_rgr...\n",
      "[*] Setting Randomness...\n",
      "[*] Generating Real-valued Sequence Regression Dataset\n",
      "Clearing cache...\n"
     ]
    },
    {
     "data": {
      "application/vnd.jupyter.widget-view+json": {
       "model_id": "3eede75dbe1a4198ba5ab286ff4ecc1e",
       "version_major": 2,
       "version_minor": 0
      },
      "text/plain": [
       "Casting the dataset:   0%|          | 0/800 [00:00<?, ? examples/s]"
      ]
     },
     "metadata": {},
     "output_type": "display_data"
    },
    {
     "data": {
      "application/vnd.jupyter.widget-view+json": {
       "model_id": "b33c3c2a64544a64b4e4f89e444b1ee6",
       "version_major": 2,
       "version_minor": 0
      },
      "text/plain": [
       "Casting the dataset:   0%|          | 0/200 [00:00<?, ? examples/s]"
      ]
     },
     "metadata": {},
     "output_type": "display_data"
    },
    {
     "data": {
      "application/vnd.jupyter.widget-view+json": {
       "model_id": "4dc6effd6a014b2daa82b6629afb8c64",
       "version_major": 2,
       "version_minor": 0
      },
      "text/plain": [
       "Casting the dataset:   0%|          | 0/200 [00:00<?, ? examples/s]"
      ]
     },
     "metadata": {},
     "output_type": "display_data"
    },
    {
     "data": {
      "application/vnd.jupyter.widget-view+json": {
       "model_id": "a353cdd1a997481a950b396ef1448d82",
       "version_major": 2,
       "version_minor": 0
      },
      "text/plain": [
       "Map:   0%|          | 0/800 [00:00<?, ? examples/s]"
      ]
     },
     "metadata": {},
     "output_type": "display_data"
    },
    {
     "data": {
      "application/vnd.jupyter.widget-view+json": {
       "model_id": "3206d340ff0a4407b8c92e85381bad54",
       "version_major": 2,
       "version_minor": 0
      },
      "text/plain": [
       "Map:   0%|          | 0/200 [00:00<?, ? examples/s]"
      ]
     },
     "metadata": {},
     "output_type": "display_data"
    },
    {
     "data": {
      "application/vnd.jupyter.widget-view+json": {
       "model_id": "9be7f5d6a6d849ab987ed7f652bdd203",
       "version_major": 2,
       "version_minor": 0
      },
      "text/plain": [
       "Map:   0%|          | 0/200 [00:00<?, ? examples/s]"
      ]
     },
     "metadata": {},
     "output_type": "display_data"
    },
    {
     "data": {
      "application/vnd.jupyter.widget-view+json": {
       "model_id": "179a8e52ce90448baaa49b8654039c5e",
       "version_major": 2,
       "version_minor": 0
      },
      "text/plain": [
       "Saving the dataset (0/1 shards):   0%|          | 0/800 [00:00<?, ? examples/s]"
      ]
     },
     "metadata": {},
     "output_type": "display_data"
    },
    {
     "data": {
      "application/vnd.jupyter.widget-view+json": {
       "model_id": "523d7561b6c2405c9bd64d75e14e61cb",
       "version_major": 2,
       "version_minor": 0
      },
      "text/plain": [
       "Saving the dataset (0/1 shards):   0%|          | 0/200 [00:00<?, ? examples/s]"
      ]
     },
     "metadata": {},
     "output_type": "display_data"
    },
    {
     "data": {
      "application/vnd.jupyter.widget-view+json": {
       "model_id": "18f5c6ea7c8d4cd8b0f27aec2adb3a58",
       "version_major": 2,
       "version_minor": 0
      },
      "text/plain": [
       "Saving the dataset (0/1 shards):   0%|          | 0/200 [00:00<?, ? examples/s]"
      ]
     },
     "metadata": {},
     "output_type": "display_data"
    },
    {
     "name": "stdout",
     "output_type": "stream",
     "text": [
      "[*] Starting S5 rgr_real training on `real/rgr` =>> Initializing...\n",
      "Lambda.shape=(32,)\n",
      "V.shape=(64, 32)\n",
      "Vinv.shape=(32, 64)\n"
     ]
    },
    {
     "name": "stderr",
     "output_type": "stream",
     "text": [
      "/scratch/gpfs/rp21/s5-della/s5/train_helpers.py:244: FutureWarning: jax.tree_leaves is deprecated, and will be removed in a future release. Use jax.tree_util.tree_leaves instead.\n",
      "  print(f\"[*] Trainable Parameters: {sum(jax.tree_leaves(param_sizes))}\")\n"
     ]
    },
    {
     "name": "stdout",
     "output_type": "stream",
     "text": [
      "configuring standard optimization setup\n",
      "[*] Trainable Parameters: 1753\n",
      "[*] Starting Training Epoch 1...\n",
      "using constant lr for epoch 1\n"
     ]
    },
    {
     "name": "stderr",
     "output_type": "stream",
     "text": [
      "100%|██████████| 25/25 [00:02<00:00, 11.19it/s]\n"
     ]
    },
    {
     "name": "stdout",
     "output_type": "stream",
     "text": [
      "[*] Running Epoch 1 Validation...\n"
     ]
    },
    {
     "name": "stderr",
     "output_type": "stream",
     "text": [
      "100%|██████████| 7/7 [00:02<00:00,  2.57it/s]\n"
     ]
    },
    {
     "name": "stdout",
     "output_type": "stream",
     "text": [
      "[*] Running Epoch 1 Test...\n"
     ]
    },
    {
     "name": "stderr",
     "output_type": "stream",
     "text": [
      "100%|██████████| 7/7 [00:00<00:00, 428.67it/s]\n"
     ]
    },
    {
     "name": "stdout",
     "output_type": "stream",
     "text": [
      "\n",
      "=>> Epoch 1 Metrics ===\n",
      "\tTrain Loss: 0.73564 -- Val Loss: 0.65635 --Test Loss: 0.65635 -- Val Accuracy: nan -- Test Accuracy: nan\n",
      "\tBest Val Loss: 0.65635 -- Best Val Accuracy: -100000000.0000 at Epoch 1\n",
      "\tBest Test Loss: 100000000.00000 -- Best Test Accuracy: -10000.0000 at Epoch 1\n",
      "\n",
      "[*] Starting Training Epoch 2...\n",
      "using constant lr for epoch 2\n"
     ]
    },
    {
     "name": "stderr",
     "output_type": "stream",
     "text": [
      "100%|██████████| 25/25 [00:00<00:00, 304.22it/s]\n"
     ]
    },
    {
     "name": "stdout",
     "output_type": "stream",
     "text": [
      "[*] Running Epoch 2 Validation...\n"
     ]
    },
    {
     "name": "stderr",
     "output_type": "stream",
     "text": [
      "100%|██████████| 7/7 [00:00<00:00, 423.65it/s]\n"
     ]
    },
    {
     "name": "stdout",
     "output_type": "stream",
     "text": [
      "[*] Running Epoch 2 Test...\n"
     ]
    },
    {
     "name": "stderr",
     "output_type": "stream",
     "text": [
      "100%|██████████| 7/7 [00:00<00:00, 460.91it/s]\n"
     ]
    },
    {
     "name": "stdout",
     "output_type": "stream",
     "text": [
      "\n",
      "=>> Epoch 2 Metrics ===\n",
      "\tTrain Loss: 0.56820 -- Val Loss: 0.45233 --Test Loss: 0.45233 -- Val Accuracy: nan -- Test Accuracy: nan\n",
      "\tBest Val Loss: 0.45233 -- Best Val Accuracy: -100000000.0000 at Epoch 1\n",
      "\tBest Test Loss: 100000000.00000 -- Best Test Accuracy: -10000.0000 at Epoch 1\n",
      "\n",
      "[*] Starting Training Epoch 3...\n",
      "using constant lr for epoch 3\n"
     ]
    },
    {
     "name": "stderr",
     "output_type": "stream",
     "text": [
      "100%|██████████| 25/25 [00:00<00:00, 299.89it/s]\n"
     ]
    },
    {
     "name": "stdout",
     "output_type": "stream",
     "text": [
      "[*] Running Epoch 3 Validation...\n"
     ]
    },
    {
     "name": "stderr",
     "output_type": "stream",
     "text": [
      "100%|██████████| 7/7 [00:00<00:00, 446.42it/s]\n"
     ]
    },
    {
     "name": "stdout",
     "output_type": "stream",
     "text": [
      "[*] Running Epoch 3 Test...\n"
     ]
    },
    {
     "name": "stderr",
     "output_type": "stream",
     "text": [
      "100%|██████████| 7/7 [00:00<00:00, 431.06it/s]\n"
     ]
    },
    {
     "name": "stdout",
     "output_type": "stream",
     "text": [
      "\n",
      "=>> Epoch 3 Metrics ===\n",
      "\tTrain Loss: 0.38813 -- Val Loss: 0.30615 --Test Loss: 0.30615 -- Val Accuracy: nan -- Test Accuracy: nan\n",
      "\tBest Val Loss: 0.30615 -- Best Val Accuracy: -100000000.0000 at Epoch 1\n",
      "\tBest Test Loss: 100000000.00000 -- Best Test Accuracy: -10000.0000 at Epoch 1\n",
      "\n",
      "[*] Starting Training Epoch 4...\n",
      "using constant lr for epoch 4\n"
     ]
    },
    {
     "name": "stderr",
     "output_type": "stream",
     "text": [
      "100%|██████████| 25/25 [00:00<00:00, 302.89it/s]\n"
     ]
    },
    {
     "name": "stdout",
     "output_type": "stream",
     "text": [
      "[*] Running Epoch 4 Validation...\n"
     ]
    },
    {
     "name": "stderr",
     "output_type": "stream",
     "text": [
      "100%|██████████| 7/7 [00:00<00:00, 425.51it/s]\n"
     ]
    },
    {
     "name": "stdout",
     "output_type": "stream",
     "text": [
      "[*] Running Epoch 4 Test...\n"
     ]
    },
    {
     "name": "stderr",
     "output_type": "stream",
     "text": [
      "100%|██████████| 7/7 [00:00<00:00, 445.27it/s]\n"
     ]
    },
    {
     "name": "stdout",
     "output_type": "stream",
     "text": [
      "\n",
      "=>> Epoch 4 Metrics ===\n",
      "\tTrain Loss: 0.30734 -- Val Loss: 0.25441 --Test Loss: 0.25441 -- Val Accuracy: nan -- Test Accuracy: nan\n",
      "\tBest Val Loss: 0.25441 -- Best Val Accuracy: -100000000.0000 at Epoch 1\n",
      "\tBest Test Loss: 100000000.00000 -- Best Test Accuracy: -10000.0000 at Epoch 1\n",
      "\n",
      "[*] Starting Training Epoch 5...\n",
      "using constant lr for epoch 5\n"
     ]
    },
    {
     "name": "stderr",
     "output_type": "stream",
     "text": [
      "100%|██████████| 25/25 [00:00<00:00, 302.40it/s]\n"
     ]
    },
    {
     "name": "stdout",
     "output_type": "stream",
     "text": [
      "[*] Running Epoch 5 Validation...\n"
     ]
    },
    {
     "name": "stderr",
     "output_type": "stream",
     "text": [
      "100%|██████████| 7/7 [00:00<00:00, 446.52it/s]\n"
     ]
    },
    {
     "name": "stdout",
     "output_type": "stream",
     "text": [
      "[*] Running Epoch 5 Test...\n"
     ]
    },
    {
     "name": "stderr",
     "output_type": "stream",
     "text": [
      "100%|██████████| 7/7 [00:00<00:00, 449.39it/s]\n"
     ]
    },
    {
     "name": "stdout",
     "output_type": "stream",
     "text": [
      "\n",
      "=>> Epoch 5 Metrics ===\n",
      "\tTrain Loss: 0.24826 -- Val Loss: 0.21154 --Test Loss: 0.21154 -- Val Accuracy: nan -- Test Accuracy: nan\n",
      "\tBest Val Loss: 0.21154 -- Best Val Accuracy: -100000000.0000 at Epoch 1\n",
      "\tBest Test Loss: 100000000.00000 -- Best Test Accuracy: -10000.0000 at Epoch 1\n",
      "\n",
      "[*] Starting Training Epoch 6...\n",
      "using constant lr for epoch 6\n"
     ]
    },
    {
     "name": "stderr",
     "output_type": "stream",
     "text": [
      "100%|██████████| 25/25 [00:00<00:00, 306.43it/s]\n"
     ]
    },
    {
     "name": "stdout",
     "output_type": "stream",
     "text": [
      "[*] Running Epoch 6 Validation...\n"
     ]
    },
    {
     "name": "stderr",
     "output_type": "stream",
     "text": [
      "100%|██████████| 7/7 [00:00<00:00, 436.87it/s]\n"
     ]
    },
    {
     "name": "stdout",
     "output_type": "stream",
     "text": [
      "[*] Running Epoch 6 Test...\n"
     ]
    },
    {
     "name": "stderr",
     "output_type": "stream",
     "text": [
      "100%|██████████| 7/7 [00:00<00:00, 441.79it/s]\n"
     ]
    },
    {
     "name": "stdout",
     "output_type": "stream",
     "text": [
      "\n",
      "=>> Epoch 6 Metrics ===\n",
      "\tTrain Loss: 0.20611 -- Val Loss: 0.19902 --Test Loss: 0.19902 -- Val Accuracy: nan -- Test Accuracy: nan\n",
      "\tBest Val Loss: 0.19902 -- Best Val Accuracy: -100000000.0000 at Epoch 1\n",
      "\tBest Test Loss: 100000000.00000 -- Best Test Accuracy: -10000.0000 at Epoch 1\n",
      "\n",
      "[*] Starting Training Epoch 7...\n",
      "using constant lr for epoch 7\n"
     ]
    },
    {
     "name": "stderr",
     "output_type": "stream",
     "text": [
      "100%|██████████| 25/25 [00:00<00:00, 297.10it/s]\n"
     ]
    },
    {
     "name": "stdout",
     "output_type": "stream",
     "text": [
      "[*] Running Epoch 7 Validation...\n"
     ]
    },
    {
     "name": "stderr",
     "output_type": "stream",
     "text": [
      "100%|██████████| 7/7 [00:00<00:00, 436.97it/s]\n"
     ]
    },
    {
     "name": "stdout",
     "output_type": "stream",
     "text": [
      "[*] Running Epoch 7 Test...\n"
     ]
    },
    {
     "name": "stderr",
     "output_type": "stream",
     "text": [
      "100%|██████████| 7/7 [00:00<00:00, 438.49it/s]\n"
     ]
    },
    {
     "name": "stdout",
     "output_type": "stream",
     "text": [
      "\n",
      "=>> Epoch 7 Metrics ===\n",
      "\tTrain Loss: 0.19375 -- Val Loss: 0.19210 --Test Loss: 0.19210 -- Val Accuracy: nan -- Test Accuracy: nan\n",
      "\tBest Val Loss: 0.19210 -- Best Val Accuracy: -100000000.0000 at Epoch 1\n",
      "\tBest Test Loss: 100000000.00000 -- Best Test Accuracy: -10000.0000 at Epoch 1\n",
      "\n",
      "[*] Starting Training Epoch 8...\n",
      "using constant lr for epoch 8\n"
     ]
    },
    {
     "name": "stderr",
     "output_type": "stream",
     "text": [
      "100%|██████████| 25/25 [00:00<00:00, 297.17it/s]\n"
     ]
    },
    {
     "name": "stdout",
     "output_type": "stream",
     "text": [
      "[*] Running Epoch 8 Validation...\n"
     ]
    },
    {
     "name": "stderr",
     "output_type": "stream",
     "text": [
      "100%|██████████| 7/7 [00:00<00:00, 438.92it/s]\n"
     ]
    },
    {
     "name": "stdout",
     "output_type": "stream",
     "text": [
      "[*] Running Epoch 8 Test...\n"
     ]
    },
    {
     "name": "stderr",
     "output_type": "stream",
     "text": [
      "100%|██████████| 7/7 [00:00<00:00, 447.60it/s]\n"
     ]
    },
    {
     "name": "stdout",
     "output_type": "stream",
     "text": [
      "\n",
      "=>> Epoch 8 Metrics ===\n",
      "\tTrain Loss: 0.20158 -- Val Loss: 0.19564 --Test Loss: 0.19564 -- Val Accuracy: nan -- Test Accuracy: nan\n",
      "\tBest Val Loss: 0.19210 -- Best Val Accuracy: -100000000.0000 at Epoch 1\n",
      "\tBest Test Loss: 100000000.00000 -- Best Test Accuracy: -10000.0000 at Epoch 1\n",
      "\n",
      "[*] Starting Training Epoch 9...\n",
      "using constant lr for epoch 9\n"
     ]
    },
    {
     "name": "stderr",
     "output_type": "stream",
     "text": [
      "100%|██████████| 25/25 [00:00<00:00, 306.50it/s]\n"
     ]
    },
    {
     "name": "stdout",
     "output_type": "stream",
     "text": [
      "[*] Running Epoch 9 Validation...\n"
     ]
    },
    {
     "name": "stderr",
     "output_type": "stream",
     "text": [
      "100%|██████████| 7/7 [00:00<00:00, 443.53it/s]\n"
     ]
    },
    {
     "name": "stdout",
     "output_type": "stream",
     "text": [
      "[*] Running Epoch 9 Test...\n"
     ]
    },
    {
     "name": "stderr",
     "output_type": "stream",
     "text": [
      "100%|██████████| 7/7 [00:00<00:00, 458.43it/s]\n"
     ]
    },
    {
     "name": "stdout",
     "output_type": "stream",
     "text": [
      "\n",
      "=>> Epoch 9 Metrics ===\n",
      "\tTrain Loss: 0.19140 -- Val Loss: 0.19902 --Test Loss: 0.19902 -- Val Accuracy: nan -- Test Accuracy: nan\n",
      "\tBest Val Loss: 0.19210 -- Best Val Accuracy: -100000000.0000 at Epoch 1\n",
      "\tBest Test Loss: 100000000.00000 -- Best Test Accuracy: -10000.0000 at Epoch 1\n",
      "\n",
      "[*] Starting Training Epoch 10...\n",
      "using constant lr for epoch 10\n"
     ]
    },
    {
     "name": "stderr",
     "output_type": "stream",
     "text": [
      "100%|██████████| 25/25 [00:00<00:00, 307.89it/s]\n"
     ]
    },
    {
     "name": "stdout",
     "output_type": "stream",
     "text": [
      "[*] Running Epoch 10 Validation...\n"
     ]
    },
    {
     "name": "stderr",
     "output_type": "stream",
     "text": [
      "100%|██████████| 7/7 [00:00<00:00, 428.85it/s]\n"
     ]
    },
    {
     "name": "stdout",
     "output_type": "stream",
     "text": [
      "[*] Running Epoch 10 Test...\n"
     ]
    },
    {
     "name": "stderr",
     "output_type": "stream",
     "text": [
      "100%|██████████| 7/7 [00:00<00:00, 462.76it/s]\n"
     ]
    },
    {
     "name": "stdout",
     "output_type": "stream",
     "text": [
      "\n",
      "=>> Epoch 10 Metrics ===\n",
      "\tTrain Loss: 0.19090 -- Val Loss: 0.18108 --Test Loss: 0.18108 -- Val Accuracy: nan -- Test Accuracy: nan\n",
      "\tBest Val Loss: 0.18108 -- Best Val Accuracy: -100000000.0000 at Epoch 1\n",
      "\tBest Test Loss: 100000000.00000 -- Best Test Accuracy: -10000.0000 at Epoch 1\n",
      "\n",
      "[*] Starting Training Epoch 11...\n",
      "using constant lr for epoch 11\n"
     ]
    },
    {
     "name": "stderr",
     "output_type": "stream",
     "text": [
      "100%|██████████| 25/25 [00:00<00:00, 307.57it/s]\n"
     ]
    },
    {
     "name": "stdout",
     "output_type": "stream",
     "text": [
      "[*] Running Epoch 11 Validation...\n"
     ]
    },
    {
     "name": "stderr",
     "output_type": "stream",
     "text": [
      "100%|██████████| 7/7 [00:00<00:00, 435.96it/s]\n"
     ]
    },
    {
     "name": "stdout",
     "output_type": "stream",
     "text": [
      "[*] Running Epoch 11 Test...\n"
     ]
    },
    {
     "name": "stderr",
     "output_type": "stream",
     "text": [
      "100%|██████████| 7/7 [00:00<00:00, 451.10it/s]\n"
     ]
    },
    {
     "name": "stdout",
     "output_type": "stream",
     "text": [
      "\n",
      "=>> Epoch 11 Metrics ===\n",
      "\tTrain Loss: 0.18101 -- Val Loss: 0.18351 --Test Loss: 0.18351 -- Val Accuracy: nan -- Test Accuracy: nan\n",
      "\tBest Val Loss: 0.18108 -- Best Val Accuracy: -100000000.0000 at Epoch 1\n",
      "\tBest Test Loss: 100000000.00000 -- Best Test Accuracy: -10000.0000 at Epoch 1\n",
      "\n",
      "[*] Starting Training Epoch 12...\n",
      "using constant lr for epoch 12\n"
     ]
    },
    {
     "name": "stderr",
     "output_type": "stream",
     "text": [
      "100%|██████████| 25/25 [00:00<00:00, 305.00it/s]\n"
     ]
    },
    {
     "name": "stdout",
     "output_type": "stream",
     "text": [
      "[*] Running Epoch 12 Validation...\n"
     ]
    },
    {
     "name": "stderr",
     "output_type": "stream",
     "text": [
      "100%|██████████| 7/7 [00:00<00:00, 441.29it/s]\n"
     ]
    },
    {
     "name": "stdout",
     "output_type": "stream",
     "text": [
      "[*] Running Epoch 12 Test...\n"
     ]
    },
    {
     "name": "stderr",
     "output_type": "stream",
     "text": [
      "100%|██████████| 7/7 [00:00<00:00, 458.06it/s]\n"
     ]
    },
    {
     "name": "stdout",
     "output_type": "stream",
     "text": [
      "\n",
      "=>> Epoch 12 Metrics ===\n",
      "\tTrain Loss: 0.16196 -- Val Loss: 0.15291 --Test Loss: 0.15291 -- Val Accuracy: nan -- Test Accuracy: nan\n",
      "\tBest Val Loss: 0.15291 -- Best Val Accuracy: -100000000.0000 at Epoch 1\n",
      "\tBest Test Loss: 100000000.00000 -- Best Test Accuracy: -10000.0000 at Epoch 1\n",
      "\n",
      "[*] Starting Training Epoch 13...\n",
      "using constant lr for epoch 13\n"
     ]
    },
    {
     "name": "stderr",
     "output_type": "stream",
     "text": [
      "100%|██████████| 25/25 [00:00<00:00, 306.15it/s]\n"
     ]
    },
    {
     "name": "stdout",
     "output_type": "stream",
     "text": [
      "[*] Running Epoch 13 Validation...\n"
     ]
    },
    {
     "name": "stderr",
     "output_type": "stream",
     "text": [
      "100%|██████████| 7/7 [00:00<00:00, 430.29it/s]\n"
     ]
    },
    {
     "name": "stdout",
     "output_type": "stream",
     "text": [
      "[*] Running Epoch 13 Test...\n"
     ]
    },
    {
     "name": "stderr",
     "output_type": "stream",
     "text": [
      "100%|██████████| 7/7 [00:00<00:00, 462.75it/s]\n"
     ]
    },
    {
     "name": "stdout",
     "output_type": "stream",
     "text": [
      "\n",
      "=>> Epoch 13 Metrics ===\n",
      "\tTrain Loss: 0.15498 -- Val Loss: 0.14191 --Test Loss: 0.14191 -- Val Accuracy: nan -- Test Accuracy: nan\n",
      "\tBest Val Loss: 0.14191 -- Best Val Accuracy: -100000000.0000 at Epoch 1\n",
      "\tBest Test Loss: 100000000.00000 -- Best Test Accuracy: -10000.0000 at Epoch 1\n",
      "\n",
      "[*] Starting Training Epoch 14...\n",
      "using constant lr for epoch 14\n"
     ]
    },
    {
     "name": "stderr",
     "output_type": "stream",
     "text": [
      "100%|██████████| 25/25 [00:00<00:00, 306.79it/s]\n"
     ]
    },
    {
     "name": "stdout",
     "output_type": "stream",
     "text": [
      "[*] Running Epoch 14 Validation...\n"
     ]
    },
    {
     "name": "stderr",
     "output_type": "stream",
     "text": [
      "100%|██████████| 7/7 [00:00<00:00, 450.68it/s]\n"
     ]
    },
    {
     "name": "stdout",
     "output_type": "stream",
     "text": [
      "[*] Running Epoch 14 Test...\n"
     ]
    },
    {
     "name": "stderr",
     "output_type": "stream",
     "text": [
      "100%|██████████| 7/7 [00:00<00:00, 452.96it/s]\n"
     ]
    },
    {
     "name": "stdout",
     "output_type": "stream",
     "text": [
      "\n",
      "=>> Epoch 14 Metrics ===\n",
      "\tTrain Loss: 0.13506 -- Val Loss: 0.12449 --Test Loss: 0.12449 -- Val Accuracy: nan -- Test Accuracy: nan\n",
      "\tBest Val Loss: 0.12449 -- Best Val Accuracy: -100000000.0000 at Epoch 1\n",
      "\tBest Test Loss: 100000000.00000 -- Best Test Accuracy: -10000.0000 at Epoch 1\n",
      "\n",
      "[*] Starting Training Epoch 15...\n",
      "using constant lr for epoch 15\n"
     ]
    },
    {
     "name": "stderr",
     "output_type": "stream",
     "text": [
      "100%|██████████| 25/25 [00:00<00:00, 311.96it/s]\n"
     ]
    },
    {
     "name": "stdout",
     "output_type": "stream",
     "text": [
      "[*] Running Epoch 15 Validation...\n"
     ]
    },
    {
     "name": "stderr",
     "output_type": "stream",
     "text": [
      "100%|██████████| 7/7 [00:00<00:00, 448.33it/s]\n"
     ]
    },
    {
     "name": "stdout",
     "output_type": "stream",
     "text": [
      "[*] Running Epoch 15 Test...\n"
     ]
    },
    {
     "name": "stderr",
     "output_type": "stream",
     "text": [
      "100%|██████████| 7/7 [00:00<00:00, 443.90it/s]\n"
     ]
    },
    {
     "name": "stdout",
     "output_type": "stream",
     "text": [
      "\n",
      "=>> Epoch 15 Metrics ===\n",
      "\tTrain Loss: 0.12687 -- Val Loss: 0.10177 --Test Loss: 0.10177 -- Val Accuracy: nan -- Test Accuracy: nan\n",
      "\tBest Val Loss: 0.10177 -- Best Val Accuracy: -100000000.0000 at Epoch 1\n",
      "\tBest Test Loss: 100000000.00000 -- Best Test Accuracy: -10000.0000 at Epoch 1\n",
      "\n",
      "[*] Starting Training Epoch 16...\n",
      "using constant lr for epoch 16\n"
     ]
    },
    {
     "name": "stderr",
     "output_type": "stream",
     "text": [
      "100%|██████████| 25/25 [00:00<00:00, 303.83it/s]\n"
     ]
    },
    {
     "name": "stdout",
     "output_type": "stream",
     "text": [
      "[*] Running Epoch 16 Validation...\n"
     ]
    },
    {
     "name": "stderr",
     "output_type": "stream",
     "text": [
      "100%|██████████| 7/7 [00:00<00:00, 445.59it/s]\n"
     ]
    },
    {
     "name": "stdout",
     "output_type": "stream",
     "text": [
      "[*] Running Epoch 16 Test...\n"
     ]
    },
    {
     "name": "stderr",
     "output_type": "stream",
     "text": [
      "100%|██████████| 7/7 [00:00<00:00, 446.63it/s]\n"
     ]
    },
    {
     "name": "stdout",
     "output_type": "stream",
     "text": [
      "\n",
      "=>> Epoch 16 Metrics ===\n",
      "\tTrain Loss: 0.10421 -- Val Loss: 0.12199 --Test Loss: 0.12199 -- Val Accuracy: nan -- Test Accuracy: nan\n",
      "\tBest Val Loss: 0.10177 -- Best Val Accuracy: -100000000.0000 at Epoch 1\n",
      "\tBest Test Loss: 100000000.00000 -- Best Test Accuracy: -10000.0000 at Epoch 1\n",
      "\n",
      "[*] Starting Training Epoch 17...\n",
      "using constant lr for epoch 17\n"
     ]
    },
    {
     "name": "stderr",
     "output_type": "stream",
     "text": [
      "100%|██████████| 25/25 [00:00<00:00, 312.87it/s]\n"
     ]
    },
    {
     "name": "stdout",
     "output_type": "stream",
     "text": [
      "[*] Running Epoch 17 Validation...\n"
     ]
    },
    {
     "name": "stderr",
     "output_type": "stream",
     "text": [
      "100%|██████████| 7/7 [00:00<00:00, 449.38it/s]\n"
     ]
    },
    {
     "name": "stdout",
     "output_type": "stream",
     "text": [
      "[*] Running Epoch 17 Test...\n"
     ]
    },
    {
     "name": "stderr",
     "output_type": "stream",
     "text": [
      "100%|██████████| 7/7 [00:00<00:00, 441.76it/s]\n"
     ]
    },
    {
     "name": "stdout",
     "output_type": "stream",
     "text": [
      "\n",
      "=>> Epoch 17 Metrics ===\n",
      "\tTrain Loss: 0.09248 -- Val Loss: 0.06930 --Test Loss: 0.06930 -- Val Accuracy: nan -- Test Accuracy: nan\n",
      "\tBest Val Loss: 0.06930 -- Best Val Accuracy: -100000000.0000 at Epoch 1\n",
      "\tBest Test Loss: 100000000.00000 -- Best Test Accuracy: -10000.0000 at Epoch 1\n",
      "\n",
      "[*] Starting Training Epoch 18...\n",
      "using constant lr for epoch 18\n"
     ]
    },
    {
     "name": "stderr",
     "output_type": "stream",
     "text": [
      "100%|██████████| 25/25 [00:00<00:00, 313.02it/s]\n"
     ]
    },
    {
     "name": "stdout",
     "output_type": "stream",
     "text": [
      "[*] Running Epoch 18 Validation...\n"
     ]
    },
    {
     "name": "stderr",
     "output_type": "stream",
     "text": [
      "100%|██████████| 7/7 [00:00<00:00, 441.80it/s]\n"
     ]
    },
    {
     "name": "stdout",
     "output_type": "stream",
     "text": [
      "[*] Running Epoch 18 Test...\n"
     ]
    },
    {
     "name": "stderr",
     "output_type": "stream",
     "text": [
      "100%|██████████| 7/7 [00:00<00:00, 439.49it/s]\n"
     ]
    },
    {
     "name": "stdout",
     "output_type": "stream",
     "text": [
      "\n",
      "=>> Epoch 18 Metrics ===\n",
      "\tTrain Loss: 0.08848 -- Val Loss: 0.06953 --Test Loss: 0.06953 -- Val Accuracy: nan -- Test Accuracy: nan\n",
      "\tBest Val Loss: 0.06930 -- Best Val Accuracy: -100000000.0000 at Epoch 1\n",
      "\tBest Test Loss: 100000000.00000 -- Best Test Accuracy: -10000.0000 at Epoch 1\n",
      "\n",
      "[*] Starting Training Epoch 19...\n",
      "using constant lr for epoch 19\n"
     ]
    },
    {
     "name": "stderr",
     "output_type": "stream",
     "text": [
      "100%|██████████| 25/25 [00:00<00:00, 307.57it/s]\n"
     ]
    },
    {
     "name": "stdout",
     "output_type": "stream",
     "text": [
      "[*] Running Epoch 19 Validation...\n"
     ]
    },
    {
     "name": "stderr",
     "output_type": "stream",
     "text": [
      "100%|██████████| 7/7 [00:00<00:00, 454.41it/s]\n"
     ]
    },
    {
     "name": "stdout",
     "output_type": "stream",
     "text": [
      "[*] Running Epoch 19 Test...\n"
     ]
    },
    {
     "name": "stderr",
     "output_type": "stream",
     "text": [
      "100%|██████████| 7/7 [00:00<00:00, 438.18it/s]\n"
     ]
    },
    {
     "name": "stdout",
     "output_type": "stream",
     "text": [
      "\n",
      "=>> Epoch 19 Metrics ===\n",
      "\tTrain Loss: 0.08801 -- Val Loss: 0.07570 --Test Loss: 0.07570 -- Val Accuracy: nan -- Test Accuracy: nan\n",
      "\tBest Val Loss: 0.06930 -- Best Val Accuracy: -100000000.0000 at Epoch 1\n",
      "\tBest Test Loss: 100000000.00000 -- Best Test Accuracy: -10000.0000 at Epoch 1\n",
      "\n",
      "[*] Starting Training Epoch 20...\n",
      "using constant lr for epoch 20\n"
     ]
    },
    {
     "name": "stderr",
     "output_type": "stream",
     "text": [
      "100%|██████████| 25/25 [00:00<00:00, 310.61it/s]\n"
     ]
    },
    {
     "name": "stdout",
     "output_type": "stream",
     "text": [
      "[*] Running Epoch 20 Validation...\n"
     ]
    },
    {
     "name": "stderr",
     "output_type": "stream",
     "text": [
      "100%|██████████| 7/7 [00:00<00:00, 454.28it/s]\n"
     ]
    },
    {
     "name": "stdout",
     "output_type": "stream",
     "text": [
      "[*] Running Epoch 20 Test...\n"
     ]
    },
    {
     "name": "stderr",
     "output_type": "stream",
     "text": [
      "100%|██████████| 7/7 [00:00<00:00, 448.35it/s]"
     ]
    },
    {
     "name": "stdout",
     "output_type": "stream",
     "text": [
      "\n",
      "=>> Epoch 20 Metrics ===\n",
      "\tTrain Loss: 0.07449 -- Val Loss: 0.07361 --Test Loss: 0.07361 -- Val Accuracy: nan -- Test Accuracy: nan\n",
      "\tBest Val Loss: 0.06930 -- Best Val Accuracy: -100000000.0000 at Epoch 1\n",
      "\tBest Test Loss: 100000000.00000 -- Best Test Accuracy: -10000.0000 at Epoch 1\n",
      "\n"
     ]
    },
    {
     "name": "stderr",
     "output_type": "stream",
     "text": [
      "\n"
     ]
    }
   ],
   "source": [
    "DATA_DIR = 'real/rgr'\n",
    "# DATA_DIR = os.path.join(DATA_DIR, 'scrambled')  # use scrambled data (control)\n",
    "\n",
    "args = TrainArgs(\n",
    "    C_init='trunc_standard_normal', batchnorm=True, bidirectional=True,\n",
    "    epoch_save_dir=\"epochs_rgr\", save_training=1, \n",
    "    blocks=16, bsz=32, d_model=8, clear_cache=True, data_dir=DATA_DIR,\n",
    "    problem_type='rgr_real', dt_global=True, epochs=20, jax_seed=5464358, lr_factor=2, n_layers=1,\n",
    "    opt_config='standard', p_dropout=0.0, ssm_lr_base=0.001, ssm_size_base=64,\n",
    "    warmup_end=0, weight_decay=0.05, cosine_anneal=False)\n",
    "\n",
    "train(args)"
   ]
  },
  {
   "cell_type": "code",
   "execution_count": 5,
   "id": "5dbcc9dc-199d-4dba-840d-c72ba5849d50",
   "metadata": {},
   "outputs": [
    {
     "data": {
      "image/png": "[encoded data removed]",
      "text/plain": [
       "<Figure size 1000x800 with 20 Axes>"
      ]
     },
     "metadata": {},
     "output_type": "display_data"
    },
    {
     "data": {
      "image/png": "[encoded data removed]",
      "text/plain": [
       "<Figure size 300x250 with 1 Axes>"
      ]
     },
     "metadata": {},
     "output_type": "display_data"
    }
   ],
   "source": [
    "# load results\n",
    "fig, axs = plt.subplots(4, 5, figsize=(10, 8), tight_layout=True)\n",
    "\n",
    "train_losses = []\n",
    "val_losses = []\n",
    "\n",
    "for cepoch, ax in enumerate(axs.flatten()):\n",
    "    data = np.load(f'epochs_rgr/epoch_{cepoch}.npy', allow_pickle=True)[0]\n",
    "    \n",
    "    targs = data['val_targ']\n",
    "    preds = data['val_pred']\n",
    "    \n",
    "    ax.scatter(preds, targs, c='k', s=1)\n",
    "    \n",
    "    set_plot(ax, x_label='Prediction', y_label='Target', title=f'Epoch {cepoch+1}')\n",
    "    \n",
    "    train_losses.append(data['train_loss'])\n",
    "    val_losses.append(data['val_loss'])\n",
    "    \n",
    "fig, ax = plt.subplots(1, 1, figsize=(3, 2.5), tight_layout=True)\n",
    "ax.plot(train_losses, c='b')\n",
    "ax.plot(val_losses, c='orange')\n",
    "ax.legend(['Train', 'Val'])\n",
    "set_plot(ax, x_label='Epoch', y_label='Loss')"
   ]
  },
  {
   "cell_type": "code",
   "execution_count": null,
   "id": "1b585077-3511-4df6-96c9-615f0561b4b0",
   "metadata": {},
   "outputs": [],
   "source": []
  }
 ],
 "metadata": {
  "kernelspec": {
   "display_name": "s5-gpu-test [~/.conda/envs/s5-gpu-test/]",
   "language": "python",
   "name": "conda_s5-gpu-test"
  },
  "language_info": {
   "codemirror_mode": {
    "name": "ipython",
    "version": 3
   },
   "file_extension": ".py",
   "mimetype": "text/x-python",
   "name": "python",
   "nbconvert_exporter": "python",
   "pygments_lexer": "ipython3",
   "version": "3.11.8"
  }
 },
 "nbformat": 4,
 "nbformat_minor": 5
}
