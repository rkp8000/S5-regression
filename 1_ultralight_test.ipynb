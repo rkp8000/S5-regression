{
 "cells": [
  {
   "cell_type": "markdown",
   "id": "2ad1d401-a1ae-47e4-bcfa-a3fe03890a39",
   "metadata": {},
   "source": [
    "# S5 classification and regression test on symbol sequences\n",
    "\n",
    "The input sequence is a 9-char sequence of A, B, C, e.g. BCACBAACB.\n",
    "\n",
    "The classification target (output) is whether there are at least 5 A's, e.g.\n",
    "\n",
    "BCACBAACB -> 0\n",
    "\n",
    "ACACAAACB -> 1\n",
    "\n",
    "The regression target is the number of A's divided by 9, e.g.\n",
    "\n",
    "BCACBAACB -> .3333...\n",
    "\n",
    "ACACAAACB -> .5555...\n",
    "\n",
    "AAAAAAAAA -> 1."
   ]
  },
  {
   "cell_type": "code",
   "execution_count": 1,
   "id": "c12d6687-22d2-4d7f-983c-03f4defaa48d",
   "metadata": {},
   "outputs": [
    {
     "name": "stdout",
     "output_type": "stream",
     "text": [
      "Using gpu\n"
     ]
    }
   ],
   "source": [
    "import matplotlib.pyplot as plt\n",
    "import numpy as np\n",
    "from scipy import stats\n",
    "import os\n",
    "\n",
    "import jax\n",
    "print('Using', jax.devices()[0].platform)\n",
    "\n",
    "from disp import get_line, set_color, set_plot\n",
    "# from my_torch import fit_song_fmtn\n",
    "from run_train import TrainArgs, train\n",
    "\n",
    "cc = np.concatenate\n",
    "\n",
    "if not os.path.exists('epochs_clf'):\n",
    "    os.makedirs('epochs_clf')\n",
    "if not os.path.exists('epochs_rgr'):\n",
    "    os.makedirs('epochs_rgr')"
   ]
  },
  {
   "cell_type": "markdown",
   "id": "5637c671-b65a-4e23-9dff-31635cf3c77d",
   "metadata": {},
   "source": [
    "## Classification test"
   ]
  },
  {
   "cell_type": "code",
   "execution_count": 2,
   "id": "dfc56462-fdba-484c-b05d-531e59ea1410",
   "metadata": {},
   "outputs": [
    {
     "name": "stdout",
     "output_type": "stream",
     "text": [
      "Deleting saved epoch files from epochs_clf...\n",
      "[*] Setting Randomness...\n",
      "[*] Generating Token Sequence Classification Dataset\n"
     ]
    },
    {
     "data": {
      "application/vnd.jupyter.widget-view+json": {
       "model_id": "9a92e46a5ae54fa6bedb4492fe538ed4",
       "version_major": 2,
       "version_minor": 0
      },
      "text/plain": [
       "Downloading data files:   0%|          | 0/3 [00:00<?, ?it/s]"
      ]
     },
     "metadata": {},
     "output_type": "display_data"
    },
    {
     "data": {
      "application/vnd.jupyter.widget-view+json": {
       "model_id": "daed165a58ce4f1bb602f02bcee8388c",
       "version_major": 2,
       "version_minor": 0
      },
      "text/plain": [
       "Extracting data files:   0%|          | 0/3 [00:00<?, ?it/s]"
      ]
     },
     "metadata": {},
     "output_type": "display_data"
    },
    {
     "data": {
      "application/vnd.jupyter.widget-view+json": {
       "model_id": "a4f6f6b7562c4b38b9d3498948ae7d9c",
       "version_major": 2,
       "version_minor": 0
      },
      "text/plain": [
       "Generating train split: 0 examples [00:00, ? examples/s]"
      ]
     },
     "metadata": {},
     "output_type": "display_data"
    },
    {
     "name": "stderr",
     "output_type": "stream",
     "text": [
      "/home/rp21/.conda/envs/s5-gpu-test/lib/python3.11/site-packages/datasets/download/streaming_download_manager.py:765: FutureWarning: The 'verbose' keyword in pd.read_csv is deprecated and will be removed in a future version.\n",
      "  return pd.read_csv(xopen(filepath_or_buffer, \"rb\", download_config=download_config), **kwargs)\n"
     ]
    },
    {
     "data": {
      "application/vnd.jupyter.widget-view+json": {
       "model_id": "dd9c4be2a0f44fdda10d0ecc59d0e1b9",
       "version_major": 2,
       "version_minor": 0
      },
      "text/plain": [
       "Generating val split: 0 examples [00:00, ? examples/s]"
      ]
     },
     "metadata": {},
     "output_type": "display_data"
    },
    {
     "name": "stderr",
     "output_type": "stream",
     "text": [
      "/home/rp21/.conda/envs/s5-gpu-test/lib/python3.11/site-packages/datasets/download/streaming_download_manager.py:765: FutureWarning: The 'verbose' keyword in pd.read_csv is deprecated and will be removed in a future version.\n",
      "  return pd.read_csv(xopen(filepath_or_buffer, \"rb\", download_config=download_config), **kwargs)\n"
     ]
    },
    {
     "data": {
      "application/vnd.jupyter.widget-view+json": {
       "model_id": "5a5f36dd74d8437b8d475badad382771",
       "version_major": 2,
       "version_minor": 0
      },
      "text/plain": [
       "Generating test split: 0 examples [00:00, ? examples/s]"
      ]
     },
     "metadata": {},
     "output_type": "display_data"
    },
    {
     "name": "stderr",
     "output_type": "stream",
     "text": [
      "/home/rp21/.conda/envs/s5-gpu-test/lib/python3.11/site-packages/datasets/download/streaming_download_manager.py:765: FutureWarning: The 'verbose' keyword in pd.read_csv is deprecated and will be removed in a future version.\n",
      "  return pd.read_csv(xopen(filepath_or_buffer, \"rb\", download_config=download_config), **kwargs)\n"
     ]
    },
    {
     "data": {
      "application/vnd.jupyter.widget-view+json": {
       "model_id": "02aa55159b6443fda935074bd8e7880a",
       "version_major": 2,
       "version_minor": 0
      },
      "text/plain": [
       "Casting the dataset:   0%|          | 0/800 [00:00<?, ? examples/s]"
      ]
     },
     "metadata": {},
     "output_type": "display_data"
    },
    {
     "data": {
      "application/vnd.jupyter.widget-view+json": {
       "model_id": "258bad763ae04fa1a6921fab503de25d",
       "version_major": 2,
       "version_minor": 0
      },
      "text/plain": [
       "Casting the dataset:   0%|          | 0/200 [00:00<?, ? examples/s]"
      ]
     },
     "metadata": {},
     "output_type": "display_data"
    },
    {
     "data": {
      "application/vnd.jupyter.widget-view+json": {
       "model_id": "4ab3183103fe4151b404d4ad09656576",
       "version_major": 2,
       "version_minor": 0
      },
      "text/plain": [
       "Casting the dataset:   0%|          | 0/200 [00:00<?, ? examples/s]"
      ]
     },
     "metadata": {},
     "output_type": "display_data"
    },
    {
     "data": {
      "application/vnd.jupyter.widget-view+json": {
       "model_id": "ef8296fc49c94c12a1fa25acbdb7d3a5",
       "version_major": 2,
       "version_minor": 0
      },
      "text/plain": [
       "Map:   0%|          | 0/800 [00:00<?, ? examples/s]"
      ]
     },
     "metadata": {},
     "output_type": "display_data"
    },
    {
     "data": {
      "application/vnd.jupyter.widget-view+json": {
       "model_id": "5f664162435041a6a81f6b792f8b22c7",
       "version_major": 2,
       "version_minor": 0
      },
      "text/plain": [
       "Map:   0%|          | 0/200 [00:00<?, ? examples/s]"
      ]
     },
     "metadata": {},
     "output_type": "display_data"
    },
    {
     "data": {
      "application/vnd.jupyter.widget-view+json": {
       "model_id": "6abc73d14f0d4b67bd87dc5786f0ac57",
       "version_major": 2,
       "version_minor": 0
      },
      "text/plain": [
       "Map:   0%|          | 0/200 [00:00<?, ? examples/s]"
      ]
     },
     "metadata": {},
     "output_type": "display_data"
    },
    {
     "data": {
      "application/vnd.jupyter.widget-view+json": {
       "model_id": "f66eae10a26940ccbd53816113021adc",
       "version_major": 2,
       "version_minor": 0
      },
      "text/plain": [
       "Map:   0%|          | 0/800 [00:00<?, ? examples/s]"
      ]
     },
     "metadata": {},
     "output_type": "display_data"
    },
    {
     "data": {
      "application/vnd.jupyter.widget-view+json": {
       "model_id": "e6ef95ead65b4793af2f1b1bb1286a41",
       "version_major": 2,
       "version_minor": 0
      },
      "text/plain": [
       "Map:   0%|          | 0/200 [00:00<?, ? examples/s]"
      ]
     },
     "metadata": {},
     "output_type": "display_data"
    },
    {
     "data": {
      "application/vnd.jupyter.widget-view+json": {
       "model_id": "e09caae24f0242069ba71144881612e8",
       "version_major": 2,
       "version_minor": 0
      },
      "text/plain": [
       "Map:   0%|          | 0/200 [00:00<?, ? examples/s]"
      ]
     },
     "metadata": {},
     "output_type": "display_data"
    },
    {
     "data": {
      "application/vnd.jupyter.widget-view+json": {
       "model_id": "4e8045058b4e4ac3a617a6aef6c3eae0",
       "version_major": 2,
       "version_minor": 0
      },
      "text/plain": [
       "Saving the dataset (0/1 shards):   0%|          | 0/800 [00:00<?, ? examples/s]"
      ]
     },
     "metadata": {},
     "output_type": "display_data"
    },
    {
     "data": {
      "application/vnd.jupyter.widget-view+json": {
       "model_id": "21626365bb9e4ebd92a8b95a8fc4b3f0",
       "version_major": 2,
       "version_minor": 0
      },
      "text/plain": [
       "Saving the dataset (0/1 shards):   0%|          | 0/200 [00:00<?, ? examples/s]"
      ]
     },
     "metadata": {},
     "output_type": "display_data"
    },
    {
     "data": {
      "application/vnd.jupyter.widget-view+json": {
       "model_id": "4060afffcb044eaeabf9ac5bd6d3c8a6",
       "version_major": 2,
       "version_minor": 0
      },
      "text/plain": [
       "Saving the dataset (0/1 shards):   0%|          | 0/200 [00:00<?, ? examples/s]"
      ]
     },
     "metadata": {},
     "output_type": "display_data"
    },
    {
     "name": "stdout",
     "output_type": "stream",
     "text": [
      "Vcab size: 6\n",
      "[*] Starting S5 clf_token training on `ultralight/clf` =>> Initializing...\n",
      "Lambda.shape=(32,)\n",
      "V.shape=(64, 32)\n",
      "Vinv.shape=(32, 64)\n",
      "configuring standard optimization setup\n",
      "[*] Trainable Parameters: 1802\n"
     ]
    },
    {
     "name": "stderr",
     "output_type": "stream",
     "text": [
      "/scratch/gpfs/rp21/s5-della/s5/train_helpers.py:244: FutureWarning: jax.tree_leaves is deprecated, and will be removed in a future release. Use jax.tree_util.tree_leaves instead.\n",
      "  print(f\"[*] Trainable Parameters: {sum(jax.tree_leaves(param_sizes))}\")\n"
     ]
    },
    {
     "name": "stdout",
     "output_type": "stream",
     "text": [
      "[*] Starting Training Epoch 1...\n",
      "using constant lr for epoch 1\n"
     ]
    },
    {
     "name": "stderr",
     "output_type": "stream",
     "text": [
      "100%|██████████| 25/25 [00:08<00:00,  2.81it/s]\n"
     ]
    },
    {
     "name": "stdout",
     "output_type": "stream",
     "text": [
      "[*] Running Epoch 1 Validation...\n"
     ]
    },
    {
     "name": "stderr",
     "output_type": "stream",
     "text": [
      "100%|██████████| 7/7 [00:06<00:00,  1.10it/s]\n"
     ]
    },
    {
     "name": "stdout",
     "output_type": "stream",
     "text": [
      "[*] Running Epoch 1 Test...\n"
     ]
    },
    {
     "name": "stderr",
     "output_type": "stream",
     "text": [
      "100%|██████████| 7/7 [00:00<00:00, 420.14it/s]\n"
     ]
    },
    {
     "name": "stdout",
     "output_type": "stream",
     "text": [
      "\n",
      "=>> Epoch 1 Metrics ===\n",
      "\tTrain Loss: 5.45023 -- Val Loss: 0.52933 --Test Loss: 0.52933 -- Val Accuracy: 0.9650 -- Test Accuracy: 0.9650\n",
      "\tBest Val Loss: 0.52933 -- Best Val Accuracy: 0.9650 at Epoch 1\n",
      "\tBest Test Loss: 0.52933 -- Best Test Accuracy: 0.9650 at Epoch 1\n",
      "\n",
      "[*] Starting Training Epoch 2...\n",
      "using constant lr for epoch 2\n"
     ]
    },
    {
     "name": "stderr",
     "output_type": "stream",
     "text": [
      "100%|██████████| 25/25 [00:00<00:00, 51.12it/s]\n"
     ]
    },
    {
     "name": "stdout",
     "output_type": "stream",
     "text": [
      "[*] Running Epoch 2 Validation...\n"
     ]
    },
    {
     "name": "stderr",
     "output_type": "stream",
     "text": [
      "100%|██████████| 7/7 [00:00<00:00, 439.62it/s]\n"
     ]
    },
    {
     "name": "stdout",
     "output_type": "stream",
     "text": [
      "[*] Running Epoch 2 Test...\n"
     ]
    },
    {
     "name": "stderr",
     "output_type": "stream",
     "text": [
      "100%|██████████| 7/7 [00:00<00:00, 436.97it/s]\n"
     ]
    },
    {
     "name": "stdout",
     "output_type": "stream",
     "text": [
      "\n",
      "=>> Epoch 2 Metrics ===\n",
      "\tTrain Loss: 0.46898 -- Val Loss: 0.54908 --Test Loss: 0.54908 -- Val Accuracy: 0.7450 -- Test Accuracy: 0.7450\n",
      "\tBest Val Loss: 0.52933 -- Best Val Accuracy: 0.9650 at Epoch 1\n",
      "\tBest Test Loss: 0.52933 -- Best Test Accuracy: 0.9650 at Epoch 1\n",
      "\n",
      "[*] Starting Training Epoch 3...\n",
      "using constant lr for epoch 3\n"
     ]
    },
    {
     "name": "stderr",
     "output_type": "stream",
     "text": [
      "100%|██████████| 25/25 [00:00<00:00, 51.62it/s]\n"
     ]
    },
    {
     "name": "stdout",
     "output_type": "stream",
     "text": [
      "[*] Running Epoch 3 Validation...\n"
     ]
    },
    {
     "name": "stderr",
     "output_type": "stream",
     "text": [
      "100%|██████████| 7/7 [00:00<00:00, 436.74it/s]\n"
     ]
    },
    {
     "name": "stdout",
     "output_type": "stream",
     "text": [
      "[*] Running Epoch 3 Test...\n"
     ]
    },
    {
     "name": "stderr",
     "output_type": "stream",
     "text": [
      "100%|██████████| 7/7 [00:00<00:00, 422.65it/s]\n"
     ]
    },
    {
     "name": "stdout",
     "output_type": "stream",
     "text": [
      "\n",
      "=>> Epoch 3 Metrics ===\n",
      "\tTrain Loss: 0.14205 -- Val Loss: 0.52705 --Test Loss: 0.52705 -- Val Accuracy: 0.8800 -- Test Accuracy: 0.8800\n",
      "\tBest Val Loss: 0.52705 -- Best Val Accuracy: 0.9650 at Epoch 1\n",
      "\tBest Test Loss: 0.52933 -- Best Test Accuracy: 0.9650 at Epoch 1\n",
      "\n",
      "[*] Starting Training Epoch 4...\n",
      "using constant lr for epoch 4\n"
     ]
    },
    {
     "name": "stderr",
     "output_type": "stream",
     "text": [
      "100%|██████████| 25/25 [00:00<00:00, 51.62it/s]\n"
     ]
    },
    {
     "name": "stdout",
     "output_type": "stream",
     "text": [
      "[*] Running Epoch 4 Validation...\n"
     ]
    },
    {
     "name": "stderr",
     "output_type": "stream",
     "text": [
      "100%|██████████| 7/7 [00:00<00:00, 441.94it/s]\n"
     ]
    },
    {
     "name": "stdout",
     "output_type": "stream",
     "text": [
      "[*] Running Epoch 4 Test...\n"
     ]
    },
    {
     "name": "stderr",
     "output_type": "stream",
     "text": [
      "100%|██████████| 7/7 [00:00<00:00, 429.66it/s]\n"
     ]
    },
    {
     "name": "stdout",
     "output_type": "stream",
     "text": [
      "\n",
      "=>> Epoch 4 Metrics ===\n",
      "\tTrain Loss: 0.12394 -- Val Loss: 0.43820 --Test Loss: 0.43820 -- Val Accuracy: 0.8800 -- Test Accuracy: 0.8800\n",
      "\tBest Val Loss: 0.43820 -- Best Val Accuracy: 0.9650 at Epoch 1\n",
      "\tBest Test Loss: 0.52933 -- Best Test Accuracy: 0.9650 at Epoch 1\n",
      "\n",
      "[*] Starting Training Epoch 5...\n",
      "using constant lr for epoch 5\n"
     ]
    },
    {
     "name": "stderr",
     "output_type": "stream",
     "text": [
      "100%|██████████| 25/25 [00:00<00:00, 51.55it/s]\n"
     ]
    },
    {
     "name": "stdout",
     "output_type": "stream",
     "text": [
      "[*] Running Epoch 5 Validation...\n"
     ]
    },
    {
     "name": "stderr",
     "output_type": "stream",
     "text": [
      "100%|██████████| 7/7 [00:00<00:00, 427.19it/s]\n"
     ]
    },
    {
     "name": "stdout",
     "output_type": "stream",
     "text": [
      "[*] Running Epoch 5 Test...\n"
     ]
    },
    {
     "name": "stderr",
     "output_type": "stream",
     "text": [
      "100%|██████████| 7/7 [00:00<00:00, 438.96it/s]\n"
     ]
    },
    {
     "name": "stdout",
     "output_type": "stream",
     "text": [
      "\n",
      "=>> Epoch 5 Metrics ===\n",
      "\tTrain Loss: 0.10493 -- Val Loss: 0.22205 --Test Loss: 0.22205 -- Val Accuracy: 0.8850 -- Test Accuracy: 0.8850\n",
      "\tBest Val Loss: 0.22205 -- Best Val Accuracy: 0.9650 at Epoch 1\n",
      "\tBest Test Loss: 0.52933 -- Best Test Accuracy: 0.9650 at Epoch 1\n",
      "\n",
      "[*] Starting Training Epoch 6...\n",
      "using constant lr for epoch 6\n"
     ]
    },
    {
     "name": "stderr",
     "output_type": "stream",
     "text": [
      "100%|██████████| 25/25 [00:00<00:00, 51.36it/s]\n"
     ]
    },
    {
     "name": "stdout",
     "output_type": "stream",
     "text": [
      "[*] Running Epoch 6 Validation...\n"
     ]
    },
    {
     "name": "stderr",
     "output_type": "stream",
     "text": [
      "100%|██████████| 7/7 [00:00<00:00, 398.16it/s]\n"
     ]
    },
    {
     "name": "stdout",
     "output_type": "stream",
     "text": [
      "[*] Running Epoch 6 Test...\n"
     ]
    },
    {
     "name": "stderr",
     "output_type": "stream",
     "text": [
      "100%|██████████| 7/7 [00:00<00:00, 429.57it/s]\n"
     ]
    },
    {
     "name": "stdout",
     "output_type": "stream",
     "text": [
      "\n",
      "=>> Epoch 6 Metrics ===\n",
      "\tTrain Loss: 0.09892 -- Val Loss: 0.11049 --Test Loss: 0.11049 -- Val Accuracy: 0.9650 -- Test Accuracy: 0.9650\n",
      "\tBest Val Loss: 0.11049 -- Best Val Accuracy: 0.9650 at Epoch 1\n",
      "\tBest Test Loss: 0.52933 -- Best Test Accuracy: 0.9650 at Epoch 1\n",
      "\n",
      "[*] Starting Training Epoch 7...\n",
      "using constant lr for epoch 7\n"
     ]
    },
    {
     "name": "stderr",
     "output_type": "stream",
     "text": [
      "100%|██████████| 25/25 [00:00<00:00, 51.37it/s]\n"
     ]
    },
    {
     "name": "stdout",
     "output_type": "stream",
     "text": [
      "[*] Running Epoch 7 Validation...\n"
     ]
    },
    {
     "name": "stderr",
     "output_type": "stream",
     "text": [
      "100%|██████████| 7/7 [00:00<00:00, 424.34it/s]\n"
     ]
    },
    {
     "name": "stdout",
     "output_type": "stream",
     "text": [
      "[*] Running Epoch 7 Test...\n"
     ]
    },
    {
     "name": "stderr",
     "output_type": "stream",
     "text": [
      "100%|██████████| 7/7 [00:00<00:00, 398.08it/s]\n"
     ]
    },
    {
     "name": "stdout",
     "output_type": "stream",
     "text": [
      "\n",
      "=>> Epoch 7 Metrics ===\n",
      "\tTrain Loss: 0.08507 -- Val Loss: 0.06784 --Test Loss: 0.06784 -- Val Accuracy: 0.9900 -- Test Accuracy: 0.9900\n",
      "\tBest Val Loss: 0.06784 -- Best Val Accuracy: 0.9900 at Epoch 7\n",
      "\tBest Test Loss: 0.06784 -- Best Test Accuracy: 0.9900 at Epoch 7\n",
      "\n",
      "[*] Starting Training Epoch 8...\n",
      "using constant lr for epoch 8\n"
     ]
    },
    {
     "name": "stderr",
     "output_type": "stream",
     "text": [
      "100%|██████████| 25/25 [00:00<00:00, 51.50it/s]\n"
     ]
    },
    {
     "name": "stdout",
     "output_type": "stream",
     "text": [
      "[*] Running Epoch 8 Validation...\n"
     ]
    },
    {
     "name": "stderr",
     "output_type": "stream",
     "text": [
      "100%|██████████| 7/7 [00:00<00:00, 436.39it/s]\n"
     ]
    },
    {
     "name": "stdout",
     "output_type": "stream",
     "text": [
      "[*] Running Epoch 8 Test...\n"
     ]
    },
    {
     "name": "stderr",
     "output_type": "stream",
     "text": [
      "100%|██████████| 7/7 [00:00<00:00, 435.55it/s]\n"
     ]
    },
    {
     "name": "stdout",
     "output_type": "stream",
     "text": [
      "\n",
      "=>> Epoch 8 Metrics ===\n",
      "\tTrain Loss: 0.08456 -- Val Loss: 0.05665 --Test Loss: 0.05665 -- Val Accuracy: 1.0000 -- Test Accuracy: 1.0000\n",
      "\tBest Val Loss: 0.05665 -- Best Val Accuracy: 1.0000 at Epoch 8\n",
      "\tBest Test Loss: 0.05665 -- Best Test Accuracy: 1.0000 at Epoch 8\n",
      "\n",
      "[*] Starting Training Epoch 9...\n",
      "using constant lr for epoch 9\n"
     ]
    },
    {
     "name": "stderr",
     "output_type": "stream",
     "text": [
      "100%|██████████| 25/25 [00:00<00:00, 51.56it/s]\n"
     ]
    },
    {
     "name": "stdout",
     "output_type": "stream",
     "text": [
      "[*] Running Epoch 9 Validation...\n"
     ]
    },
    {
     "name": "stderr",
     "output_type": "stream",
     "text": [
      "100%|██████████| 7/7 [00:00<00:00, 432.71it/s]\n"
     ]
    },
    {
     "name": "stdout",
     "output_type": "stream",
     "text": [
      "[*] Running Epoch 9 Test...\n"
     ]
    },
    {
     "name": "stderr",
     "output_type": "stream",
     "text": [
      "100%|██████████| 7/7 [00:00<00:00, 424.37it/s]\n"
     ]
    },
    {
     "name": "stdout",
     "output_type": "stream",
     "text": [
      "\n",
      "=>> Epoch 9 Metrics ===\n",
      "\tTrain Loss: 0.09441 -- Val Loss: 0.05012 --Test Loss: 0.05012 -- Val Accuracy: 1.0000 -- Test Accuracy: 1.0000\n",
      "\tBest Val Loss: 0.05012 -- Best Val Accuracy: 1.0000 at Epoch 8\n",
      "\tBest Test Loss: 0.05665 -- Best Test Accuracy: 1.0000 at Epoch 8\n",
      "\n",
      "[*] Starting Training Epoch 10...\n",
      "using constant lr for epoch 10\n"
     ]
    },
    {
     "name": "stderr",
     "output_type": "stream",
     "text": [
      "100%|██████████| 25/25 [00:00<00:00, 51.57it/s]\n"
     ]
    },
    {
     "name": "stdout",
     "output_type": "stream",
     "text": [
      "[*] Running Epoch 10 Validation...\n"
     ]
    },
    {
     "name": "stderr",
     "output_type": "stream",
     "text": [
      "100%|██████████| 7/7 [00:00<00:00, 432.12it/s]\n"
     ]
    },
    {
     "name": "stdout",
     "output_type": "stream",
     "text": [
      "[*] Running Epoch 10 Test...\n"
     ]
    },
    {
     "name": "stderr",
     "output_type": "stream",
     "text": [
      "100%|██████████| 7/7 [00:00<00:00, 422.65it/s]"
     ]
    },
    {
     "name": "stdout",
     "output_type": "stream",
     "text": [
      "\n",
      "=>> Epoch 10 Metrics ===\n",
      "\tTrain Loss: 0.07219 -- Val Loss: 0.04580 --Test Loss: 0.04580 -- Val Accuracy: 1.0000 -- Test Accuracy: 1.0000\n",
      "\tBest Val Loss: 0.04580 -- Best Val Accuracy: 1.0000 at Epoch 8\n",
      "\tBest Test Loss: 0.05665 -- Best Test Accuracy: 1.0000 at Epoch 8\n",
      "\n"
     ]
    },
    {
     "name": "stderr",
     "output_type": "stream",
     "text": [
      "\n"
     ]
    }
   ],
   "source": [
    "DATA_DIR = 'ultralight/clf'\n",
    "# DATA_DIR = os.path.join(DATA_DIR, 'scrambled')  # use scrambled data (control)\n",
    "\n",
    "args = TrainArgs(\n",
    "    C_init='trunc_standard_normal', batchnorm=True, bidirectional=True,\n",
    "    epoch_save_dir=\"epochs_clf\", save_training=1, \n",
    "    blocks=16, bsz=32, d_model=8, clear_cache=True, data_dir=DATA_DIR,\n",
    "    problem_type='clf_token', dt_global=True, epochs=10, jax_seed=5464358, lr_factor=2, n_layers=1,\n",
    "    opt_config='standard', p_dropout=0.0, ssm_lr_base=0.001, ssm_size_base=64,\n",
    "    warmup_end=0, weight_decay=0.05, cosine_anneal=False)\n",
    "\n",
    "train(args)"
   ]
  },
  {
   "cell_type": "code",
   "execution_count": 3,
   "id": "1ba504b6-d250-4304-83d5-d883980f5732",
   "metadata": {},
   "outputs": [
    {
     "data": {
      "image/png": "[encoded data removed]",
      "text/plain": [
       "<Figure size 1000x400 with 10 Axes>"
      ]
     },
     "metadata": {},
     "output_type": "display_data"
    },
    {
     "data": {
      "image/png": "[encoded data removed]",
      "text/plain": [
       "<Figure size 300x250 with 1 Axes>"
      ]
     },
     "metadata": {},
     "output_type": "display_data"
    }
   ],
   "source": [
    "from disp import colors\n",
    "\n",
    "# load results\n",
    "fig, axs = plt.subplots(2, 5, figsize=(10, 4), tight_layout=True)\n",
    "\n",
    "train_losses = []\n",
    "val_losses = []\n",
    "\n",
    "for cepoch, ax in enumerate(axs.flatten()):\n",
    "    data = np.load(f'epochs_clf/epoch_{cepoch}.npy', allow_pickle=True)[0]\n",
    "    \n",
    "    targs = data['val_targ']\n",
    "    preds = data['val_pred']\n",
    "    \n",
    "    acc = np.mean(targs == preds.argmax(1))\n",
    "    \n",
    "    labels = np.sort(np.unique(targs))\n",
    "    y_ticks = []\n",
    "    \n",
    "    for clabel_0, label_0 in enumerate(labels):\n",
    "        for clabel_1, label_1 in enumerate(labels):\n",
    "            logits = preds[targs==label_0, clabel_1]\n",
    "            display_jitter = .02*np.random.randn(len(logits))\n",
    "            ax.scatter(logits, np.zeros(len(logits)) + clabel_0 + .8*clabel_1/len(labels) + display_jitter, c=colors[clabel_1], s=5)\n",
    "            \n",
    "        y_ticks.append(clabel_0 + .2)\n",
    "    \n",
    "    set_plot(ax, y_ticks=y_ticks, y_tick_labels=labels, x_label='Logits', y_label='True label', title=f'Epoch {cepoch+1} (acc {acc:.2f})')\n",
    "    \n",
    "    train_losses.append(data['train_loss'])\n",
    "    val_losses.append(data['val_loss'])\n",
    "    \n",
    "fig, ax = plt.subplots(1, 1, figsize=(3, 2.5), tight_layout=True)\n",
    "ax.plot(train_losses, c='b')\n",
    "ax.plot(val_losses, c='orange')\n",
    "ax.legend(['Train', 'Val'])\n",
    "set_plot(ax, x_label='Epoch', y_label='Loss')"
   ]
  },
  {
   "cell_type": "markdown",
   "id": "2fcb909e-dea3-4ff8-8a96-2882d319778c",
   "metadata": {},
   "source": [
    "# Regression test"
   ]
  },
  {
   "cell_type": "code",
   "execution_count": 4,
   "id": "fc9403d1-54ae-49fc-9623-1547bcd4041b",
   "metadata": {},
   "outputs": [
    {
     "name": "stdout",
     "output_type": "stream",
     "text": [
      "Deleting saved epoch files from epochs_rgr...\n",
      "[*] Setting Randomness...\n",
      "[*] Generating Token Sequence Regression Dataset\n"
     ]
    },
    {
     "data": {
      "application/vnd.jupyter.widget-view+json": {
       "model_id": "f759f9f15e3f45ec96185a3a4f037d83",
       "version_major": 2,
       "version_minor": 0
      },
      "text/plain": [
       "Downloading data files:   0%|          | 0/3 [00:00<?, ?it/s]"
      ]
     },
     "metadata": {},
     "output_type": "display_data"
    },
    {
     "data": {
      "application/vnd.jupyter.widget-view+json": {
       "model_id": "fee16a9936654bfc81649c6e3bebafe2",
       "version_major": 2,
       "version_minor": 0
      },
      "text/plain": [
       "Extracting data files:   0%|          | 0/3 [00:00<?, ?it/s]"
      ]
     },
     "metadata": {},
     "output_type": "display_data"
    },
    {
     "data": {
      "application/vnd.jupyter.widget-view+json": {
       "model_id": "588dee1604a14a7bb730d463246ff79e",
       "version_major": 2,
       "version_minor": 0
      },
      "text/plain": [
       "Generating train split: 0 examples [00:00, ? examples/s]"
      ]
     },
     "metadata": {},
     "output_type": "display_data"
    },
    {
     "name": "stderr",
     "output_type": "stream",
     "text": [
      "/home/rp21/.conda/envs/s5-gpu-test/lib/python3.11/site-packages/datasets/download/streaming_download_manager.py:765: FutureWarning: The 'verbose' keyword in pd.read_csv is deprecated and will be removed in a future version.\n",
      "  return pd.read_csv(xopen(filepath_or_buffer, \"rb\", download_config=download_config), **kwargs)\n"
     ]
    },
    {
     "data": {
      "application/vnd.jupyter.widget-view+json": {
       "model_id": "e32300950c4540de873b3837aa931758",
       "version_major": 2,
       "version_minor": 0
      },
      "text/plain": [
       "Generating val split: 0 examples [00:00, ? examples/s]"
      ]
     },
     "metadata": {},
     "output_type": "display_data"
    },
    {
     "name": "stderr",
     "output_type": "stream",
     "text": [
      "/home/rp21/.conda/envs/s5-gpu-test/lib/python3.11/site-packages/datasets/download/streaming_download_manager.py:765: FutureWarning: The 'verbose' keyword in pd.read_csv is deprecated and will be removed in a future version.\n",
      "  return pd.read_csv(xopen(filepath_or_buffer, \"rb\", download_config=download_config), **kwargs)\n"
     ]
    },
    {
     "data": {
      "application/vnd.jupyter.widget-view+json": {
       "model_id": "431b947f09f34de79638e0fb180b0174",
       "version_major": 2,
       "version_minor": 0
      },
      "text/plain": [
       "Generating test split: 0 examples [00:00, ? examples/s]"
      ]
     },
     "metadata": {},
     "output_type": "display_data"
    },
    {
     "name": "stderr",
     "output_type": "stream",
     "text": [
      "/home/rp21/.conda/envs/s5-gpu-test/lib/python3.11/site-packages/datasets/download/streaming_download_manager.py:765: FutureWarning: The 'verbose' keyword in pd.read_csv is deprecated and will be removed in a future version.\n",
      "  return pd.read_csv(xopen(filepath_or_buffer, \"rb\", download_config=download_config), **kwargs)\n"
     ]
    },
    {
     "data": {
      "application/vnd.jupyter.widget-view+json": {
       "model_id": "e887dada1bd34970a9887b7135b5bfa0",
       "version_major": 2,
       "version_minor": 0
      },
      "text/plain": [
       "Casting the dataset:   0%|          | 0/800 [00:00<?, ? examples/s]"
      ]
     },
     "metadata": {},
     "output_type": "display_data"
    },
    {
     "data": {
      "application/vnd.jupyter.widget-view+json": {
       "model_id": "f6892cbf89ce42f2af97d2400030a5da",
       "version_major": 2,
       "version_minor": 0
      },
      "text/plain": [
       "Casting the dataset:   0%|          | 0/200 [00:00<?, ? examples/s]"
      ]
     },
     "metadata": {},
     "output_type": "display_data"
    },
    {
     "data": {
      "application/vnd.jupyter.widget-view+json": {
       "model_id": "9d25495c6fa245d49507f7fee85a3cf3",
       "version_major": 2,
       "version_minor": 0
      },
      "text/plain": [
       "Casting the dataset:   0%|          | 0/200 [00:00<?, ? examples/s]"
      ]
     },
     "metadata": {},
     "output_type": "display_data"
    },
    {
     "data": {
      "application/vnd.jupyter.widget-view+json": {
       "model_id": "e8bc653ed45241e0b34f8bcd90af7f1a",
       "version_major": 2,
       "version_minor": 0
      },
      "text/plain": [
       "Map:   0%|          | 0/800 [00:00<?, ? examples/s]"
      ]
     },
     "metadata": {},
     "output_type": "display_data"
    },
    {
     "data": {
      "application/vnd.jupyter.widget-view+json": {
       "model_id": "b67aaa98d3bd44b0be5ced426c3b6925",
       "version_major": 2,
       "version_minor": 0
      },
      "text/plain": [
       "Map:   0%|          | 0/200 [00:00<?, ? examples/s]"
      ]
     },
     "metadata": {},
     "output_type": "display_data"
    },
    {
     "data": {
      "application/vnd.jupyter.widget-view+json": {
       "model_id": "8b3bef13144e4ea49f02035c0de3363f",
       "version_major": 2,
       "version_minor": 0
      },
      "text/plain": [
       "Map:   0%|          | 0/200 [00:00<?, ? examples/s]"
      ]
     },
     "metadata": {},
     "output_type": "display_data"
    },
    {
     "data": {
      "application/vnd.jupyter.widget-view+json": {
       "model_id": "3b6cac0293af4cdca679efc567ec71d5",
       "version_major": 2,
       "version_minor": 0
      },
      "text/plain": [
       "Map:   0%|          | 0/800 [00:00<?, ? examples/s]"
      ]
     },
     "metadata": {},
     "output_type": "display_data"
    },
    {
     "data": {
      "application/vnd.jupyter.widget-view+json": {
       "model_id": "a69cd81f4f184cbdad429fe1c6e404a7",
       "version_major": 2,
       "version_minor": 0
      },
      "text/plain": [
       "Map:   0%|          | 0/200 [00:00<?, ? examples/s]"
      ]
     },
     "metadata": {},
     "output_type": "display_data"
    },
    {
     "data": {
      "application/vnd.jupyter.widget-view+json": {
       "model_id": "9db5a41e9b4e4683b53b395e41880a3e",
       "version_major": 2,
       "version_minor": 0
      },
      "text/plain": [
       "Map:   0%|          | 0/200 [00:00<?, ? examples/s]"
      ]
     },
     "metadata": {},
     "output_type": "display_data"
    },
    {
     "data": {
      "application/vnd.jupyter.widget-view+json": {
       "model_id": "6612a68aeffd4e56a744082bc37956b2",
       "version_major": 2,
       "version_minor": 0
      },
      "text/plain": [
       "Saving the dataset (0/1 shards):   0%|          | 0/800 [00:00<?, ? examples/s]"
      ]
     },
     "metadata": {},
     "output_type": "display_data"
    },
    {
     "data": {
      "application/vnd.jupyter.widget-view+json": {
       "model_id": "2702f840b00c4def89dfe000cfd4047c",
       "version_major": 2,
       "version_minor": 0
      },
      "text/plain": [
       "Saving the dataset (0/1 shards):   0%|          | 0/200 [00:00<?, ? examples/s]"
      ]
     },
     "metadata": {},
     "output_type": "display_data"
    },
    {
     "data": {
      "application/vnd.jupyter.widget-view+json": {
       "model_id": "018e93db7129492c99254b64ae5ce87e",
       "version_major": 2,
       "version_minor": 0
      },
      "text/plain": [
       "Saving the dataset (0/1 shards):   0%|          | 0/200 [00:00<?, ? examples/s]"
      ]
     },
     "metadata": {},
     "output_type": "display_data"
    },
    {
     "name": "stdout",
     "output_type": "stream",
     "text": [
      "Vocab size: 6\n",
      "[*] Starting S5 rgr_token training on `ultralight/rgr` =>> Initializing...\n",
      "Lambda.shape=(32,)\n",
      "V.shape=(64, 32)\n",
      "Vinv.shape=(32, 64)\n"
     ]
    },
    {
     "name": "stderr",
     "output_type": "stream",
     "text": [
      "/scratch/gpfs/rp21/s5-della/s5/train_helpers.py:244: FutureWarning: jax.tree_leaves is deprecated, and will be removed in a future release. Use jax.tree_util.tree_leaves instead.\n",
      "  print(f\"[*] Trainable Parameters: {sum(jax.tree_leaves(param_sizes))}\")\n"
     ]
    },
    {
     "name": "stdout",
     "output_type": "stream",
     "text": [
      "configuring standard optimization setup\n",
      "[*] Trainable Parameters: 1793\n",
      "[*] Starting Training Epoch 1...\n",
      "using constant lr for epoch 1\n"
     ]
    },
    {
     "name": "stderr",
     "output_type": "stream",
     "text": [
      "100%|██████████| 25/25 [00:08<00:00,  3.02it/s]\n"
     ]
    },
    {
     "name": "stdout",
     "output_type": "stream",
     "text": [
      "[*] Running Epoch 1 Validation...\n"
     ]
    },
    {
     "name": "stderr",
     "output_type": "stream",
     "text": [
      "100%|██████████| 7/7 [00:06<00:00,  1.05it/s]\n"
     ]
    },
    {
     "name": "stdout",
     "output_type": "stream",
     "text": [
      "[*] Running Epoch 1 Test...\n"
     ]
    },
    {
     "name": "stderr",
     "output_type": "stream",
     "text": [
      "100%|██████████| 7/7 [00:00<00:00, 378.43it/s]\n"
     ]
    },
    {
     "name": "stdout",
     "output_type": "stream",
     "text": [
      "\n",
      "=>> Epoch 1 Metrics ===\n",
      "\tTrain Loss: 3.99491 -- Val Loss: 0.66527 --Test Loss: 0.66527 -- Val Accuracy: nan -- Test Accuracy: nan\n",
      "\tBest Val Loss: 0.66527 -- Best Val Accuracy: -100000000.0000 at Epoch 1\n",
      "\tBest Test Loss: 100000000.00000 -- Best Test Accuracy: -10000.0000 at Epoch 1\n",
      "\n",
      "[*] Starting Training Epoch 2...\n",
      "using constant lr for epoch 2\n"
     ]
    },
    {
     "name": "stderr",
     "output_type": "stream",
     "text": [
      "100%|██████████| 25/25 [00:00<00:00, 49.39it/s]\n"
     ]
    },
    {
     "name": "stdout",
     "output_type": "stream",
     "text": [
      "[*] Running Epoch 2 Validation...\n"
     ]
    },
    {
     "name": "stderr",
     "output_type": "stream",
     "text": [
      "100%|██████████| 7/7 [00:00<00:00, 400.96it/s]\n"
     ]
    },
    {
     "name": "stdout",
     "output_type": "stream",
     "text": [
      "[*] Running Epoch 2 Test...\n"
     ]
    },
    {
     "name": "stderr",
     "output_type": "stream",
     "text": [
      "100%|██████████| 7/7 [00:00<00:00, 305.40it/s]\n"
     ]
    },
    {
     "name": "stdout",
     "output_type": "stream",
     "text": [
      "\n",
      "=>> Epoch 2 Metrics ===\n",
      "\tTrain Loss: 0.66853 -- Val Loss: 0.79810 --Test Loss: 0.79810 -- Val Accuracy: nan -- Test Accuracy: nan\n",
      "\tBest Val Loss: 0.66527 -- Best Val Accuracy: -100000000.0000 at Epoch 1\n",
      "\tBest Test Loss: 100000000.00000 -- Best Test Accuracy: -10000.0000 at Epoch 1\n",
      "\n",
      "[*] Starting Training Epoch 3...\n",
      "using constant lr for epoch 3\n"
     ]
    },
    {
     "name": "stderr",
     "output_type": "stream",
     "text": [
      "100%|██████████| 25/25 [00:00<00:00, 51.28it/s]\n"
     ]
    },
    {
     "name": "stdout",
     "output_type": "stream",
     "text": [
      "[*] Running Epoch 3 Validation...\n"
     ]
    },
    {
     "name": "stderr",
     "output_type": "stream",
     "text": [
      "100%|██████████| 7/7 [00:00<00:00, 406.62it/s]\n"
     ]
    },
    {
     "name": "stdout",
     "output_type": "stream",
     "text": [
      "[*] Running Epoch 3 Test...\n"
     ]
    },
    {
     "name": "stderr",
     "output_type": "stream",
     "text": [
      "100%|██████████| 7/7 [00:00<00:00, 311.79it/s]\n"
     ]
    },
    {
     "name": "stdout",
     "output_type": "stream",
     "text": [
      "\n",
      "=>> Epoch 3 Metrics ===\n",
      "\tTrain Loss: 0.43268 -- Val Loss: 1.23398 --Test Loss: 1.23398 -- Val Accuracy: nan -- Test Accuracy: nan\n",
      "\tBest Val Loss: 0.66527 -- Best Val Accuracy: -100000000.0000 at Epoch 1\n",
      "\tBest Test Loss: 100000000.00000 -- Best Test Accuracy: -10000.0000 at Epoch 1\n",
      "\n",
      "[*] Starting Training Epoch 4...\n",
      "using constant lr for epoch 4\n"
     ]
    },
    {
     "name": "stderr",
     "output_type": "stream",
     "text": [
      "100%|██████████| 25/25 [00:00<00:00, 51.33it/s]\n"
     ]
    },
    {
     "name": "stdout",
     "output_type": "stream",
     "text": [
      "[*] Running Epoch 4 Validation...\n"
     ]
    },
    {
     "name": "stderr",
     "output_type": "stream",
     "text": [
      "100%|██████████| 7/7 [00:00<00:00, 406.48it/s]\n"
     ]
    },
    {
     "name": "stdout",
     "output_type": "stream",
     "text": [
      "[*] Running Epoch 4 Test...\n"
     ]
    },
    {
     "name": "stderr",
     "output_type": "stream",
     "text": [
      "100%|██████████| 7/7 [00:00<00:00, 307.03it/s]\n"
     ]
    },
    {
     "name": "stdout",
     "output_type": "stream",
     "text": [
      "\n",
      "=>> Epoch 4 Metrics ===\n",
      "\tTrain Loss: 0.33547 -- Val Loss: 1.97340 --Test Loss: 1.97340 -- Val Accuracy: nan -- Test Accuracy: nan\n",
      "\tBest Val Loss: 0.66527 -- Best Val Accuracy: -100000000.0000 at Epoch 1\n",
      "\tBest Test Loss: 100000000.00000 -- Best Test Accuracy: -10000.0000 at Epoch 1\n",
      "\n",
      "[*] Starting Training Epoch 5...\n",
      "using constant lr for epoch 5\n"
     ]
    },
    {
     "name": "stderr",
     "output_type": "stream",
     "text": [
      "100%|██████████| 25/25 [00:00<00:00, 51.62it/s]\n"
     ]
    },
    {
     "name": "stdout",
     "output_type": "stream",
     "text": [
      "[*] Running Epoch 5 Validation...\n"
     ]
    },
    {
     "name": "stderr",
     "output_type": "stream",
     "text": [
      "100%|██████████| 7/7 [00:00<00:00, 408.08it/s]\n"
     ]
    },
    {
     "name": "stdout",
     "output_type": "stream",
     "text": [
      "[*] Running Epoch 5 Test...\n"
     ]
    },
    {
     "name": "stderr",
     "output_type": "stream",
     "text": [
      "100%|██████████| 7/7 [00:00<00:00, 307.44it/s]\n"
     ]
    },
    {
     "name": "stdout",
     "output_type": "stream",
     "text": [
      "\n",
      "=>> Epoch 5 Metrics ===\n",
      "\tTrain Loss: 0.24872 -- Val Loss: 2.30225 --Test Loss: 2.30225 -- Val Accuracy: nan -- Test Accuracy: nan\n",
      "\tBest Val Loss: 0.66527 -- Best Val Accuracy: -100000000.0000 at Epoch 1\n",
      "\tBest Test Loss: 100000000.00000 -- Best Test Accuracy: -10000.0000 at Epoch 1\n",
      "\n",
      "[*] Starting Training Epoch 6...\n",
      "using constant lr for epoch 6\n"
     ]
    },
    {
     "name": "stderr",
     "output_type": "stream",
     "text": [
      "100%|██████████| 25/25 [00:00<00:00, 51.64it/s]\n"
     ]
    },
    {
     "name": "stdout",
     "output_type": "stream",
     "text": [
      "[*] Running Epoch 6 Validation...\n"
     ]
    },
    {
     "name": "stderr",
     "output_type": "stream",
     "text": [
      "100%|██████████| 7/7 [00:00<00:00, 406.98it/s]\n"
     ]
    },
    {
     "name": "stdout",
     "output_type": "stream",
     "text": [
      "[*] Running Epoch 6 Test...\n"
     ]
    },
    {
     "name": "stderr",
     "output_type": "stream",
     "text": [
      "100%|██████████| 7/7 [00:00<00:00, 306.85it/s]\n"
     ]
    },
    {
     "name": "stdout",
     "output_type": "stream",
     "text": [
      "\n",
      "=>> Epoch 6 Metrics ===\n",
      "\tTrain Loss: 0.24540 -- Val Loss: 1.38666 --Test Loss: 1.38666 -- Val Accuracy: nan -- Test Accuracy: nan\n",
      "\tBest Val Loss: 0.66527 -- Best Val Accuracy: -100000000.0000 at Epoch 1\n",
      "\tBest Test Loss: 100000000.00000 -- Best Test Accuracy: -10000.0000 at Epoch 1\n",
      "\n",
      "[*] Starting Training Epoch 7...\n",
      "using constant lr for epoch 7\n"
     ]
    },
    {
     "name": "stderr",
     "output_type": "stream",
     "text": [
      "100%|██████████| 25/25 [00:00<00:00, 51.73it/s]\n"
     ]
    },
    {
     "name": "stdout",
     "output_type": "stream",
     "text": [
      "[*] Running Epoch 7 Validation...\n"
     ]
    },
    {
     "name": "stderr",
     "output_type": "stream",
     "text": [
      "100%|██████████| 7/7 [00:00<00:00, 408.57it/s]\n"
     ]
    },
    {
     "name": "stdout",
     "output_type": "stream",
     "text": [
      "[*] Running Epoch 7 Test...\n"
     ]
    },
    {
     "name": "stderr",
     "output_type": "stream",
     "text": [
      "100%|██████████| 7/7 [00:00<00:00, 306.04it/s]\n"
     ]
    },
    {
     "name": "stdout",
     "output_type": "stream",
     "text": [
      "\n",
      "=>> Epoch 7 Metrics ===\n",
      "\tTrain Loss: 0.16243 -- Val Loss: 0.84982 --Test Loss: 0.84982 -- Val Accuracy: nan -- Test Accuracy: nan\n",
      "\tBest Val Loss: 0.66527 -- Best Val Accuracy: -100000000.0000 at Epoch 1\n",
      "\tBest Test Loss: 100000000.00000 -- Best Test Accuracy: -10000.0000 at Epoch 1\n",
      "\n",
      "[*] Starting Training Epoch 8...\n",
      "using constant lr for epoch 8\n"
     ]
    },
    {
     "name": "stderr",
     "output_type": "stream",
     "text": [
      "100%|██████████| 25/25 [00:00<00:00, 51.68it/s]\n"
     ]
    },
    {
     "name": "stdout",
     "output_type": "stream",
     "text": [
      "[*] Running Epoch 8 Validation...\n"
     ]
    },
    {
     "name": "stderr",
     "output_type": "stream",
     "text": [
      "100%|██████████| 7/7 [00:00<00:00, 402.24it/s]\n"
     ]
    },
    {
     "name": "stdout",
     "output_type": "stream",
     "text": [
      "[*] Running Epoch 8 Test...\n"
     ]
    },
    {
     "name": "stderr",
     "output_type": "stream",
     "text": [
      "100%|██████████| 7/7 [00:00<00:00, 304.54it/s]\n"
     ]
    },
    {
     "name": "stdout",
     "output_type": "stream",
     "text": [
      "\n",
      "=>> Epoch 8 Metrics ===\n",
      "\tTrain Loss: 0.20440 -- Val Loss: 0.20862 --Test Loss: 0.20862 -- Val Accuracy: nan -- Test Accuracy: nan\n",
      "\tBest Val Loss: 0.20862 -- Best Val Accuracy: -100000000.0000 at Epoch 1\n",
      "\tBest Test Loss: 100000000.00000 -- Best Test Accuracy: -10000.0000 at Epoch 1\n",
      "\n",
      "[*] Starting Training Epoch 9...\n",
      "using constant lr for epoch 9\n"
     ]
    },
    {
     "name": "stderr",
     "output_type": "stream",
     "text": [
      "100%|██████████| 25/25 [00:00<00:00, 51.14it/s]\n"
     ]
    },
    {
     "name": "stdout",
     "output_type": "stream",
     "text": [
      "[*] Running Epoch 9 Validation...\n"
     ]
    },
    {
     "name": "stderr",
     "output_type": "stream",
     "text": [
      "100%|██████████| 7/7 [00:00<00:00, 403.32it/s]\n"
     ]
    },
    {
     "name": "stdout",
     "output_type": "stream",
     "text": [
      "[*] Running Epoch 9 Test...\n"
     ]
    },
    {
     "name": "stderr",
     "output_type": "stream",
     "text": [
      "100%|██████████| 7/7 [00:00<00:00, 309.63it/s]\n"
     ]
    },
    {
     "name": "stdout",
     "output_type": "stream",
     "text": [
      "\n",
      "=>> Epoch 9 Metrics ===\n",
      "\tTrain Loss: 0.20871 -- Val Loss: 0.12382 --Test Loss: 0.12382 -- Val Accuracy: nan -- Test Accuracy: nan\n",
      "\tBest Val Loss: 0.12382 -- Best Val Accuracy: -100000000.0000 at Epoch 1\n",
      "\tBest Test Loss: 100000000.00000 -- Best Test Accuracy: -10000.0000 at Epoch 1\n",
      "\n",
      "[*] Starting Training Epoch 10...\n",
      "using constant lr for epoch 10\n"
     ]
    },
    {
     "name": "stderr",
     "output_type": "stream",
     "text": [
      "100%|██████████| 25/25 [00:00<00:00, 51.75it/s]\n"
     ]
    },
    {
     "name": "stdout",
     "output_type": "stream",
     "text": [
      "[*] Running Epoch 10 Validation...\n"
     ]
    },
    {
     "name": "stderr",
     "output_type": "stream",
     "text": [
      "100%|██████████| 7/7 [00:00<00:00, 408.97it/s]\n"
     ]
    },
    {
     "name": "stdout",
     "output_type": "stream",
     "text": [
      "[*] Running Epoch 10 Test...\n"
     ]
    },
    {
     "name": "stderr",
     "output_type": "stream",
     "text": [
      "100%|██████████| 7/7 [00:00<00:00, 304.11it/s]\n"
     ]
    },
    {
     "name": "stdout",
     "output_type": "stream",
     "text": [
      "\n",
      "=>> Epoch 10 Metrics ===\n",
      "\tTrain Loss: 0.14713 -- Val Loss: 0.03340 --Test Loss: 0.03340 -- Val Accuracy: nan -- Test Accuracy: nan\n",
      "\tBest Val Loss: 0.03340 -- Best Val Accuracy: -100000000.0000 at Epoch 1\n",
      "\tBest Test Loss: 100000000.00000 -- Best Test Accuracy: -10000.0000 at Epoch 1\n",
      "\n",
      "[*] Starting Training Epoch 11...\n",
      "using constant lr for epoch 11\n"
     ]
    },
    {
     "name": "stderr",
     "output_type": "stream",
     "text": [
      "100%|██████████| 25/25 [00:00<00:00, 51.59it/s]\n"
     ]
    },
    {
     "name": "stdout",
     "output_type": "stream",
     "text": [
      "[*] Running Epoch 11 Validation...\n"
     ]
    },
    {
     "name": "stderr",
     "output_type": "stream",
     "text": [
      "100%|██████████| 7/7 [00:00<00:00, 407.68it/s]\n"
     ]
    },
    {
     "name": "stdout",
     "output_type": "stream",
     "text": [
      "[*] Running Epoch 11 Test...\n"
     ]
    },
    {
     "name": "stderr",
     "output_type": "stream",
     "text": [
      "100%|██████████| 7/7 [00:00<00:00, 306.74it/s]\n"
     ]
    },
    {
     "name": "stdout",
     "output_type": "stream",
     "text": [
      "\n",
      "=>> Epoch 11 Metrics ===\n",
      "\tTrain Loss: 0.17771 -- Val Loss: 0.08676 --Test Loss: 0.08676 -- Val Accuracy: nan -- Test Accuracy: nan\n",
      "\tBest Val Loss: 0.03340 -- Best Val Accuracy: -100000000.0000 at Epoch 1\n",
      "\tBest Test Loss: 100000000.00000 -- Best Test Accuracy: -10000.0000 at Epoch 1\n",
      "\n",
      "[*] Starting Training Epoch 12...\n",
      "using constant lr for epoch 12\n"
     ]
    },
    {
     "name": "stderr",
     "output_type": "stream",
     "text": [
      "100%|██████████| 25/25 [00:00<00:00, 51.74it/s]\n"
     ]
    },
    {
     "name": "stdout",
     "output_type": "stream",
     "text": [
      "[*] Running Epoch 12 Validation...\n"
     ]
    },
    {
     "name": "stderr",
     "output_type": "stream",
     "text": [
      "100%|██████████| 7/7 [00:00<00:00, 409.17it/s]\n"
     ]
    },
    {
     "name": "stdout",
     "output_type": "stream",
     "text": [
      "[*] Running Epoch 12 Test...\n"
     ]
    },
    {
     "name": "stderr",
     "output_type": "stream",
     "text": [
      "100%|██████████| 7/7 [00:00<00:00, 303.57it/s]\n"
     ]
    },
    {
     "name": "stdout",
     "output_type": "stream",
     "text": [
      "\n",
      "=>> Epoch 12 Metrics ===\n",
      "\tTrain Loss: 0.09736 -- Val Loss: 0.05999 --Test Loss: 0.05999 -- Val Accuracy: nan -- Test Accuracy: nan\n",
      "\tBest Val Loss: 0.03340 -- Best Val Accuracy: -100000000.0000 at Epoch 1\n",
      "\tBest Test Loss: 100000000.00000 -- Best Test Accuracy: -10000.0000 at Epoch 1\n",
      "\n",
      "[*] Starting Training Epoch 13...\n",
      "using constant lr for epoch 13\n"
     ]
    },
    {
     "name": "stderr",
     "output_type": "stream",
     "text": [
      "100%|██████████| 25/25 [00:00<00:00, 51.73it/s]\n"
     ]
    },
    {
     "name": "stdout",
     "output_type": "stream",
     "text": [
      "[*] Running Epoch 13 Validation...\n"
     ]
    },
    {
     "name": "stderr",
     "output_type": "stream",
     "text": [
      "100%|██████████| 7/7 [00:00<00:00, 404.84it/s]\n"
     ]
    },
    {
     "name": "stdout",
     "output_type": "stream",
     "text": [
      "[*] Running Epoch 13 Test...\n"
     ]
    },
    {
     "name": "stderr",
     "output_type": "stream",
     "text": [
      "100%|██████████| 7/7 [00:00<00:00, 304.89it/s]\n"
     ]
    },
    {
     "name": "stdout",
     "output_type": "stream",
     "text": [
      "\n",
      "=>> Epoch 13 Metrics ===\n",
      "\tTrain Loss: 0.09663 -- Val Loss: 0.04169 --Test Loss: 0.04169 -- Val Accuracy: nan -- Test Accuracy: nan\n",
      "\tBest Val Loss: 0.03340 -- Best Val Accuracy: -100000000.0000 at Epoch 1\n",
      "\tBest Test Loss: 100000000.00000 -- Best Test Accuracy: -10000.0000 at Epoch 1\n",
      "\n",
      "[*] Starting Training Epoch 14...\n",
      "using constant lr for epoch 14\n"
     ]
    },
    {
     "name": "stderr",
     "output_type": "stream",
     "text": [
      "100%|██████████| 25/25 [00:00<00:00, 51.71it/s]\n"
     ]
    },
    {
     "name": "stdout",
     "output_type": "stream",
     "text": [
      "[*] Running Epoch 14 Validation...\n"
     ]
    },
    {
     "name": "stderr",
     "output_type": "stream",
     "text": [
      "100%|██████████| 7/7 [00:00<00:00, 409.78it/s]\n"
     ]
    },
    {
     "name": "stdout",
     "output_type": "stream",
     "text": [
      "[*] Running Epoch 14 Test...\n"
     ]
    },
    {
     "name": "stderr",
     "output_type": "stream",
     "text": [
      "100%|██████████| 7/7 [00:00<00:00, 306.98it/s]\n"
     ]
    },
    {
     "name": "stdout",
     "output_type": "stream",
     "text": [
      "\n",
      "=>> Epoch 14 Metrics ===\n",
      "\tTrain Loss: 0.12613 -- Val Loss: 0.14622 --Test Loss: 0.14622 -- Val Accuracy: nan -- Test Accuracy: nan\n",
      "\tBest Val Loss: 0.03340 -- Best Val Accuracy: -100000000.0000 at Epoch 1\n",
      "\tBest Test Loss: 100000000.00000 -- Best Test Accuracy: -10000.0000 at Epoch 1\n",
      "\n",
      "[*] Starting Training Epoch 15...\n",
      "using constant lr for epoch 15\n"
     ]
    },
    {
     "name": "stderr",
     "output_type": "stream",
     "text": [
      "100%|██████████| 25/25 [00:00<00:00, 51.47it/s]\n"
     ]
    },
    {
     "name": "stdout",
     "output_type": "stream",
     "text": [
      "[*] Running Epoch 15 Validation...\n"
     ]
    },
    {
     "name": "stderr",
     "output_type": "stream",
     "text": [
      "100%|██████████| 7/7 [00:00<00:00, 403.46it/s]\n"
     ]
    },
    {
     "name": "stdout",
     "output_type": "stream",
     "text": [
      "[*] Running Epoch 15 Test...\n"
     ]
    },
    {
     "name": "stderr",
     "output_type": "stream",
     "text": [
      "100%|██████████| 7/7 [00:00<00:00, 305.59it/s]\n"
     ]
    },
    {
     "name": "stdout",
     "output_type": "stream",
     "text": [
      "\n",
      "=>> Epoch 15 Metrics ===\n",
      "\tTrain Loss: 0.13020 -- Val Loss: 0.04896 --Test Loss: 0.04896 -- Val Accuracy: nan -- Test Accuracy: nan\n",
      "\tBest Val Loss: 0.03340 -- Best Val Accuracy: -100000000.0000 at Epoch 1\n",
      "\tBest Test Loss: 100000000.00000 -- Best Test Accuracy: -10000.0000 at Epoch 1\n",
      "\n",
      "[*] Starting Training Epoch 16...\n",
      "using constant lr for epoch 16\n"
     ]
    },
    {
     "name": "stderr",
     "output_type": "stream",
     "text": [
      "100%|██████████| 25/25 [00:00<00:00, 51.46it/s]\n"
     ]
    },
    {
     "name": "stdout",
     "output_type": "stream",
     "text": [
      "[*] Running Epoch 16 Validation...\n"
     ]
    },
    {
     "name": "stderr",
     "output_type": "stream",
     "text": [
      "100%|██████████| 7/7 [00:00<00:00, 404.27it/s]\n"
     ]
    },
    {
     "name": "stdout",
     "output_type": "stream",
     "text": [
      "[*] Running Epoch 16 Test...\n"
     ]
    },
    {
     "name": "stderr",
     "output_type": "stream",
     "text": [
      "100%|██████████| 7/7 [00:00<00:00, 308.93it/s]\n"
     ]
    },
    {
     "name": "stdout",
     "output_type": "stream",
     "text": [
      "\n",
      "=>> Epoch 16 Metrics ===\n",
      "\tTrain Loss: 0.19211 -- Val Loss: 0.23943 --Test Loss: 0.23943 -- Val Accuracy: nan -- Test Accuracy: nan\n",
      "\tBest Val Loss: 0.03340 -- Best Val Accuracy: -100000000.0000 at Epoch 1\n",
      "\tBest Test Loss: 100000000.00000 -- Best Test Accuracy: -10000.0000 at Epoch 1\n",
      "\n",
      "[*] Starting Training Epoch 17...\n",
      "using constant lr for epoch 17\n"
     ]
    },
    {
     "name": "stderr",
     "output_type": "stream",
     "text": [
      "100%|██████████| 25/25 [00:00<00:00, 51.41it/s]\n"
     ]
    },
    {
     "name": "stdout",
     "output_type": "stream",
     "text": [
      "[*] Running Epoch 17 Validation...\n"
     ]
    },
    {
     "name": "stderr",
     "output_type": "stream",
     "text": [
      "100%|██████████| 7/7 [00:00<00:00, 406.39it/s]\n"
     ]
    },
    {
     "name": "stdout",
     "output_type": "stream",
     "text": [
      "[*] Running Epoch 17 Test...\n"
     ]
    },
    {
     "name": "stderr",
     "output_type": "stream",
     "text": [
      "100%|██████████| 7/7 [00:00<00:00, 311.45it/s]\n"
     ]
    },
    {
     "name": "stdout",
     "output_type": "stream",
     "text": [
      "\n",
      "=>> Epoch 17 Metrics ===\n",
      "\tTrain Loss: 0.09465 -- Val Loss: 0.06609 --Test Loss: 0.06609 -- Val Accuracy: nan -- Test Accuracy: nan\n",
      "\tBest Val Loss: 0.03340 -- Best Val Accuracy: -100000000.0000 at Epoch 1\n",
      "\tBest Test Loss: 100000000.00000 -- Best Test Accuracy: -10000.0000 at Epoch 1\n",
      "\n",
      "[*] Starting Training Epoch 18...\n",
      "using constant lr for epoch 18\n"
     ]
    },
    {
     "name": "stderr",
     "output_type": "stream",
     "text": [
      "100%|██████████| 25/25 [00:00<00:00, 51.59it/s]\n"
     ]
    },
    {
     "name": "stdout",
     "output_type": "stream",
     "text": [
      "[*] Running Epoch 18 Validation...\n"
     ]
    },
    {
     "name": "stderr",
     "output_type": "stream",
     "text": [
      "100%|██████████| 7/7 [00:00<00:00, 409.10it/s]\n"
     ]
    },
    {
     "name": "stdout",
     "output_type": "stream",
     "text": [
      "[*] Running Epoch 18 Test...\n"
     ]
    },
    {
     "name": "stderr",
     "output_type": "stream",
     "text": [
      "100%|██████████| 7/7 [00:00<00:00, 304.82it/s]\n"
     ]
    },
    {
     "name": "stdout",
     "output_type": "stream",
     "text": [
      "\n",
      "=>> Epoch 18 Metrics ===\n",
      "\tTrain Loss: 0.07157 -- Val Loss: 0.05646 --Test Loss: 0.05646 -- Val Accuracy: nan -- Test Accuracy: nan\n",
      "\tBest Val Loss: 0.03340 -- Best Val Accuracy: -100000000.0000 at Epoch 1\n",
      "\tBest Test Loss: 100000000.00000 -- Best Test Accuracy: -10000.0000 at Epoch 1\n",
      "\n",
      "[*] Starting Training Epoch 19...\n",
      "using constant lr for epoch 19\n"
     ]
    },
    {
     "name": "stderr",
     "output_type": "stream",
     "text": [
      "100%|██████████| 25/25 [00:00<00:00, 51.70it/s]\n"
     ]
    },
    {
     "name": "stdout",
     "output_type": "stream",
     "text": [
      "[*] Running Epoch 19 Validation...\n"
     ]
    },
    {
     "name": "stderr",
     "output_type": "stream",
     "text": [
      "100%|██████████| 7/7 [00:00<00:00, 407.99it/s]\n"
     ]
    },
    {
     "name": "stdout",
     "output_type": "stream",
     "text": [
      "[*] Running Epoch 19 Test...\n"
     ]
    },
    {
     "name": "stderr",
     "output_type": "stream",
     "text": [
      "100%|██████████| 7/7 [00:00<00:00, 303.13it/s]\n"
     ]
    },
    {
     "name": "stdout",
     "output_type": "stream",
     "text": [
      "\n",
      "=>> Epoch 19 Metrics ===\n",
      "\tTrain Loss: 0.06035 -- Val Loss: 0.12916 --Test Loss: 0.12916 -- Val Accuracy: nan -- Test Accuracy: nan\n",
      "\tBest Val Loss: 0.03340 -- Best Val Accuracy: -100000000.0000 at Epoch 1\n",
      "\tBest Test Loss: 100000000.00000 -- Best Test Accuracy: -10000.0000 at Epoch 1\n",
      "\n",
      "[*] Starting Training Epoch 20...\n",
      "using constant lr for epoch 20\n"
     ]
    },
    {
     "name": "stderr",
     "output_type": "stream",
     "text": [
      "100%|██████████| 25/25 [00:00<00:00, 51.67it/s]\n"
     ]
    },
    {
     "name": "stdout",
     "output_type": "stream",
     "text": [
      "[*] Running Epoch 20 Validation...\n"
     ]
    },
    {
     "name": "stderr",
     "output_type": "stream",
     "text": [
      "100%|██████████| 7/7 [00:00<00:00, 410.30it/s]\n"
     ]
    },
    {
     "name": "stdout",
     "output_type": "stream",
     "text": [
      "[*] Running Epoch 20 Test...\n"
     ]
    },
    {
     "name": "stderr",
     "output_type": "stream",
     "text": [
      "100%|██████████| 7/7 [00:00<00:00, 302.24it/s]\n"
     ]
    },
    {
     "name": "stdout",
     "output_type": "stream",
     "text": [
      "\n",
      "=>> Epoch 20 Metrics ===\n",
      "\tTrain Loss: 0.08319 -- Val Loss: 0.06781 --Test Loss: 0.06781 -- Val Accuracy: nan -- Test Accuracy: nan\n",
      "\tBest Val Loss: 0.03340 -- Best Val Accuracy: -100000000.0000 at Epoch 1\n",
      "\tBest Test Loss: 100000000.00000 -- Best Test Accuracy: -10000.0000 at Epoch 1\n",
      "\n"
     ]
    }
   ],
   "source": [
    "DATA_DIR = 'ultralight/rgr'\n",
    "# DATA_DIR = os.path.join(DATA_DIR, 'scrambled')  # use scrambled data (control)\n",
    "\n",
    "args = TrainArgs(\n",
    "    C_init='trunc_standard_normal', batchnorm=True, bidirectional=True,\n",
    "    epoch_save_dir=\"epochs_rgr\", save_training=1, \n",
    "    blocks=16, bsz=32, d_model=8, clear_cache=True, data_dir=DATA_DIR,\n",
    "    problem_type='rgr_token', dt_global=True, epochs=20, jax_seed=5464358, lr_factor=2, n_layers=1,\n",
    "    opt_config='standard', p_dropout=0.0, ssm_lr_base=0.001, ssm_size_base=64,\n",
    "    warmup_end=0, weight_decay=0.05, cosine_anneal=False)\n",
    "\n",
    "train(args)"
   ]
  },
  {
   "cell_type": "code",
   "execution_count": 5,
   "id": "5dbcc9dc-199d-4dba-840d-c72ba5849d50",
   "metadata": {},
   "outputs": [
    {
     "data": {
      "image/png": "[encoded data removed]",
      "text/plain": [
       "<Figure size 1000x800 with 20 Axes>"
      ]
     },
     "metadata": {},
     "output_type": "display_data"
    },
    {
     "data": {
      "image/png": "[encoded data removed]",
      "text/plain": [
       "<Figure size 300x250 with 1 Axes>"
      ]
     },
     "metadata": {},
     "output_type": "display_data"
    }
   ],
   "source": [
    "# load results\n",
    "fig, axs = plt.subplots(4, 5, figsize=(10, 8), tight_layout=True)\n",
    "\n",
    "train_losses = []\n",
    "val_losses = []\n",
    "\n",
    "for cepoch, ax in enumerate(axs.flatten()):\n",
    "    data = np.load(f'epochs_rgr/epoch_{cepoch}.npy', allow_pickle=True)[0]\n",
    "    \n",
    "    targs = data['val_targ']\n",
    "    preds = data['val_pred']\n",
    "    \n",
    "    ax.scatter(preds, targs, c='k', s=1)\n",
    "    \n",
    "    set_plot(ax, x_label='Prediction', y_label='Target', title=f'Epoch {cepoch+1}')\n",
    "    \n",
    "    train_losses.append(data['train_loss'])\n",
    "    val_losses.append(data['val_loss'])\n",
    "    \n",
    "fig, ax = plt.subplots(1, 1, figsize=(3, 2.5), tight_layout=True)\n",
    "ax.plot(train_losses, c='b')\n",
    "ax.plot(val_losses, c='orange')\n",
    "ax.legend(['Train', 'Val'])\n",
    "set_plot(ax, x_label='Epoch', y_label='Loss')"
   ]
  },
  {
   "cell_type": "code",
   "execution_count": null,
   "id": "1b585077-3511-4df6-96c9-615f0561b4b0",
   "metadata": {},
   "outputs": [],
   "source": []
  }
 ],
 "metadata": {
  "kernelspec": {
   "display_name": "s5-gpu-test [~/.conda/envs/s5-gpu-test/]",
   "language": "python",
   "name": "conda_s5-gpu-test"
  },
  "language_info": {
   "codemirror_mode": {
    "name": "ipython",
    "version": 3
   },
   "file_extension": ".py",
   "mimetype": "text/x-python",
   "name": "python",
   "nbconvert_exporter": "python",
   "pygments_lexer": "ipython3",
   "version": "3.11.8"
  }
 },
 "nbformat": 4,
 "nbformat_minor": 5
}
